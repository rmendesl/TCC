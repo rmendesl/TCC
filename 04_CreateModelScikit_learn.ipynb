{
  "nbformat": 4,
  "nbformat_minor": 0,
  "metadata": {
    "colab": {
      "name": "04 - CreateModelScikit-learn.ipynb",
      "provenance": [],
      "collapsed_sections": [],
      "authorship_tag": "ABX9TyOo4IlQJsLQ/+MI40faa8V/",
      "include_colab_link": true
    },
    "kernelspec": {
      "name": "python3",
      "display_name": "Python 3"
    }
  },
  "cells": [
    {
      "cell_type": "markdown",
      "metadata": {
        "id": "view-in-github",
        "colab_type": "text"
      },
      "source": [
        "<a href=\"https://colab.research.google.com/github/rmendesl/TCC/blob/master/04_CreateModelScikit_learn.ipynb\" target=\"_parent\"><img src=\"https://colab.research.google.com/assets/colab-badge.svg\" alt=\"Open In Colab\"/></a>"
      ]
    },
    {
      "cell_type": "markdown",
      "metadata": {
        "id": "ZfUK3Zfg9nul",
        "colab_type": "text"
      },
      "source": [
        "# Criando o Modelo - Supervisionado\n",
        "\n",
        "Primeiramente, devemos distinguir 4 tipos de tarefas de aprendizagem de máquina:\n",
        "* Aprendizagem supervisionada;\n",
        "* Aprendizagem não-supervisionada;\n",
        "* Aprendizagem semi-supervisionada;\n",
        "* Aprendizagem por reforço;\n",
        "\n",
        "Nosso modelo será o supervisionado, aprendizagem supervisionada é a tarefa de encontrar uma função a partir de dados de treinamento rotulados. O objetivo é encontrar os parâmetros ótimos que ajustem um modelo que possa prever rótulos desconhecidos em outros objetos (o conjunto de teste). Se o rótulo é um número real, a tarefa chama-se regressão. Se o rótulo vem de um conjunto finito e não ordenado, então a tarefa chama-se classificação, essa última será a nossa tarefa.\n",
        "\n",
        "A classificação binária é uma técnica supervisionada de aprendizado de máquina, na qual o objetivo é prever rótulos de classe categóricos que sejam discretos e não monitorados, como Aprovado/Reprovado, Positivo/Negativo, Padrão/Não Padrão etc. Alguns casos de uso do mundo real para classificação estão listados abaixo : \n",
        "* Exames médicos para determinar se um paciente tem uma determinada doença ou não - a propriedade de classificação é a presença da doença. \n",
        "* Um método de teste \"aprovado ou reprovado\" ou controle de qualidade nas fábricas, ou seja, decidir se uma especificação foi ou não atendida - uma classificação de aprovação / não aprovação. \n",
        "* Recuperação de informações, ou seja, decidir se uma página ou um artigo deve estar no conjunto de resultados de uma pesquisa ou não - a propriedade de classificação é a relevância do artigo ou a utilidade para o usuário.\n",
        "\n",
        "Não iremos entrar nos detalhes dos demais tipos de aprendizagem, porém, segue abaixo algumas fontes para consulta.\n",
        "\n",
        "\n",
        "Fonte: https://medium.com/machina-sapiens/algoritmos-de-aprendizagem-de-m%C3%A1quina-qual-deles-escolher-67040ad68737\n",
        "\n",
        "Fonte: https://medium.com/@categitau/in-one-of-my-previous-posts-i-introduced-machine-learning-and-talked-about-the-two-most-common-c1ac6e18df16"
      ]
    },
    {
      "cell_type": "markdown",
      "metadata": {
        "id": "cvmg9RYB9urY",
        "colab_type": "text"
      },
      "source": [
        "## Scikit-learn"
      ]
    },
    {
      "cell_type": "markdown",
      "metadata": {
        "id": "9UlZaNT4-B16",
        "colab_type": "text"
      },
      "source": [
        "A [Scikit-learn](https://scikit-learn.org/stable/index.html) é a mais popular biblioteca de aprendizado de máquina de código aberto que suporta aprendizado supervisionado e não supervisionado. Ele também fornece várias ferramentas para ajuste de modelo, pré-processamento de dados, seleção e avaliação de modelo e muitos outros utilitários.\n",
        "\n",
        "Este projeto foi iniciado em 2007 como um projeto do Google Summer of Code por David Cournapeau. Mais tarde naquele ano, Matthieu Brucher começou a trabalhar nesse projeto como parte de sua tese. Em 2010, Fabian Pedregosa, Gael Varoquaux, Alexandre Gramfort e Vincent Michel do INRIA assumiram a liderança do projeto e fizeram o primeiro lançamento público, 1º de fevereiro de 2010. Desde então, vários lançamentos apareceram após um ciclo de 3 meses e uma próspero comunidade internacional tem liderado o desenvolvimento.\n",
        "\n",
        "O processo de tomada de decisão e a estrutura de governança do scikit-learn são apresentados no [documento de governança.](https://scikit-learn.org/stable/governance.html#governance)\n",
        "\n",
        "GitHub: https://github.com/scikit-learn"
      ]
    },
    {
      "cell_type": "markdown",
      "metadata": {
        "id": "qIIUYz8cMkmM",
        "colab_type": "text"
      },
      "source": [
        "## Bibliotecas utilizadas"
      ]
    },
    {
      "cell_type": "markdown",
      "metadata": {
        "id": "Q21mo1dJMqht",
        "colab_type": "text"
      },
      "source": [
        "Referência para a bibioteca Pandas: https://pandas.pydata.org/docs/user_guide/index.html\n",
        "\n",
        "Referência para a biblioteca Numpy: https://numpy.org/doc/\n",
        "\n",
        "Referência para a biblioteca Seaborn: https://seaborn.pydata.org/tutorial.html\n",
        "\n",
        "Referência para a biblioteca Matplotlib: https://matplotlib.org/index.html"
      ]
    },
    {
      "cell_type": "code",
      "metadata": {
        "id": "PfDZfqQKAXpD",
        "colab_type": "code",
        "colab": {
          "base_uri": "https://localhost:8080/",
          "height": 51
        },
        "outputId": "2662e6aa-80ac-4740-b24f-f13b4d6ef162"
      },
      "source": [
        "# Importando os pacotes necessários\n",
        "import pandas as pd\n",
        "import numpy as np\n",
        "import matplotlib.pyplot as plt\n",
        "import seaborn as sns; sns.set()\n",
        "\n",
        "%matplotlib inline"
      ],
      "execution_count": 1,
      "outputs": [
        {
          "output_type": "stream",
          "text": [
            "/usr/local/lib/python3.6/dist-packages/statsmodels/tools/_testing.py:19: FutureWarning: pandas.util.testing is deprecated. Use the functions in the public API at pandas.testing instead.\n",
            "  import pandas.util.testing as tm\n"
          ],
          "name": "stderr"
        }
      ]
    },
    {
      "cell_type": "code",
      "metadata": {
        "id": "u4lAF-roUEGg",
        "colab_type": "code",
        "colab": {}
      },
      "source": [
        "# Configurando o tamanho da figura\n",
        "import matplotlib as mpl\n",
        "mpl.rcParams['figure.figsize'] = (8, 6)"
      ],
      "execution_count": 2,
      "outputs": []
    },
    {
      "cell_type": "markdown",
      "metadata": {
        "id": "cZFd4HPKRPKy",
        "colab_type": "text"
      },
      "source": [
        "## Carregando os dados"
      ]
    },
    {
      "cell_type": "markdown",
      "metadata": {
        "id": "_CJt5Df5RS_9",
        "colab_type": "text"
      },
      "source": [
        "### Montando o Drive do Google Drive"
      ]
    },
    {
      "cell_type": "code",
      "metadata": {
        "id": "ev3K36ZFRXat",
        "colab_type": "code",
        "colab": {}
      },
      "source": [
        "# Execute apenas se desejar fazer o upload do arquivo local para o seu Google Drive\n",
        "from google.colab import files\n",
        "files.upload()"
      ],
      "execution_count": null,
      "outputs": []
    },
    {
      "cell_type": "code",
      "metadata": {
        "id": "OqgfDRlqRYI7",
        "colab_type": "code",
        "colab": {
          "base_uri": "https://localhost:8080/",
          "height": 122
        },
        "outputId": "7514c9c0-c426-48db-81ad-3cb0a1b5af77"
      },
      "source": [
        "# Montando o drive do seu Google Drive\n",
        "from google.colab import drive\n",
        "drive.mount('/content/drive', force_remount=True)"
      ],
      "execution_count": 3,
      "outputs": [
        {
          "output_type": "stream",
          "text": [
            "Go to this URL in a browser: https://accounts.google.com/o/oauth2/auth?client_id=947318989803-6bn6qk8qdgf4n4g3pfee6491hc0brc4i.apps.googleusercontent.com&redirect_uri=urn%3aietf%3awg%3aoauth%3a2.0%3aoob&scope=email%20https%3a%2f%2fwww.googleapis.com%2fauth%2fdocs.test%20https%3a%2f%2fwww.googleapis.com%2fauth%2fdrive%20https%3a%2f%2fwww.googleapis.com%2fauth%2fdrive.photos.readonly%20https%3a%2f%2fwww.googleapis.com%2fauth%2fpeopleapi.readonly&response_type=code\n",
            "\n",
            "Enter your authorization code:\n",
            "··········\n",
            "Mounted at /content/drive\n"
          ],
          "name": "stdout"
        }
      ]
    },
    {
      "cell_type": "markdown",
      "metadata": {
        "id": "Ko_De4GlRepM",
        "colab_type": "text"
      },
      "source": [
        "### Carregando o arquivo para o dataframe\n",
        "\n",
        "Use apenas uma das duas opções abaixo:\n",
        "\n",
        "1.   Carregando direto do seu Google Drive;\n",
        "2.   Carregando direto do link compartilhado;"
      ]
    },
    {
      "cell_type": "markdown",
      "metadata": {
        "id": "hfZW8912RiJh",
        "colab_type": "text"
      },
      "source": [
        "Os dados para o modelo foram salvos em um arquivo CSV durante a etapa anterior.\n",
        "\n",
        "* `base_model.csv`"
      ]
    },
    {
      "cell_type": "code",
      "metadata": {
        "id": "6fcMvWF2Rozs",
        "colab_type": "code",
        "colab": {}
      },
      "source": [
        "# Troque o caminho root_path caso seu arquivo esteja em outra pasta em seu drive\n",
        "root_path = 'drive/My Drive/TCC/'\n",
        "data = 'base_model.csv'"
      ],
      "execution_count": 4,
      "outputs": []
    },
    {
      "cell_type": "markdown",
      "metadata": {
        "id": "3hG6_leBRrzQ",
        "colab_type": "text"
      },
      "source": [
        "\n",
        "\n",
        "---\n",
        "\n",
        "\n",
        "1. Carregando direto do seu Google Drive"
      ]
    },
    {
      "cell_type": "code",
      "metadata": {
        "id": "P2m7ey_2RyUs",
        "colab_type": "code",
        "colab": {}
      },
      "source": [
        "# Carregando os dados do arquivo CSV para o dataframe\n",
        "df_renovacao = pd.read_csv(root_path + data, sep='|')"
      ],
      "execution_count": null,
      "outputs": []
    },
    {
      "cell_type": "markdown",
      "metadata": {
        "id": "QNwjSrdzR2UI",
        "colab_type": "text"
      },
      "source": [
        "\n",
        "\n",
        "---\n",
        "\n",
        "\n",
        "2. Carregando direto do link compartilhado"
      ]
    },
    {
      "cell_type": "code",
      "metadata": {
        "id": "0GI4qpElR5Mo",
        "colab_type": "code",
        "colab": {}
      },
      "source": [
        "# Use o link abaixo para ter acesso direto ao arquivo\n",
        "link = \"https://drive.google.com/uc?export=download&id=1uUHyv-ieXXNbS2SQ4n2Oj_E5N-NeVWHd\"\n",
        "\n",
        "# Carregando os dados do arquivo CSV para o dataframe\n",
        "df_renovacao = pd.read_csv(link, sep='|')"
      ],
      "execution_count": 5,
      "outputs": []
    },
    {
      "cell_type": "markdown",
      "metadata": {
        "id": "sN1hLRBMR_6k",
        "colab_type": "text"
      },
      "source": [
        "\n",
        "\n",
        "---\n",
        "\n"
      ]
    },
    {
      "cell_type": "code",
      "metadata": {
        "id": "VdSyBUecSAio",
        "colab_type": "code",
        "colab": {
          "base_uri": "https://localhost:8080/",
          "height": 609
        },
        "outputId": "07dda9d2-6a2f-4be0-8350-9d4ec7225741"
      },
      "source": [
        "# Lendo os primeiros e últimos registros do dataframe\n",
        "df_renovacao"
      ],
      "execution_count": 6,
      "outputs": [
        {
          "output_type": "execute_result",
          "data": {
            "text/html": [
              "<div>\n",
              "<style scoped>\n",
              "    .dataframe tbody tr th:only-of-type {\n",
              "        vertical-align: middle;\n",
              "    }\n",
              "\n",
              "    .dataframe tbody tr th {\n",
              "        vertical-align: top;\n",
              "    }\n",
              "\n",
              "    .dataframe thead th {\n",
              "        text-align: right;\n",
              "    }\n",
              "</style>\n",
              "<table border=\"1\" class=\"dataframe\">\n",
              "  <thead>\n",
              "    <tr style=\"text-align: right;\">\n",
              "      <th></th>\n",
              "      <th>COD_MATRICULA</th>\n",
              "      <th>REMATRICULADO</th>\n",
              "      <th>TIPO_INADIMPLENCIA</th>\n",
              "      <th>RISCO_INADIMPLENCIA</th>\n",
              "      <th>CLASSE_PAGANTE_ANT</th>\n",
              "      <th>CLASSE_PAGANTE_ATU</th>\n",
              "      <th>NOVO_FIES</th>\n",
              "      <th>PRV_ANT</th>\n",
              "      <th>PRV_ATU</th>\n",
              "      <th>LATE_COMER</th>\n",
              "      <th>NOM_SITUACAO_ALUNO</th>\n",
              "      <th>VAL_A_PAGAR</th>\n",
              "      <th>VAL_A_PAGAR_PAR</th>\n",
              "      <th>VAL_DIVIDA_MENS</th>\n",
              "      <th>VAL_DIVIDA_TOTAL</th>\n",
              "      <th>FAIXA_DE_DIVIDA</th>\n",
              "      <th>ADIMP_N_REN</th>\n",
              "      <th>CR_PER_ANT</th>\n",
              "      <th>FAIXA_APROVACAO</th>\n",
              "      <th>QTD_ACESSOS_19_2</th>\n",
              "      <th>QTD_ACESSOS_20_1</th>\n",
              "      <th>IND_INDICIO_EVASAO</th>\n",
              "      <th>CLASSIFICACAO_PROP_EVASAO</th>\n",
              "      <th>CLASSIFICACAO_PROP_RENOVACAO</th>\n",
              "      <th>ACEITE_CONTRATO</th>\n",
              "      <th>REQ_AGEND_TRANC</th>\n",
              "      <th>SAFRA</th>\n",
              "    </tr>\n",
              "  </thead>\n",
              "  <tbody>\n",
              "    <tr>\n",
              "      <th>0</th>\n",
              "      <td>200701339023</td>\n",
              "      <td>0</td>\n",
              "      <td>ADIMPLENTE</td>\n",
              "      <td>SEM RISCO</td>\n",
              "      <td>MENSALISTA</td>\n",
              "      <td>MENSALISTA</td>\n",
              "      <td>NÃO</td>\n",
              "      <td>0</td>\n",
              "      <td>0</td>\n",
              "      <td>ON TIME COMER</td>\n",
              "      <td>Ativo</td>\n",
              "      <td>51.18</td>\n",
              "      <td>0.00</td>\n",
              "      <td>0.00</td>\n",
              "      <td>0.00</td>\n",
              "      <td>SEM DIVIDA</td>\n",
              "      <td>1</td>\n",
              "      <td>9.00</td>\n",
              "      <td>7 - 100%</td>\n",
              "      <td>32.0</td>\n",
              "      <td>21.0</td>\n",
              "      <td>0</td>\n",
              "      <td>1 - Alto</td>\n",
              "      <td>3 - Médio Baixo</td>\n",
              "      <td>0</td>\n",
              "      <td>0</td>\n",
              "      <td>VETERANO</td>\n",
              "    </tr>\n",
              "    <tr>\n",
              "      <th>1</th>\n",
              "      <td>200702198245</td>\n",
              "      <td>0</td>\n",
              "      <td>INADIMPLENTE SEM NEGOCIACAO</td>\n",
              "      <td>MEDIO RISCO</td>\n",
              "      <td>MENSALISTA</td>\n",
              "      <td>MENSALISTA</td>\n",
              "      <td>NÃO</td>\n",
              "      <td>0</td>\n",
              "      <td>0</td>\n",
              "      <td>ON TIME COMER</td>\n",
              "      <td>Ativo</td>\n",
              "      <td>0.00</td>\n",
              "      <td>0.00</td>\n",
              "      <td>3111.20</td>\n",
              "      <td>3111.20</td>\n",
              "      <td>&gt; 1500</td>\n",
              "      <td>0</td>\n",
              "      <td>5.91</td>\n",
              "      <td>4 - 41% A 60%</td>\n",
              "      <td>48.0</td>\n",
              "      <td>48.0</td>\n",
              "      <td>0</td>\n",
              "      <td>3 - Médio Baixo</td>\n",
              "      <td>4 - Baixo</td>\n",
              "      <td>1</td>\n",
              "      <td>0</td>\n",
              "      <td>CALOURO</td>\n",
              "    </tr>\n",
              "    <tr>\n",
              "      <th>2</th>\n",
              "      <td>200702198679</td>\n",
              "      <td>0</td>\n",
              "      <td>INADIMPLENTE SEM NEGOCIACAO</td>\n",
              "      <td>MEDIO RISCO</td>\n",
              "      <td>MENSALISTA</td>\n",
              "      <td>MENSALISTA</td>\n",
              "      <td>NÃO</td>\n",
              "      <td>0</td>\n",
              "      <td>0</td>\n",
              "      <td>ON TIME COMER</td>\n",
              "      <td>Ativo</td>\n",
              "      <td>0.00</td>\n",
              "      <td>0.00</td>\n",
              "      <td>3238.77</td>\n",
              "      <td>3238.77</td>\n",
              "      <td>&gt; 1500</td>\n",
              "      <td>0</td>\n",
              "      <td>5.27</td>\n",
              "      <td>3 - 21% A 40%</td>\n",
              "      <td>53.0</td>\n",
              "      <td>46.0</td>\n",
              "      <td>0</td>\n",
              "      <td>4 - Baixo</td>\n",
              "      <td>4 - Baixo</td>\n",
              "      <td>0</td>\n",
              "      <td>0</td>\n",
              "      <td>VETERANO</td>\n",
              "    </tr>\n",
              "    <tr>\n",
              "      <th>3</th>\n",
              "      <td>200801431011</td>\n",
              "      <td>1</td>\n",
              "      <td>ADIMPLENTE</td>\n",
              "      <td>SEM RISCO</td>\n",
              "      <td>MENSALISTA</td>\n",
              "      <td>MENSALISTA</td>\n",
              "      <td>NÃO</td>\n",
              "      <td>0</td>\n",
              "      <td>0</td>\n",
              "      <td>ON TIME COMER</td>\n",
              "      <td>Ativo</td>\n",
              "      <td>2521.12</td>\n",
              "      <td>0.00</td>\n",
              "      <td>0.00</td>\n",
              "      <td>0.00</td>\n",
              "      <td>SEM DIVIDA</td>\n",
              "      <td>0</td>\n",
              "      <td>9.89</td>\n",
              "      <td>7 - 100%</td>\n",
              "      <td>130.0</td>\n",
              "      <td>119.0</td>\n",
              "      <td>0</td>\n",
              "      <td>4 - Baixo</td>\n",
              "      <td>2 - Médio Alto</td>\n",
              "      <td>1</td>\n",
              "      <td>0</td>\n",
              "      <td>VETERANO</td>\n",
              "    </tr>\n",
              "    <tr>\n",
              "      <th>4</th>\n",
              "      <td>200901402225</td>\n",
              "      <td>1</td>\n",
              "      <td>ADIMPLENTE</td>\n",
              "      <td>BAIXO RISCO</td>\n",
              "      <td>MENSALISTA</td>\n",
              "      <td>MENSALISTA</td>\n",
              "      <td>NÃO</td>\n",
              "      <td>0</td>\n",
              "      <td>0</td>\n",
              "      <td>ON TIME COMER</td>\n",
              "      <td>Ativo</td>\n",
              "      <td>170.96</td>\n",
              "      <td>0.00</td>\n",
              "      <td>0.00</td>\n",
              "      <td>0.00</td>\n",
              "      <td>SEM DIVIDA</td>\n",
              "      <td>0</td>\n",
              "      <td>3.50</td>\n",
              "      <td>4 - 41% A 60%</td>\n",
              "      <td>125.0</td>\n",
              "      <td>70.0</td>\n",
              "      <td>0</td>\n",
              "      <td>00 - Não Escorado</td>\n",
              "      <td>00 - Não Escorado</td>\n",
              "      <td>1</td>\n",
              "      <td>0</td>\n",
              "      <td>VETERANO</td>\n",
              "    </tr>\n",
              "    <tr>\n",
              "      <th>...</th>\n",
              "      <td>...</td>\n",
              "      <td>...</td>\n",
              "      <td>...</td>\n",
              "      <td>...</td>\n",
              "      <td>...</td>\n",
              "      <td>...</td>\n",
              "      <td>...</td>\n",
              "      <td>...</td>\n",
              "      <td>...</td>\n",
              "      <td>...</td>\n",
              "      <td>...</td>\n",
              "      <td>...</td>\n",
              "      <td>...</td>\n",
              "      <td>...</td>\n",
              "      <td>...</td>\n",
              "      <td>...</td>\n",
              "      <td>...</td>\n",
              "      <td>...</td>\n",
              "      <td>...</td>\n",
              "      <td>...</td>\n",
              "      <td>...</td>\n",
              "      <td>...</td>\n",
              "      <td>...</td>\n",
              "      <td>...</td>\n",
              "      <td>...</td>\n",
              "      <td>...</td>\n",
              "      <td>...</td>\n",
              "    </tr>\n",
              "    <tr>\n",
              "      <th>2138</th>\n",
              "      <td>201912030837</td>\n",
              "      <td>1</td>\n",
              "      <td>ADIMPLENTE</td>\n",
              "      <td>BAIXO RISCO</td>\n",
              "      <td>MENSALISTA</td>\n",
              "      <td>MENSALISTA</td>\n",
              "      <td>NÃO</td>\n",
              "      <td>0</td>\n",
              "      <td>0</td>\n",
              "      <td>ON TIME COMER</td>\n",
              "      <td>Ativo</td>\n",
              "      <td>534.38</td>\n",
              "      <td>0.00</td>\n",
              "      <td>0.00</td>\n",
              "      <td>0.00</td>\n",
              "      <td>SEM DIVIDA</td>\n",
              "      <td>0</td>\n",
              "      <td>7.54</td>\n",
              "      <td>7 - 100%</td>\n",
              "      <td>143.0</td>\n",
              "      <td>133.0</td>\n",
              "      <td>0</td>\n",
              "      <td>4 - Baixo</td>\n",
              "      <td>3 - Médio Baixo</td>\n",
              "      <td>1</td>\n",
              "      <td>0</td>\n",
              "      <td>VETERANO</td>\n",
              "    </tr>\n",
              "    <tr>\n",
              "      <th>2139</th>\n",
              "      <td>201912030853</td>\n",
              "      <td>1</td>\n",
              "      <td>ADIMPLENTE</td>\n",
              "      <td>BAIXO RISCO</td>\n",
              "      <td>PAR</td>\n",
              "      <td>PAR</td>\n",
              "      <td>NÃO</td>\n",
              "      <td>0</td>\n",
              "      <td>0</td>\n",
              "      <td>ON TIME COMER</td>\n",
              "      <td>Ativo</td>\n",
              "      <td>1157.48</td>\n",
              "      <td>5.16</td>\n",
              "      <td>0.00</td>\n",
              "      <td>5.16</td>\n",
              "      <td>SEM DIVIDA</td>\n",
              "      <td>0</td>\n",
              "      <td>6.31</td>\n",
              "      <td>5 - 61% A 80%</td>\n",
              "      <td>64.0</td>\n",
              "      <td>42.0</td>\n",
              "      <td>0</td>\n",
              "      <td>2 - Médio Alto</td>\n",
              "      <td>3 - Médio Baixo</td>\n",
              "      <td>1</td>\n",
              "      <td>0</td>\n",
              "      <td>VETERANO</td>\n",
              "    </tr>\n",
              "    <tr>\n",
              "      <th>2140</th>\n",
              "      <td>201912030861</td>\n",
              "      <td>0</td>\n",
              "      <td>ADIMPLENTE</td>\n",
              "      <td>MEDIO RISCO</td>\n",
              "      <td>PAR</td>\n",
              "      <td>PAR</td>\n",
              "      <td>NÃO</td>\n",
              "      <td>0</td>\n",
              "      <td>0</td>\n",
              "      <td>ON TIME COMER</td>\n",
              "      <td>Trancado</td>\n",
              "      <td>0.00</td>\n",
              "      <td>4.88</td>\n",
              "      <td>0.00</td>\n",
              "      <td>0.00</td>\n",
              "      <td>SEM DIVIDA</td>\n",
              "      <td>0</td>\n",
              "      <td>7.43</td>\n",
              "      <td>7 - 100%</td>\n",
              "      <td>154.0</td>\n",
              "      <td>109.0</td>\n",
              "      <td>1</td>\n",
              "      <td>3 - Médio Baixo</td>\n",
              "      <td>3 - Médio Baixo</td>\n",
              "      <td>1</td>\n",
              "      <td>0</td>\n",
              "      <td>VETERANO</td>\n",
              "    </tr>\n",
              "    <tr>\n",
              "      <th>2141</th>\n",
              "      <td>201912030934</td>\n",
              "      <td>1</td>\n",
              "      <td>INADIMPLENTE COM NEGOCIACAO</td>\n",
              "      <td>BAIXO RISCO</td>\n",
              "      <td>PAR</td>\n",
              "      <td>PAR</td>\n",
              "      <td>NÃO</td>\n",
              "      <td>0</td>\n",
              "      <td>0</td>\n",
              "      <td>ON TIME COMER</td>\n",
              "      <td>Ativo</td>\n",
              "      <td>1486.82</td>\n",
              "      <td>606.04</td>\n",
              "      <td>0.00</td>\n",
              "      <td>489.79</td>\n",
              "      <td>SEM DIVIDA</td>\n",
              "      <td>0</td>\n",
              "      <td>6.14</td>\n",
              "      <td>7 - 100%</td>\n",
              "      <td>154.0</td>\n",
              "      <td>147.0</td>\n",
              "      <td>0</td>\n",
              "      <td>4 - Baixo</td>\n",
              "      <td>3 - Médio Baixo</td>\n",
              "      <td>1</td>\n",
              "      <td>0</td>\n",
              "      <td>VETERANO</td>\n",
              "    </tr>\n",
              "    <tr>\n",
              "      <th>2142</th>\n",
              "      <td>201912030951</td>\n",
              "      <td>1</td>\n",
              "      <td>INADIMPLENTE COM NEGOCIACAO</td>\n",
              "      <td>MEDIO RISCO</td>\n",
              "      <td>PAR</td>\n",
              "      <td>PAR</td>\n",
              "      <td>NÃO</td>\n",
              "      <td>0</td>\n",
              "      <td>0</td>\n",
              "      <td>ON TIME COMER</td>\n",
              "      <td>Ativo</td>\n",
              "      <td>1399.36</td>\n",
              "      <td>5.13</td>\n",
              "      <td>0.00</td>\n",
              "      <td>844.74</td>\n",
              "      <td>SEM DIVIDA</td>\n",
              "      <td>0</td>\n",
              "      <td>4.26</td>\n",
              "      <td>2 - 1% A 20%</td>\n",
              "      <td>57.0</td>\n",
              "      <td>65.0</td>\n",
              "      <td>0</td>\n",
              "      <td>2 - Médio Alto</td>\n",
              "      <td>3 - Médio Baixo</td>\n",
              "      <td>1</td>\n",
              "      <td>0</td>\n",
              "      <td>VETERANO</td>\n",
              "    </tr>\n",
              "  </tbody>\n",
              "</table>\n",
              "<p>2143 rows × 27 columns</p>\n",
              "</div>"
            ],
            "text/plain": [
              "      COD_MATRICULA  REMATRICULADO  ... REQ_AGEND_TRANC     SAFRA\n",
              "0      200701339023              0  ...               0  VETERANO\n",
              "1      200702198245              0  ...               0   CALOURO\n",
              "2      200702198679              0  ...               0  VETERANO\n",
              "3      200801431011              1  ...               0  VETERANO\n",
              "4      200901402225              1  ...               0  VETERANO\n",
              "...             ...            ...  ...             ...       ...\n",
              "2138   201912030837              1  ...               0  VETERANO\n",
              "2139   201912030853              1  ...               0  VETERANO\n",
              "2140   201912030861              0  ...               0  VETERANO\n",
              "2141   201912030934              1  ...               0  VETERANO\n",
              "2142   201912030951              1  ...               0  VETERANO\n",
              "\n",
              "[2143 rows x 27 columns]"
            ]
          },
          "metadata": {
            "tags": []
          },
          "execution_count": 6
        }
      ]
    },
    {
      "cell_type": "markdown",
      "metadata": {
        "id": "LboJUigWSUFr",
        "colab_type": "text"
      },
      "source": [
        "## Modelo de Classificação\n",
        "\n",
        "Referência: https://scikit-learn.org/stable/supervised_learning.html#supervised-learning"
      ]
    },
    {
      "cell_type": "markdown",
      "metadata": {
        "id": "-m1y2tnJTRoQ",
        "colab_type": "text"
      },
      "source": [
        "### Transformar as variáveis categóricas em numéricas para o modelo"
      ]
    },
    {
      "cell_type": "markdown",
      "metadata": {
        "id": "wRRZQcpeTZxb",
        "colab_type": "text"
      },
      "source": [
        "Nos projetos de machine learning, uma parte importante é a engenharia de features. É muito comum ver recursos categóricos em um conjunto de dados. No entanto, nosso algoritmo de aprendizado de máquina pode apenas ler valores numéricos. É essencial codificar recursos categóricos em valores numéricos. Para isso iremos usar um método de [Category Encoders](http://contrib.scikit-learn.org/category_encoders/).\n",
        "\n",
        "Essas são apenas algumas das maneiras diferentes de codificar recursos categóricos: \n",
        "\n",
        "1. LabelEncoder e OneHotEncoder \n",
        "2. OrdinalEncoder\n",
        "3. TargetEncoder\n",
        "4. DictVectorizer \n",
        "5. Pandas *get_dummies*\n",
        "\n",
        "Avaliaremos o **OneHotEncoder** em nosso projeto.\n",
        "\n",
        "O Category Encoders pode já vir instalado no Goggle Colab, porém iremos realizar a instalação com o parâmetro -U. Dessa forma, caso tenha alguma atualização, ela já será aplicada.\n",
        "\n",
        "`!pip install -U category_encoders`\n",
        "\n",
        "Caso o pacote não esteja instalado, execute o comando abaixo primeiro:\n",
        "\n",
        "`!pip install category_encoders`"
      ]
    },
    {
      "cell_type": "code",
      "metadata": {
        "id": "fhWNa6MHTnpK",
        "colab_type": "code",
        "colab": {
          "base_uri": "https://localhost:8080/",
          "height": 272
        },
        "outputId": "7a223605-b3d1-43df-be24-56d6336aba03"
      },
      "source": [
        "!pip install -U category_encoders"
      ],
      "execution_count": 7,
      "outputs": [
        {
          "output_type": "stream",
          "text": [
            "Collecting category_encoders\n",
            "\u001b[?25l  Downloading https://files.pythonhosted.org/packages/44/57/fcef41c248701ee62e8325026b90c432adea35555cbc870aff9cfba23727/category_encoders-2.2.2-py2.py3-none-any.whl (80kB)\n",
            "\r\u001b[K     |████                            | 10kB 15.3MB/s eta 0:00:01\r\u001b[K     |████████▏                       | 20kB 1.7MB/s eta 0:00:01\r\u001b[K     |████████████▏                   | 30kB 2.2MB/s eta 0:00:01\r\u001b[K     |████████████████▎               | 40kB 2.5MB/s eta 0:00:01\r\u001b[K     |████████████████████▎           | 51kB 2.0MB/s eta 0:00:01\r\u001b[K     |████████████████████████▍       | 61kB 2.2MB/s eta 0:00:01\r\u001b[K     |████████████████████████████▍   | 71kB 2.5MB/s eta 0:00:01\r\u001b[K     |████████████████████████████████| 81kB 2.1MB/s \n",
            "\u001b[?25hRequirement already satisfied, skipping upgrade: patsy>=0.5.1 in /usr/local/lib/python3.6/dist-packages (from category_encoders) (0.5.1)\n",
            "Requirement already satisfied, skipping upgrade: pandas>=0.21.1 in /usr/local/lib/python3.6/dist-packages (from category_encoders) (1.0.5)\n",
            "Requirement already satisfied, skipping upgrade: statsmodels>=0.9.0 in /usr/local/lib/python3.6/dist-packages (from category_encoders) (0.10.2)\n",
            "Requirement already satisfied, skipping upgrade: numpy>=1.14.0 in /usr/local/lib/python3.6/dist-packages (from category_encoders) (1.18.5)\n",
            "Requirement already satisfied, skipping upgrade: scipy>=1.0.0 in /usr/local/lib/python3.6/dist-packages (from category_encoders) (1.4.1)\n",
            "Requirement already satisfied, skipping upgrade: scikit-learn>=0.20.0 in /usr/local/lib/python3.6/dist-packages (from category_encoders) (0.22.2.post1)\n",
            "Requirement already satisfied, skipping upgrade: six in /usr/local/lib/python3.6/dist-packages (from patsy>=0.5.1->category_encoders) (1.15.0)\n",
            "Requirement already satisfied, skipping upgrade: pytz>=2017.2 in /usr/local/lib/python3.6/dist-packages (from pandas>=0.21.1->category_encoders) (2018.9)\n",
            "Requirement already satisfied, skipping upgrade: python-dateutil>=2.6.1 in /usr/local/lib/python3.6/dist-packages (from pandas>=0.21.1->category_encoders) (2.8.1)\n",
            "Requirement already satisfied, skipping upgrade: joblib>=0.11 in /usr/local/lib/python3.6/dist-packages (from scikit-learn>=0.20.0->category_encoders) (0.16.0)\n",
            "Installing collected packages: category-encoders\n",
            "Successfully installed category-encoders-2.2.2\n"
          ],
          "name": "stdout"
        }
      ]
    },
    {
      "cell_type": "markdown",
      "metadata": {
        "id": "S4LGzejiW9oc",
        "colab_type": "text"
      },
      "source": [
        "#### OneHotEncoder\n",
        "\n",
        "O OneHotEncoder é mais fácil de entender conceitualmente. Esse tipo de codificação simplesmente transforma cada valor categórico em uma nova coluna no dataset, o preenche essa nova coluna com um valor binário.\n",
        "\n",
        "Referência: http://contrib.scikit-learn.org/category_encoders/onehot.html"
      ]
    },
    {
      "cell_type": "code",
      "metadata": {
        "id": "wd_3ZrAeTr17",
        "colab_type": "code",
        "colab": {}
      },
      "source": [
        "# Importando o pacote necessário\n",
        "from category_encoders.one_hot import OneHotEncoder"
      ],
      "execution_count": 8,
      "outputs": []
    },
    {
      "cell_type": "code",
      "metadata": {
        "id": "il-LGxQfTusT",
        "colab_type": "code",
        "colab": {
          "base_uri": "https://localhost:8080/",
          "height": 456
        },
        "outputId": "d73ea112-ca88-433b-eeab-b0f9492929ad"
      },
      "source": [
        "# Primeiro precisamos extrair as variáveis categoricas \n",
        "col_categoricas = list(df_renovacao.select_dtypes(include=['object']).columns)\n",
        "\n",
        "# Inicializando OneHotEncoder\n",
        "ohe = OneHotEncoder(cols=col_categoricas, use_cat_names=True) \n",
        "\n",
        "# Aplicando o OneHotEncoder nas colunas de variáveis categóricas\n",
        "df_renovacao_ohe = ohe.fit_transform(df_renovacao)\n",
        "df_renovacao_ohe"
      ],
      "execution_count": 9,
      "outputs": [
        {
          "output_type": "execute_result",
          "data": {
            "text/html": [
              "<div>\n",
              "<style scoped>\n",
              "    .dataframe tbody tr th:only-of-type {\n",
              "        vertical-align: middle;\n",
              "    }\n",
              "\n",
              "    .dataframe tbody tr th {\n",
              "        vertical-align: top;\n",
              "    }\n",
              "\n",
              "    .dataframe thead th {\n",
              "        text-align: right;\n",
              "    }\n",
              "</style>\n",
              "<table border=\"1\" class=\"dataframe\">\n",
              "  <thead>\n",
              "    <tr style=\"text-align: right;\">\n",
              "      <th></th>\n",
              "      <th>COD_MATRICULA</th>\n",
              "      <th>REMATRICULADO</th>\n",
              "      <th>TIPO_INADIMPLENCIA_ADIMPLENTE</th>\n",
              "      <th>TIPO_INADIMPLENCIA_INADIMPLENTE SEM NEGOCIACAO</th>\n",
              "      <th>TIPO_INADIMPLENCIA_INADIMPLENTE COM NEGOCIACAO</th>\n",
              "      <th>RISCO_INADIMPLENCIA_SEM RISCO</th>\n",
              "      <th>RISCO_INADIMPLENCIA_MEDIO RISCO</th>\n",
              "      <th>RISCO_INADIMPLENCIA_BAIXO RISCO</th>\n",
              "      <th>RISCO_INADIMPLENCIA_ALTO RISCO</th>\n",
              "      <th>CLASSE_PAGANTE_ANT_MENSALISTA</th>\n",
              "      <th>CLASSE_PAGANTE_ANT_PROUNI</th>\n",
              "      <th>CLASSE_PAGANTE_ANT_FIES</th>\n",
              "      <th>CLASSE_PAGANTE_ANT_PAR</th>\n",
              "      <th>CLASSE_PAGANTE_ATU_MENSALISTA</th>\n",
              "      <th>CLASSE_PAGANTE_ATU_PROUNI</th>\n",
              "      <th>CLASSE_PAGANTE_ATU_FIES</th>\n",
              "      <th>CLASSE_PAGANTE_ATU_PAR</th>\n",
              "      <th>NOVO_FIES_NÃO</th>\n",
              "      <th>NOVO_FIES_SIM</th>\n",
              "      <th>PRV_ANT</th>\n",
              "      <th>PRV_ATU</th>\n",
              "      <th>LATE_COMER_ON TIME COMER</th>\n",
              "      <th>LATE_COMER_LATE COMER</th>\n",
              "      <th>NOM_SITUACAO_ALUNO_Ativo</th>\n",
              "      <th>NOM_SITUACAO_ALUNO_Trancado</th>\n",
              "      <th>NOM_SITUACAO_ALUNO_Transferido</th>\n",
              "      <th>VAL_A_PAGAR</th>\n",
              "      <th>VAL_A_PAGAR_PAR</th>\n",
              "      <th>VAL_DIVIDA_MENS</th>\n",
              "      <th>VAL_DIVIDA_TOTAL</th>\n",
              "      <th>FAIXA_DE_DIVIDA_SEM DIVIDA</th>\n",
              "      <th>FAIXA_DE_DIVIDA_&gt; 1500</th>\n",
              "      <th>FAIXA_DE_DIVIDA_1000-1500</th>\n",
              "      <th>FAIXA_DE_DIVIDA_300-500</th>\n",
              "      <th>FAIXA_DE_DIVIDA_100-300</th>\n",
              "      <th>FAIXA_DE_DIVIDA_750-1000</th>\n",
              "      <th>FAIXA_DE_DIVIDA_500-750</th>\n",
              "      <th>ADIMP_N_REN</th>\n",
              "      <th>CR_PER_ANT</th>\n",
              "      <th>FAIXA_APROVACAO_7 - 100%</th>\n",
              "      <th>FAIXA_APROVACAO_4 - 41% A 60%</th>\n",
              "      <th>FAIXA_APROVACAO_3 - 21% A 40%</th>\n",
              "      <th>FAIXA_APROVACAO_5 - 61% A 80%</th>\n",
              "      <th>FAIXA_APROVACAO_1 - 0%</th>\n",
              "      <th>FAIXA_APROVACAO_6 - 81% A 99%</th>\n",
              "      <th>FAIXA_APROVACAO_2 - 1% A 20%</th>\n",
              "      <th>QTD_ACESSOS_19_2</th>\n",
              "      <th>QTD_ACESSOS_20_1</th>\n",
              "      <th>IND_INDICIO_EVASAO</th>\n",
              "      <th>CLASSIFICACAO_PROP_EVASAO_1 - Alto</th>\n",
              "      <th>CLASSIFICACAO_PROP_EVASAO_3 - Médio Baixo</th>\n",
              "      <th>CLASSIFICACAO_PROP_EVASAO_4 - Baixo</th>\n",
              "      <th>CLASSIFICACAO_PROP_EVASAO_00 - Não Escorado</th>\n",
              "      <th>CLASSIFICACAO_PROP_EVASAO_2 - Médio Alto</th>\n",
              "      <th>CLASSIFICACAO_PROP_RENOVACAO_3 - Médio Baixo</th>\n",
              "      <th>CLASSIFICACAO_PROP_RENOVACAO_4 - Baixo</th>\n",
              "      <th>CLASSIFICACAO_PROP_RENOVACAO_2 - Médio Alto</th>\n",
              "      <th>CLASSIFICACAO_PROP_RENOVACAO_00 - Não Escorado</th>\n",
              "      <th>CLASSIFICACAO_PROP_RENOVACAO_1 - Alto</th>\n",
              "      <th>ACEITE_CONTRATO</th>\n",
              "      <th>REQ_AGEND_TRANC</th>\n",
              "      <th>SAFRA_VETERANO</th>\n",
              "      <th>SAFRA_CALOURO</th>\n",
              "    </tr>\n",
              "  </thead>\n",
              "  <tbody>\n",
              "    <tr>\n",
              "      <th>0</th>\n",
              "      <td>200701339023</td>\n",
              "      <td>0</td>\n",
              "      <td>1</td>\n",
              "      <td>0</td>\n",
              "      <td>0</td>\n",
              "      <td>1</td>\n",
              "      <td>0</td>\n",
              "      <td>0</td>\n",
              "      <td>0</td>\n",
              "      <td>1</td>\n",
              "      <td>0</td>\n",
              "      <td>0</td>\n",
              "      <td>0</td>\n",
              "      <td>1</td>\n",
              "      <td>0</td>\n",
              "      <td>0</td>\n",
              "      <td>0</td>\n",
              "      <td>1</td>\n",
              "      <td>0</td>\n",
              "      <td>0</td>\n",
              "      <td>0</td>\n",
              "      <td>1</td>\n",
              "      <td>0</td>\n",
              "      <td>1</td>\n",
              "      <td>0</td>\n",
              "      <td>0</td>\n",
              "      <td>51.18</td>\n",
              "      <td>0.00</td>\n",
              "      <td>0.00</td>\n",
              "      <td>0.00</td>\n",
              "      <td>1</td>\n",
              "      <td>0</td>\n",
              "      <td>0</td>\n",
              "      <td>0</td>\n",
              "      <td>0</td>\n",
              "      <td>0</td>\n",
              "      <td>0</td>\n",
              "      <td>1</td>\n",
              "      <td>9.00</td>\n",
              "      <td>1</td>\n",
              "      <td>0</td>\n",
              "      <td>0</td>\n",
              "      <td>0</td>\n",
              "      <td>0</td>\n",
              "      <td>0</td>\n",
              "      <td>0</td>\n",
              "      <td>32.0</td>\n",
              "      <td>21.0</td>\n",
              "      <td>0</td>\n",
              "      <td>1</td>\n",
              "      <td>0</td>\n",
              "      <td>0</td>\n",
              "      <td>0</td>\n",
              "      <td>0</td>\n",
              "      <td>1</td>\n",
              "      <td>0</td>\n",
              "      <td>0</td>\n",
              "      <td>0</td>\n",
              "      <td>0</td>\n",
              "      <td>0</td>\n",
              "      <td>0</td>\n",
              "      <td>1</td>\n",
              "      <td>0</td>\n",
              "    </tr>\n",
              "    <tr>\n",
              "      <th>1</th>\n",
              "      <td>200702198245</td>\n",
              "      <td>0</td>\n",
              "      <td>0</td>\n",
              "      <td>1</td>\n",
              "      <td>0</td>\n",
              "      <td>0</td>\n",
              "      <td>1</td>\n",
              "      <td>0</td>\n",
              "      <td>0</td>\n",
              "      <td>1</td>\n",
              "      <td>0</td>\n",
              "      <td>0</td>\n",
              "      <td>0</td>\n",
              "      <td>1</td>\n",
              "      <td>0</td>\n",
              "      <td>0</td>\n",
              "      <td>0</td>\n",
              "      <td>1</td>\n",
              "      <td>0</td>\n",
              "      <td>0</td>\n",
              "      <td>0</td>\n",
              "      <td>1</td>\n",
              "      <td>0</td>\n",
              "      <td>1</td>\n",
              "      <td>0</td>\n",
              "      <td>0</td>\n",
              "      <td>0.00</td>\n",
              "      <td>0.00</td>\n",
              "      <td>3111.20</td>\n",
              "      <td>3111.20</td>\n",
              "      <td>0</td>\n",
              "      <td>1</td>\n",
              "      <td>0</td>\n",
              "      <td>0</td>\n",
              "      <td>0</td>\n",
              "      <td>0</td>\n",
              "      <td>0</td>\n",
              "      <td>0</td>\n",
              "      <td>5.91</td>\n",
              "      <td>0</td>\n",
              "      <td>1</td>\n",
              "      <td>0</td>\n",
              "      <td>0</td>\n",
              "      <td>0</td>\n",
              "      <td>0</td>\n",
              "      <td>0</td>\n",
              "      <td>48.0</td>\n",
              "      <td>48.0</td>\n",
              "      <td>0</td>\n",
              "      <td>0</td>\n",
              "      <td>1</td>\n",
              "      <td>0</td>\n",
              "      <td>0</td>\n",
              "      <td>0</td>\n",
              "      <td>0</td>\n",
              "      <td>1</td>\n",
              "      <td>0</td>\n",
              "      <td>0</td>\n",
              "      <td>0</td>\n",
              "      <td>1</td>\n",
              "      <td>0</td>\n",
              "      <td>0</td>\n",
              "      <td>1</td>\n",
              "    </tr>\n",
              "    <tr>\n",
              "      <th>2</th>\n",
              "      <td>200702198679</td>\n",
              "      <td>0</td>\n",
              "      <td>0</td>\n",
              "      <td>1</td>\n",
              "      <td>0</td>\n",
              "      <td>0</td>\n",
              "      <td>1</td>\n",
              "      <td>0</td>\n",
              "      <td>0</td>\n",
              "      <td>1</td>\n",
              "      <td>0</td>\n",
              "      <td>0</td>\n",
              "      <td>0</td>\n",
              "      <td>1</td>\n",
              "      <td>0</td>\n",
              "      <td>0</td>\n",
              "      <td>0</td>\n",
              "      <td>1</td>\n",
              "      <td>0</td>\n",
              "      <td>0</td>\n",
              "      <td>0</td>\n",
              "      <td>1</td>\n",
              "      <td>0</td>\n",
              "      <td>1</td>\n",
              "      <td>0</td>\n",
              "      <td>0</td>\n",
              "      <td>0.00</td>\n",
              "      <td>0.00</td>\n",
              "      <td>3238.77</td>\n",
              "      <td>3238.77</td>\n",
              "      <td>0</td>\n",
              "      <td>1</td>\n",
              "      <td>0</td>\n",
              "      <td>0</td>\n",
              "      <td>0</td>\n",
              "      <td>0</td>\n",
              "      <td>0</td>\n",
              "      <td>0</td>\n",
              "      <td>5.27</td>\n",
              "      <td>0</td>\n",
              "      <td>0</td>\n",
              "      <td>1</td>\n",
              "      <td>0</td>\n",
              "      <td>0</td>\n",
              "      <td>0</td>\n",
              "      <td>0</td>\n",
              "      <td>53.0</td>\n",
              "      <td>46.0</td>\n",
              "      <td>0</td>\n",
              "      <td>0</td>\n",
              "      <td>0</td>\n",
              "      <td>1</td>\n",
              "      <td>0</td>\n",
              "      <td>0</td>\n",
              "      <td>0</td>\n",
              "      <td>1</td>\n",
              "      <td>0</td>\n",
              "      <td>0</td>\n",
              "      <td>0</td>\n",
              "      <td>0</td>\n",
              "      <td>0</td>\n",
              "      <td>1</td>\n",
              "      <td>0</td>\n",
              "    </tr>\n",
              "    <tr>\n",
              "      <th>3</th>\n",
              "      <td>200801431011</td>\n",
              "      <td>1</td>\n",
              "      <td>1</td>\n",
              "      <td>0</td>\n",
              "      <td>0</td>\n",
              "      <td>1</td>\n",
              "      <td>0</td>\n",
              "      <td>0</td>\n",
              "      <td>0</td>\n",
              "      <td>1</td>\n",
              "      <td>0</td>\n",
              "      <td>0</td>\n",
              "      <td>0</td>\n",
              "      <td>1</td>\n",
              "      <td>0</td>\n",
              "      <td>0</td>\n",
              "      <td>0</td>\n",
              "      <td>1</td>\n",
              "      <td>0</td>\n",
              "      <td>0</td>\n",
              "      <td>0</td>\n",
              "      <td>1</td>\n",
              "      <td>0</td>\n",
              "      <td>1</td>\n",
              "      <td>0</td>\n",
              "      <td>0</td>\n",
              "      <td>2521.12</td>\n",
              "      <td>0.00</td>\n",
              "      <td>0.00</td>\n",
              "      <td>0.00</td>\n",
              "      <td>1</td>\n",
              "      <td>0</td>\n",
              "      <td>0</td>\n",
              "      <td>0</td>\n",
              "      <td>0</td>\n",
              "      <td>0</td>\n",
              "      <td>0</td>\n",
              "      <td>0</td>\n",
              "      <td>9.89</td>\n",
              "      <td>1</td>\n",
              "      <td>0</td>\n",
              "      <td>0</td>\n",
              "      <td>0</td>\n",
              "      <td>0</td>\n",
              "      <td>0</td>\n",
              "      <td>0</td>\n",
              "      <td>130.0</td>\n",
              "      <td>119.0</td>\n",
              "      <td>0</td>\n",
              "      <td>0</td>\n",
              "      <td>0</td>\n",
              "      <td>1</td>\n",
              "      <td>0</td>\n",
              "      <td>0</td>\n",
              "      <td>0</td>\n",
              "      <td>0</td>\n",
              "      <td>1</td>\n",
              "      <td>0</td>\n",
              "      <td>0</td>\n",
              "      <td>1</td>\n",
              "      <td>0</td>\n",
              "      <td>1</td>\n",
              "      <td>0</td>\n",
              "    </tr>\n",
              "    <tr>\n",
              "      <th>4</th>\n",
              "      <td>200901402225</td>\n",
              "      <td>1</td>\n",
              "      <td>1</td>\n",
              "      <td>0</td>\n",
              "      <td>0</td>\n",
              "      <td>0</td>\n",
              "      <td>0</td>\n",
              "      <td>1</td>\n",
              "      <td>0</td>\n",
              "      <td>1</td>\n",
              "      <td>0</td>\n",
              "      <td>0</td>\n",
              "      <td>0</td>\n",
              "      <td>1</td>\n",
              "      <td>0</td>\n",
              "      <td>0</td>\n",
              "      <td>0</td>\n",
              "      <td>1</td>\n",
              "      <td>0</td>\n",
              "      <td>0</td>\n",
              "      <td>0</td>\n",
              "      <td>1</td>\n",
              "      <td>0</td>\n",
              "      <td>1</td>\n",
              "      <td>0</td>\n",
              "      <td>0</td>\n",
              "      <td>170.96</td>\n",
              "      <td>0.00</td>\n",
              "      <td>0.00</td>\n",
              "      <td>0.00</td>\n",
              "      <td>1</td>\n",
              "      <td>0</td>\n",
              "      <td>0</td>\n",
              "      <td>0</td>\n",
              "      <td>0</td>\n",
              "      <td>0</td>\n",
              "      <td>0</td>\n",
              "      <td>0</td>\n",
              "      <td>3.50</td>\n",
              "      <td>0</td>\n",
              "      <td>1</td>\n",
              "      <td>0</td>\n",
              "      <td>0</td>\n",
              "      <td>0</td>\n",
              "      <td>0</td>\n",
              "      <td>0</td>\n",
              "      <td>125.0</td>\n",
              "      <td>70.0</td>\n",
              "      <td>0</td>\n",
              "      <td>0</td>\n",
              "      <td>0</td>\n",
              "      <td>0</td>\n",
              "      <td>1</td>\n",
              "      <td>0</td>\n",
              "      <td>0</td>\n",
              "      <td>0</td>\n",
              "      <td>0</td>\n",
              "      <td>1</td>\n",
              "      <td>0</td>\n",
              "      <td>1</td>\n",
              "      <td>0</td>\n",
              "      <td>1</td>\n",
              "      <td>0</td>\n",
              "    </tr>\n",
              "    <tr>\n",
              "      <th>...</th>\n",
              "      <td>...</td>\n",
              "      <td>...</td>\n",
              "      <td>...</td>\n",
              "      <td>...</td>\n",
              "      <td>...</td>\n",
              "      <td>...</td>\n",
              "      <td>...</td>\n",
              "      <td>...</td>\n",
              "      <td>...</td>\n",
              "      <td>...</td>\n",
              "      <td>...</td>\n",
              "      <td>...</td>\n",
              "      <td>...</td>\n",
              "      <td>...</td>\n",
              "      <td>...</td>\n",
              "      <td>...</td>\n",
              "      <td>...</td>\n",
              "      <td>...</td>\n",
              "      <td>...</td>\n",
              "      <td>...</td>\n",
              "      <td>...</td>\n",
              "      <td>...</td>\n",
              "      <td>...</td>\n",
              "      <td>...</td>\n",
              "      <td>...</td>\n",
              "      <td>...</td>\n",
              "      <td>...</td>\n",
              "      <td>...</td>\n",
              "      <td>...</td>\n",
              "      <td>...</td>\n",
              "      <td>...</td>\n",
              "      <td>...</td>\n",
              "      <td>...</td>\n",
              "      <td>...</td>\n",
              "      <td>...</td>\n",
              "      <td>...</td>\n",
              "      <td>...</td>\n",
              "      <td>...</td>\n",
              "      <td>...</td>\n",
              "      <td>...</td>\n",
              "      <td>...</td>\n",
              "      <td>...</td>\n",
              "      <td>...</td>\n",
              "      <td>...</td>\n",
              "      <td>...</td>\n",
              "      <td>...</td>\n",
              "      <td>...</td>\n",
              "      <td>...</td>\n",
              "      <td>...</td>\n",
              "      <td>...</td>\n",
              "      <td>...</td>\n",
              "      <td>...</td>\n",
              "      <td>...</td>\n",
              "      <td>...</td>\n",
              "      <td>...</td>\n",
              "      <td>...</td>\n",
              "      <td>...</td>\n",
              "      <td>...</td>\n",
              "      <td>...</td>\n",
              "      <td>...</td>\n",
              "      <td>...</td>\n",
              "      <td>...</td>\n",
              "      <td>...</td>\n",
              "    </tr>\n",
              "    <tr>\n",
              "      <th>2138</th>\n",
              "      <td>201912030837</td>\n",
              "      <td>1</td>\n",
              "      <td>1</td>\n",
              "      <td>0</td>\n",
              "      <td>0</td>\n",
              "      <td>0</td>\n",
              "      <td>0</td>\n",
              "      <td>1</td>\n",
              "      <td>0</td>\n",
              "      <td>1</td>\n",
              "      <td>0</td>\n",
              "      <td>0</td>\n",
              "      <td>0</td>\n",
              "      <td>1</td>\n",
              "      <td>0</td>\n",
              "      <td>0</td>\n",
              "      <td>0</td>\n",
              "      <td>1</td>\n",
              "      <td>0</td>\n",
              "      <td>0</td>\n",
              "      <td>0</td>\n",
              "      <td>1</td>\n",
              "      <td>0</td>\n",
              "      <td>1</td>\n",
              "      <td>0</td>\n",
              "      <td>0</td>\n",
              "      <td>534.38</td>\n",
              "      <td>0.00</td>\n",
              "      <td>0.00</td>\n",
              "      <td>0.00</td>\n",
              "      <td>1</td>\n",
              "      <td>0</td>\n",
              "      <td>0</td>\n",
              "      <td>0</td>\n",
              "      <td>0</td>\n",
              "      <td>0</td>\n",
              "      <td>0</td>\n",
              "      <td>0</td>\n",
              "      <td>7.54</td>\n",
              "      <td>1</td>\n",
              "      <td>0</td>\n",
              "      <td>0</td>\n",
              "      <td>0</td>\n",
              "      <td>0</td>\n",
              "      <td>0</td>\n",
              "      <td>0</td>\n",
              "      <td>143.0</td>\n",
              "      <td>133.0</td>\n",
              "      <td>0</td>\n",
              "      <td>0</td>\n",
              "      <td>0</td>\n",
              "      <td>1</td>\n",
              "      <td>0</td>\n",
              "      <td>0</td>\n",
              "      <td>1</td>\n",
              "      <td>0</td>\n",
              "      <td>0</td>\n",
              "      <td>0</td>\n",
              "      <td>0</td>\n",
              "      <td>1</td>\n",
              "      <td>0</td>\n",
              "      <td>1</td>\n",
              "      <td>0</td>\n",
              "    </tr>\n",
              "    <tr>\n",
              "      <th>2139</th>\n",
              "      <td>201912030853</td>\n",
              "      <td>1</td>\n",
              "      <td>1</td>\n",
              "      <td>0</td>\n",
              "      <td>0</td>\n",
              "      <td>0</td>\n",
              "      <td>0</td>\n",
              "      <td>1</td>\n",
              "      <td>0</td>\n",
              "      <td>0</td>\n",
              "      <td>0</td>\n",
              "      <td>0</td>\n",
              "      <td>1</td>\n",
              "      <td>0</td>\n",
              "      <td>0</td>\n",
              "      <td>0</td>\n",
              "      <td>1</td>\n",
              "      <td>1</td>\n",
              "      <td>0</td>\n",
              "      <td>0</td>\n",
              "      <td>0</td>\n",
              "      <td>1</td>\n",
              "      <td>0</td>\n",
              "      <td>1</td>\n",
              "      <td>0</td>\n",
              "      <td>0</td>\n",
              "      <td>1157.48</td>\n",
              "      <td>5.16</td>\n",
              "      <td>0.00</td>\n",
              "      <td>5.16</td>\n",
              "      <td>1</td>\n",
              "      <td>0</td>\n",
              "      <td>0</td>\n",
              "      <td>0</td>\n",
              "      <td>0</td>\n",
              "      <td>0</td>\n",
              "      <td>0</td>\n",
              "      <td>0</td>\n",
              "      <td>6.31</td>\n",
              "      <td>0</td>\n",
              "      <td>0</td>\n",
              "      <td>0</td>\n",
              "      <td>1</td>\n",
              "      <td>0</td>\n",
              "      <td>0</td>\n",
              "      <td>0</td>\n",
              "      <td>64.0</td>\n",
              "      <td>42.0</td>\n",
              "      <td>0</td>\n",
              "      <td>0</td>\n",
              "      <td>0</td>\n",
              "      <td>0</td>\n",
              "      <td>0</td>\n",
              "      <td>1</td>\n",
              "      <td>1</td>\n",
              "      <td>0</td>\n",
              "      <td>0</td>\n",
              "      <td>0</td>\n",
              "      <td>0</td>\n",
              "      <td>1</td>\n",
              "      <td>0</td>\n",
              "      <td>1</td>\n",
              "      <td>0</td>\n",
              "    </tr>\n",
              "    <tr>\n",
              "      <th>2140</th>\n",
              "      <td>201912030861</td>\n",
              "      <td>0</td>\n",
              "      <td>1</td>\n",
              "      <td>0</td>\n",
              "      <td>0</td>\n",
              "      <td>0</td>\n",
              "      <td>1</td>\n",
              "      <td>0</td>\n",
              "      <td>0</td>\n",
              "      <td>0</td>\n",
              "      <td>0</td>\n",
              "      <td>0</td>\n",
              "      <td>1</td>\n",
              "      <td>0</td>\n",
              "      <td>0</td>\n",
              "      <td>0</td>\n",
              "      <td>1</td>\n",
              "      <td>1</td>\n",
              "      <td>0</td>\n",
              "      <td>0</td>\n",
              "      <td>0</td>\n",
              "      <td>1</td>\n",
              "      <td>0</td>\n",
              "      <td>0</td>\n",
              "      <td>1</td>\n",
              "      <td>0</td>\n",
              "      <td>0.00</td>\n",
              "      <td>4.88</td>\n",
              "      <td>0.00</td>\n",
              "      <td>0.00</td>\n",
              "      <td>1</td>\n",
              "      <td>0</td>\n",
              "      <td>0</td>\n",
              "      <td>0</td>\n",
              "      <td>0</td>\n",
              "      <td>0</td>\n",
              "      <td>0</td>\n",
              "      <td>0</td>\n",
              "      <td>7.43</td>\n",
              "      <td>1</td>\n",
              "      <td>0</td>\n",
              "      <td>0</td>\n",
              "      <td>0</td>\n",
              "      <td>0</td>\n",
              "      <td>0</td>\n",
              "      <td>0</td>\n",
              "      <td>154.0</td>\n",
              "      <td>109.0</td>\n",
              "      <td>1</td>\n",
              "      <td>0</td>\n",
              "      <td>1</td>\n",
              "      <td>0</td>\n",
              "      <td>0</td>\n",
              "      <td>0</td>\n",
              "      <td>1</td>\n",
              "      <td>0</td>\n",
              "      <td>0</td>\n",
              "      <td>0</td>\n",
              "      <td>0</td>\n",
              "      <td>1</td>\n",
              "      <td>0</td>\n",
              "      <td>1</td>\n",
              "      <td>0</td>\n",
              "    </tr>\n",
              "    <tr>\n",
              "      <th>2141</th>\n",
              "      <td>201912030934</td>\n",
              "      <td>1</td>\n",
              "      <td>0</td>\n",
              "      <td>0</td>\n",
              "      <td>1</td>\n",
              "      <td>0</td>\n",
              "      <td>0</td>\n",
              "      <td>1</td>\n",
              "      <td>0</td>\n",
              "      <td>0</td>\n",
              "      <td>0</td>\n",
              "      <td>0</td>\n",
              "      <td>1</td>\n",
              "      <td>0</td>\n",
              "      <td>0</td>\n",
              "      <td>0</td>\n",
              "      <td>1</td>\n",
              "      <td>1</td>\n",
              "      <td>0</td>\n",
              "      <td>0</td>\n",
              "      <td>0</td>\n",
              "      <td>1</td>\n",
              "      <td>0</td>\n",
              "      <td>1</td>\n",
              "      <td>0</td>\n",
              "      <td>0</td>\n",
              "      <td>1486.82</td>\n",
              "      <td>606.04</td>\n",
              "      <td>0.00</td>\n",
              "      <td>489.79</td>\n",
              "      <td>1</td>\n",
              "      <td>0</td>\n",
              "      <td>0</td>\n",
              "      <td>0</td>\n",
              "      <td>0</td>\n",
              "      <td>0</td>\n",
              "      <td>0</td>\n",
              "      <td>0</td>\n",
              "      <td>6.14</td>\n",
              "      <td>1</td>\n",
              "      <td>0</td>\n",
              "      <td>0</td>\n",
              "      <td>0</td>\n",
              "      <td>0</td>\n",
              "      <td>0</td>\n",
              "      <td>0</td>\n",
              "      <td>154.0</td>\n",
              "      <td>147.0</td>\n",
              "      <td>0</td>\n",
              "      <td>0</td>\n",
              "      <td>0</td>\n",
              "      <td>1</td>\n",
              "      <td>0</td>\n",
              "      <td>0</td>\n",
              "      <td>1</td>\n",
              "      <td>0</td>\n",
              "      <td>0</td>\n",
              "      <td>0</td>\n",
              "      <td>0</td>\n",
              "      <td>1</td>\n",
              "      <td>0</td>\n",
              "      <td>1</td>\n",
              "      <td>0</td>\n",
              "    </tr>\n",
              "    <tr>\n",
              "      <th>2142</th>\n",
              "      <td>201912030951</td>\n",
              "      <td>1</td>\n",
              "      <td>0</td>\n",
              "      <td>0</td>\n",
              "      <td>1</td>\n",
              "      <td>0</td>\n",
              "      <td>1</td>\n",
              "      <td>0</td>\n",
              "      <td>0</td>\n",
              "      <td>0</td>\n",
              "      <td>0</td>\n",
              "      <td>0</td>\n",
              "      <td>1</td>\n",
              "      <td>0</td>\n",
              "      <td>0</td>\n",
              "      <td>0</td>\n",
              "      <td>1</td>\n",
              "      <td>1</td>\n",
              "      <td>0</td>\n",
              "      <td>0</td>\n",
              "      <td>0</td>\n",
              "      <td>1</td>\n",
              "      <td>0</td>\n",
              "      <td>1</td>\n",
              "      <td>0</td>\n",
              "      <td>0</td>\n",
              "      <td>1399.36</td>\n",
              "      <td>5.13</td>\n",
              "      <td>0.00</td>\n",
              "      <td>844.74</td>\n",
              "      <td>1</td>\n",
              "      <td>0</td>\n",
              "      <td>0</td>\n",
              "      <td>0</td>\n",
              "      <td>0</td>\n",
              "      <td>0</td>\n",
              "      <td>0</td>\n",
              "      <td>0</td>\n",
              "      <td>4.26</td>\n",
              "      <td>0</td>\n",
              "      <td>0</td>\n",
              "      <td>0</td>\n",
              "      <td>0</td>\n",
              "      <td>0</td>\n",
              "      <td>0</td>\n",
              "      <td>1</td>\n",
              "      <td>57.0</td>\n",
              "      <td>65.0</td>\n",
              "      <td>0</td>\n",
              "      <td>0</td>\n",
              "      <td>0</td>\n",
              "      <td>0</td>\n",
              "      <td>0</td>\n",
              "      <td>1</td>\n",
              "      <td>1</td>\n",
              "      <td>0</td>\n",
              "      <td>0</td>\n",
              "      <td>0</td>\n",
              "      <td>0</td>\n",
              "      <td>1</td>\n",
              "      <td>0</td>\n",
              "      <td>1</td>\n",
              "      <td>0</td>\n",
              "    </tr>\n",
              "  </tbody>\n",
              "</table>\n",
              "<p>2143 rows × 63 columns</p>\n",
              "</div>"
            ],
            "text/plain": [
              "      COD_MATRICULA  REMATRICULADO  ...  SAFRA_VETERANO  SAFRA_CALOURO\n",
              "0      200701339023              0  ...               1              0\n",
              "1      200702198245              0  ...               0              1\n",
              "2      200702198679              0  ...               1              0\n",
              "3      200801431011              1  ...               1              0\n",
              "4      200901402225              1  ...               1              0\n",
              "...             ...            ...  ...             ...            ...\n",
              "2138   201912030837              1  ...               1              0\n",
              "2139   201912030853              1  ...               1              0\n",
              "2140   201912030861              0  ...               1              0\n",
              "2141   201912030934              1  ...               1              0\n",
              "2142   201912030951              1  ...               1              0\n",
              "\n",
              "[2143 rows x 63 columns]"
            ]
          },
          "metadata": {
            "tags": []
          },
          "execution_count": 9
        }
      ]
    },
    {
      "cell_type": "markdown",
      "metadata": {
        "id": "MsRwDuBhR0WP",
        "colab_type": "text"
      },
      "source": [
        "### Separando os dados em X e y"
      ]
    },
    {
      "cell_type": "markdown",
      "metadata": {
        "id": "Agk9tLcdXI97",
        "colab_type": "text"
      },
      "source": [
        "Separando a variável alvo das demais features.\n",
        "\n",
        "* **Variável independente**: É a medida do lado não dependente de nenhuma outra medida variável. Variável X.\n",
        "* **Variável dependente**: É uma medida que dependerá do valor de outra medida variável. Variável y."
      ]
    },
    {
      "cell_type": "code",
      "metadata": {
        "id": "RljGMR53R9gS",
        "colab_type": "code",
        "colab": {}
      },
      "source": [
        "# Separando o conjunto de dados criado pelo método OneHotEncoder\n",
        "X_ohe = df_renovacao_ohe.drop(['COD_MATRICULA', 'REMATRICULADO'], axis=1)\n",
        "y_ohe = df_renovacao_ohe['REMATRICULADO']"
      ],
      "execution_count": 10,
      "outputs": []
    },
    {
      "cell_type": "markdown",
      "metadata": {
        "id": "er4SwScdMgHT",
        "colab_type": "text"
      },
      "source": [
        "### Dividindo nosso conjunto de dados em treinamento e teste\n",
        "\n",
        "Normalmente, quando você separa um conjunto de dados em um conjunto de treinamento e um conjunto de teste, a maioria dos dados é usada para treinamento e uma parte menor dos dados é usada para teste do modelo."
      ]
    },
    {
      "cell_type": "markdown",
      "metadata": {
        "id": "gc7ef4-TL4BX",
        "colab_type": "text"
      },
      "source": [
        "\n",
        "Referência: https://scikit-learn.org/stable/modules/generated/sklearn.model_selection.train_test_split.html\n"
      ]
    },
    {
      "cell_type": "code",
      "metadata": {
        "id": "oRbTA3lWLgLA",
        "colab_type": "code",
        "colab": {}
      },
      "source": [
        "# Importando o pacote necessários\n",
        "from sklearn.model_selection import train_test_split"
      ],
      "execution_count": 11,
      "outputs": []
    },
    {
      "cell_type": "code",
      "metadata": {
        "id": "4kiolgpIM-CL",
        "colab_type": "code",
        "colab": {}
      },
      "source": [
        "# Dividindo o conjunto de dados criado pelo método OneHotEncoder\n",
        "X_train_ohe, X_test_ohe, y_train_ohe, y_test_ohe = train_test_split(X_ohe, y_ohe, train_size = 0.7, random_state = 1234)"
      ],
      "execution_count": 12,
      "outputs": []
    },
    {
      "cell_type": "markdown",
      "metadata": {
        "id": "RAgu223llsqj",
        "colab_type": "text"
      },
      "source": [
        "### Criando o modelo preliminar"
      ]
    },
    {
      "cell_type": "markdown",
      "metadata": {
        "id": "u4nVAhJxkMRr",
        "colab_type": "text"
      },
      "source": [
        "Referência para a biblioteca de Métricas: https://scikit-learn.org/stable/modules/model_evaluation.html#classification-metrics\n",
        "\n",
        "Referência para a biblioteca Random Forest: https://scikit-learn.org/stable/modules/generated/sklearn.ensemble.RandomForestClassifier.html\n"
      ]
    },
    {
      "cell_type": "code",
      "metadata": {
        "id": "3x-PW2CBt79B",
        "colab_type": "code",
        "colab": {}
      },
      "source": [
        "# Importando pacotes necessários\n",
        "from sklearn.metrics import accuracy_score, roc_auc_score, recall_score, precision_score, f1_score, cohen_kappa_score, matthews_corrcoef, confusion_matrix, classification_report, roc_curve\n",
        "from sklearn.ensemble import RandomForestClassifier"
      ],
      "execution_count": 13,
      "outputs": []
    },
    {
      "cell_type": "markdown",
      "metadata": {
        "id": "74gA28h4ukhs",
        "colab_type": "text"
      },
      "source": [
        "#### Modelo preliminar usando o método **OneHotEncoder** como encoder para as variáveis categóricas"
      ]
    },
    {
      "cell_type": "code",
      "metadata": {
        "id": "eKn2nB2ql3L0",
        "colab_type": "code",
        "colab": {
          "base_uri": "https://localhost:8080/",
          "height": 153
        },
        "outputId": "b706baa9-309b-4c2b-9c44-d5620ae2a7bb"
      },
      "source": [
        "# Código para a criação do modelo premilinar usando o OneHotEncoder como encoder para as variáveis categóricas\n",
        "\n",
        "mdl = RandomForestClassifier(n_estimators=100, random_state=1234, n_jobs=-1)\n",
        "mdl.fit(X_train_ohe, y_train_ohe)\n",
        "\n",
        "p = mdl.predict(X_test_ohe)\n",
        "y_proba = mdl.predict_proba(X_test_ohe)[:, 1]\n",
        " \n",
        "acc = accuracy_score(y_test_ohe, p)\n",
        "auc = roc_auc_score(y_test_ohe, y_proba)\n",
        "recall = recall_score(y_test_ohe, p)\n",
        "precision = precision_score(y_test_ohe, p)\n",
        "f1 = f1_score(y_test_ohe, p)\n",
        "\n",
        "mdl"
      ],
      "execution_count": 14,
      "outputs": [
        {
          "output_type": "execute_result",
          "data": {
            "text/plain": [
              "RandomForestClassifier(bootstrap=True, ccp_alpha=0.0, class_weight=None,\n",
              "                       criterion='gini', max_depth=None, max_features='auto',\n",
              "                       max_leaf_nodes=None, max_samples=None,\n",
              "                       min_impurity_decrease=0.0, min_impurity_split=None,\n",
              "                       min_samples_leaf=1, min_samples_split=2,\n",
              "                       min_weight_fraction_leaf=0.0, n_estimators=100,\n",
              "                       n_jobs=-1, oob_score=False, random_state=1234, verbose=0,\n",
              "                       warm_start=False)"
            ]
          },
          "metadata": {
            "tags": []
          },
          "execution_count": 14
        }
      ]
    },
    {
      "cell_type": "code",
      "metadata": {
        "id": "KNDo-5xhs1k-",
        "colab_type": "code",
        "colab": {
          "base_uri": "https://localhost:8080/",
          "height": 80
        },
        "outputId": "2372099d-ee00-48fd-fa9e-21f2a111122d"
      },
      "source": [
        "# Resultado do modelo preliminar\n",
        "cols   = ['Model', 'Accuracy', 'AUC', 'Recall', 'Prec.', 'F1', 'Encoder']\n",
        "values = ['Random Forest Classifier', acc, auc, recall, precision, f1, 'OneHotEncoder']\n",
        "metrics_pre_ohe = pd.DataFrame({tup[0]: [tup[1]] for tup in zip(cols, values)})\n",
        "metrics_pre_ohe"
      ],
      "execution_count": 15,
      "outputs": [
        {
          "output_type": "execute_result",
          "data": {
            "text/html": [
              "<div>\n",
              "<style scoped>\n",
              "    .dataframe tbody tr th:only-of-type {\n",
              "        vertical-align: middle;\n",
              "    }\n",
              "\n",
              "    .dataframe tbody tr th {\n",
              "        vertical-align: top;\n",
              "    }\n",
              "\n",
              "    .dataframe thead th {\n",
              "        text-align: right;\n",
              "    }\n",
              "</style>\n",
              "<table border=\"1\" class=\"dataframe\">\n",
              "  <thead>\n",
              "    <tr style=\"text-align: right;\">\n",
              "      <th></th>\n",
              "      <th>Model</th>\n",
              "      <th>Accuracy</th>\n",
              "      <th>AUC</th>\n",
              "      <th>Recall</th>\n",
              "      <th>Prec.</th>\n",
              "      <th>F1</th>\n",
              "      <th>Encoder</th>\n",
              "    </tr>\n",
              "  </thead>\n",
              "  <tbody>\n",
              "    <tr>\n",
              "      <th>0</th>\n",
              "      <td>Random Forest Classifier</td>\n",
              "      <td>0.92535</td>\n",
              "      <td>0.932865</td>\n",
              "      <td>0.96</td>\n",
              "      <td>0.949153</td>\n",
              "      <td>0.954545</td>\n",
              "      <td>OneHotEncoder</td>\n",
              "    </tr>\n",
              "  </tbody>\n",
              "</table>\n",
              "</div>"
            ],
            "text/plain": [
              "                      Model  Accuracy  ...        F1        Encoder\n",
              "0  Random Forest Classifier   0.92535  ...  0.954545  OneHotEncoder\n",
              "\n",
              "[1 rows x 7 columns]"
            ]
          },
          "metadata": {
            "tags": []
          },
          "execution_count": 15
        }
      ]
    },
    {
      "cell_type": "markdown",
      "metadata": {
        "id": "qjNYjBdIzsGg",
        "colab_type": "text"
      },
      "source": [
        "### Tunando nosso modelo preliminar\n",
        "\n",
        "Primeiro você deve tunar os hiper parâmatros antes da etapa de features selection, pois caso contrário, você pode estar reduzindo as features que, se o seu modelo tivesse outros parâmetros ele conseguiria extrair valor delas.\n",
        "\n",
        "* Primeiro, tune os hiper parâmetros;\n",
        "* Segundo, faça a seleção de features;\n",
        "\n",
        "Por exemplo:\n",
        "\n",
        "*Imagine que você tenha 100 features, se você reduzir com os hiper parâmetros padrões, pode ser que ele elimine 50 features que se tivesse tunado antes ele somente eliminaria 30, e conseguiria tirar mais valor delas.*"
      ]
    },
    {
      "cell_type": "markdown",
      "metadata": {
        "id": "hWILhzBJL7tV",
        "colab_type": "text"
      },
      "source": [
        "Iremos usar 02(dois) métodos para encontrar os melhores hiper parâmetros para nosso modelo:\n",
        "\n",
        "* Random Search;\n",
        "* Bayesian Optimization;\n",
        "\n",
        "Referência: https://scikit-optimize.github.io/stable/"
      ]
    },
    {
      "cell_type": "code",
      "metadata": {
        "id": "BIgt6cXPhbN4",
        "colab_type": "code",
        "colab": {
          "base_uri": "https://localhost:8080/",
          "height": 221
        },
        "outputId": "d5b8fa22-4488-4b04-a8b6-0d29e862d83c"
      },
      "source": [
        "# Instalando o pacote necessário\n",
        "!pip install scikit-optimize"
      ],
      "execution_count": 16,
      "outputs": [
        {
          "output_type": "stream",
          "text": [
            "Collecting scikit-optimize\n",
            "\u001b[?25l  Downloading https://files.pythonhosted.org/packages/5c/87/310b52debfbc0cb79764e5770fa3f5c18f6f0754809ea9e2fc185e1b67d3/scikit_optimize-0.7.4-py2.py3-none-any.whl (80kB)\n",
            "\u001b[K     |████████████████████████████████| 81kB 2.1MB/s \n",
            "\u001b[?25hRequirement already satisfied: joblib>=0.11 in /usr/local/lib/python3.6/dist-packages (from scikit-optimize) (0.16.0)\n",
            "Requirement already satisfied: scikit-learn>=0.19.1 in /usr/local/lib/python3.6/dist-packages (from scikit-optimize) (0.22.2.post1)\n",
            "Requirement already satisfied: numpy>=1.11.0 in /usr/local/lib/python3.6/dist-packages (from scikit-optimize) (1.18.5)\n",
            "Requirement already satisfied: scipy>=0.18.0 in /usr/local/lib/python3.6/dist-packages (from scikit-optimize) (1.4.1)\n",
            "Collecting pyaml>=16.9\n",
            "  Downloading https://files.pythonhosted.org/packages/15/c4/1310a054d33abc318426a956e7d6df0df76a6ddfa9c66f6310274fb75d42/pyaml-20.4.0-py2.py3-none-any.whl\n",
            "Requirement already satisfied: PyYAML in /usr/local/lib/python3.6/dist-packages (from pyaml>=16.9->scikit-optimize) (3.13)\n",
            "Installing collected packages: pyaml, scikit-optimize\n",
            "Successfully installed pyaml-20.4.0 scikit-optimize-0.7.4\n"
          ],
          "name": "stdout"
        }
      ]
    },
    {
      "cell_type": "markdown",
      "metadata": {
        "id": "_denDwA_zgCX",
        "colab_type": "text"
      },
      "source": [
        "#### Random Search - *Busca Aleatória*\n",
        "\n",
        "Vamos tentar encontar e ajustar os melhores hiper parâmetros para nosso modelo usando o método de busca aleatória.\n",
        "\n",
        "Referência: https://scikit-optimize.github.io/stable/modules/generated/skopt.dummy_minimize.html"
      ]
    },
    {
      "cell_type": "markdown",
      "metadata": {
        "id": "MfhHAKEi0u7p",
        "colab_type": "text"
      },
      "source": [
        "`dummy_minimize` - Pesquisa aleatória por amostragem uniforme dentro dos limites informados.\n"
      ]
    },
    {
      "cell_type": "code",
      "metadata": {
        "id": "AfSxudc7ewe_",
        "colab_type": "code",
        "colab": {}
      },
      "source": [
        "# Importando o pacote necessário\n",
        "from skopt import dummy_minimize"
      ],
      "execution_count": 17,
      "outputs": []
    },
    {
      "cell_type": "code",
      "metadata": {
        "id": "MIYU0dJYSqu7",
        "colab_type": "code",
        "colab": {}
      },
      "source": [
        "# Para ver os parâmetros utilizados em uma RandomForestClassifier, descomente o código abaixo\n",
        "#?RandomForestClassifier"
      ],
      "execution_count": null,
      "outputs": []
    },
    {
      "cell_type": "markdown",
      "metadata": {
        "id": "Hwu4eswqxm47",
        "colab_type": "text"
      },
      "source": [
        "##### Tunando o modelo preliminar usando o método **OneHotEncoder** como encoder para as variáveis categóricas"
      ]
    },
    {
      "cell_type": "code",
      "metadata": {
        "id": "1DM1mpyEZrSy",
        "colab_type": "code",
        "colab": {
          "base_uri": "https://localhost:8080/",
          "height": 1000
        },
        "outputId": "d58330c1-50df-4183-f905-745d82a93c75"
      },
      "source": [
        "# Função para encontrar os melhores hiper parâmetros para esse modelo\n",
        "def tunar_modelo_ohe(params):\n",
        "    n_estimators = params[0]\n",
        "    max_depth = params[1]\n",
        "    min_samples_leaf = params[2]\n",
        "    min_samples_split = params[3]\n",
        "    bootstrap = params[4]\n",
        "    max_features = params[5]\n",
        "    \n",
        "    print(params, '\\n')\n",
        "   \n",
        "    mdl = RandomForestClassifier(n_estimators = n_estimators, max_depth = max_depth, min_samples_leaf = min_samples_leaf, min_samples_split = min_samples_split,\n",
        "                                 max_features = max_features,  bootstrap = bootstrap, random_state = 1234, n_jobs = -1)\n",
        "    mdl.fit(X_train_ohe, y_train_ohe)\n",
        "\n",
        "    p = mdl.predict(X_test_ohe)\n",
        "    y_proba = mdl.predict_proba(X_test_ohe)[:, 1]\n",
        "     \n",
        "    return -roc_auc_score(y_test_ohe, y_proba)\n",
        "\n",
        "space = [(70, 150),                # n_estimators\n",
        "         (90, 200),                # max_depth\n",
        "         (1, 5),                   # min_samples_leaf\n",
        "         (2, 10),                  # min_samples_split\n",
        "         (True, False),            # bootstrap \n",
        "         ('auto', 'sqrt', 'log2')] # max_features\n",
        "\n",
        "resultado_rs_ohe = dummy_minimize(tunar_modelo_ohe, space, random_state=3, verbose=1, n_calls=30)"
      ],
      "execution_count": 18,
      "outputs": [
        {
          "output_type": "stream",
          "text": [
            "Iteration No: 1 started. Evaluating function at random point.\n",
            "[94, 93, 1, 10, False, 'log2'] \n",
            "\n",
            "Iteration No: 1 ended. Evaluation done at random point.\n",
            "Time taken: 0.5637\n",
            "Function value obtained: -0.9353\n",
            "Current minimum: -0.9353\n",
            "Iteration No: 2 started. Evaluating function at random point.\n",
            "[144, 197, 2, 7, True, 'sqrt'] \n",
            "\n",
            "Iteration No: 2 ended. Evaluation done at random point.\n",
            "Time taken: 0.6736\n",
            "Function value obtained: -0.9326\n",
            "Current minimum: -0.9353\n",
            "Iteration No: 3 started. Evaluating function at random point.\n",
            "[114, 183, 1, 3, True, 'sqrt'] \n",
            "\n",
            "Iteration No: 3 ended. Evaluation done at random point.\n",
            "Time taken: 0.6670\n",
            "Function value obtained: -0.9333\n",
            "Current minimum: -0.9353\n",
            "Iteration No: 4 started. Evaluating function at random point.\n",
            "[133, 150, 2, 5, False, 'sqrt'] \n",
            "\n",
            "Iteration No: 4 ended. Evaluation done at random point.\n",
            "Time taken: 0.6732\n",
            "Function value obtained: -0.9361\n",
            "Current minimum: -0.9361\n",
            "Iteration No: 5 started. Evaluating function at random point.\n",
            "[99, 196, 1, 9, True, 'sqrt'] \n",
            "\n",
            "Iteration No: 5 ended. Evaluation done at random point.\n",
            "Time taken: 0.5575\n",
            "Function value obtained: -0.9329\n",
            "Current minimum: -0.9361\n",
            "Iteration No: 6 started. Evaluating function at random point.\n",
            "[149, 138, 5, 3, True, 'log2'] \n",
            "\n",
            "Iteration No: 6 ended. Evaluation done at random point.\n",
            "Time taken: 0.6766\n",
            "Function value obtained: -0.9277\n",
            "Current minimum: -0.9361\n",
            "Iteration No: 7 started. Evaluating function at random point.\n",
            "[98, 144, 1, 2, False, 'sqrt'] \n",
            "\n",
            "Iteration No: 7 ended. Evaluation done at random point.\n",
            "Time taken: 0.5529\n",
            "Function value obtained: -0.9373\n",
            "Current minimum: -0.9373\n",
            "Iteration No: 8 started. Evaluating function at random point.\n",
            "[107, 146, 1, 9, False, 'log2'] \n",
            "\n",
            "Iteration No: 8 ended. Evaluation done at random point.\n",
            "Time taken: 0.5542\n",
            "Function value obtained: -0.9329\n",
            "Current minimum: -0.9373\n",
            "Iteration No: 9 started. Evaluating function at random point.\n",
            "[71, 175, 3, 6, True, 'sqrt'] \n",
            "\n",
            "Iteration No: 9 ended. Evaluation done at random point.\n",
            "Time taken: 0.4413\n",
            "Function value obtained: -0.9274\n",
            "Current minimum: -0.9373\n",
            "Iteration No: 10 started. Evaluating function at random point.\n",
            "[150, 122, 1, 4, True, 'auto'] \n",
            "\n",
            "Iteration No: 10 ended. Evaluation done at random point.\n",
            "Time taken: 0.6679\n",
            "Function value obtained: -0.9391\n",
            "Current minimum: -0.9391\n",
            "Iteration No: 11 started. Evaluating function at random point.\n",
            "[83, 127, 1, 3, False, 'log2'] \n",
            "\n",
            "Iteration No: 11 ended. Evaluation done at random point.\n",
            "Time taken: 0.4440\n",
            "Function value obtained: -0.9346\n",
            "Current minimum: -0.9391\n",
            "Iteration No: 12 started. Evaluating function at random point.\n",
            "[72, 118, 5, 10, False, 'log2'] \n",
            "\n",
            "Iteration No: 12 ended. Evaluation done at random point.\n",
            "Time taken: 0.4449\n",
            "Function value obtained: -0.9287\n",
            "Current minimum: -0.9391\n",
            "Iteration No: 13 started. Evaluating function at random point.\n",
            "[124, 190, 4, 3, True, 'sqrt'] \n",
            "\n",
            "Iteration No: 13 ended. Evaluation done at random point.\n",
            "Time taken: 0.6660\n",
            "Function value obtained: -0.9282\n",
            "Current minimum: -0.9391\n",
            "Iteration No: 14 started. Evaluating function at random point.\n",
            "[109, 119, 1, 2, True, 'auto'] \n",
            "\n",
            "Iteration No: 14 ended. Evaluation done at random point.\n",
            "Time taken: 0.6630\n",
            "Function value obtained: -0.9322\n",
            "Current minimum: -0.9391\n",
            "Iteration No: 15 started. Evaluating function at random point.\n",
            "[130, 178, 4, 6, False, 'sqrt'] \n",
            "\n",
            "Iteration No: 15 ended. Evaluation done at random point.\n",
            "Time taken: 0.6648\n",
            "Function value obtained: -0.9383\n",
            "Current minimum: -0.9391\n",
            "Iteration No: 16 started. Evaluating function at random point.\n",
            "[138, 134, 5, 5, True, 'log2'] \n",
            "\n",
            "Iteration No: 16 ended. Evaluation done at random point.\n",
            "Time taken: 0.6687\n",
            "Function value obtained: -0.9276\n",
            "Current minimum: -0.9391\n",
            "Iteration No: 17 started. Evaluating function at random point.\n",
            "[120, 155, 4, 4, True, 'auto'] \n",
            "\n",
            "Iteration No: 17 ended. Evaluation done at random point.\n",
            "Time taken: 0.5680\n",
            "Function value obtained: -0.9284\n",
            "Current minimum: -0.9391\n",
            "Iteration No: 18 started. Evaluating function at random point.\n",
            "[72, 177, 4, 6, False, 'log2'] \n",
            "\n",
            "Iteration No: 18 ended. Evaluation done at random point.\n",
            "Time taken: 0.4416\n",
            "Function value obtained: -0.9265\n",
            "Current minimum: -0.9391\n",
            "Iteration No: 19 started. Evaluating function at random point.\n",
            "[77, 147, 2, 2, False, 'log2'] \n",
            "\n",
            "Iteration No: 19 ended. Evaluation done at random point.\n",
            "Time taken: 0.4444\n",
            "Function value obtained: -0.9336\n",
            "Current minimum: -0.9391\n",
            "Iteration No: 20 started. Evaluating function at random point.\n",
            "[97, 143, 4, 10, False, 'log2'] \n",
            "\n",
            "Iteration No: 20 ended. Evaluation done at random point.\n",
            "Time taken: 0.5509\n",
            "Function value obtained: -0.9277\n",
            "Current minimum: -0.9391\n",
            "Iteration No: 21 started. Evaluating function at random point.\n",
            "[146, 109, 5, 4, True, 'sqrt'] \n",
            "\n",
            "Iteration No: 21 ended. Evaluation done at random point.\n",
            "Time taken: 0.6794\n",
            "Function value obtained: -0.9298\n",
            "Current minimum: -0.9391\n",
            "Iteration No: 22 started. Evaluating function at random point.\n",
            "[79, 122, 5, 9, False, 'sqrt'] \n",
            "\n",
            "Iteration No: 22 ended. Evaluation done at random point.\n",
            "Time taken: 0.4441\n",
            "Function value obtained: -0.9348\n",
            "Current minimum: -0.9391\n",
            "Iteration No: 23 started. Evaluating function at random point.\n",
            "[142, 116, 1, 6, True, 'auto'] \n",
            "\n",
            "Iteration No: 23 ended. Evaluation done at random point.\n",
            "Time taken: 0.6712\n",
            "Function value obtained: -0.9378\n",
            "Current minimum: -0.9391\n",
            "Iteration No: 24 started. Evaluating function at random point.\n",
            "[102, 143, 5, 2, False, 'auto'] \n",
            "\n",
            "Iteration No: 24 ended. Evaluation done at random point.\n",
            "Time taken: 0.5624\n",
            "Function value obtained: -0.9361\n",
            "Current minimum: -0.9391\n",
            "Iteration No: 25 started. Evaluating function at random point.\n",
            "[121, 180, 5, 8, True, 'log2'] \n",
            "\n",
            "Iteration No: 25 ended. Evaluation done at random point.\n",
            "Time taken: 0.5619\n",
            "Function value obtained: -0.9262\n",
            "Current minimum: -0.9391\n",
            "Iteration No: 26 started. Evaluating function at random point.\n",
            "[141, 103, 5, 2, False, 'sqrt'] \n",
            "\n",
            "Iteration No: 26 ended. Evaluation done at random point.\n",
            "Time taken: 0.6718\n",
            "Function value obtained: -0.9357\n",
            "Current minimum: -0.9391\n",
            "Iteration No: 27 started. Evaluating function at random point.\n",
            "[125, 196, 1, 7, True, 'log2'] \n",
            "\n",
            "Iteration No: 27 ended. Evaluation done at random point.\n",
            "Time taken: 0.6623\n",
            "Function value obtained: -0.9348\n",
            "Current minimum: -0.9391\n",
            "Iteration No: 28 started. Evaluating function at random point.\n",
            "[98, 200, 3, 5, True, 'log2'] \n",
            "\n",
            "Iteration No: 28 ended. Evaluation done at random point.\n",
            "Time taken: 0.5510\n",
            "Function value obtained: -0.9265\n",
            "Current minimum: -0.9391\n",
            "Iteration No: 29 started. Evaluating function at random point.\n",
            "[104, 101, 2, 10, True, 'log2'] \n",
            "\n",
            "Iteration No: 29 ended. Evaluation done at random point.\n",
            "Time taken: 0.5547\n",
            "Function value obtained: -0.9315\n",
            "Current minimum: -0.9391\n",
            "Iteration No: 30 started. Evaluating function at random point.\n",
            "[70, 146, 2, 4, True, 'log2'] \n",
            "\n",
            "Iteration No: 30 ended. Evaluation done at random point.\n",
            "Time taken: 0.4416\n",
            "Function value obtained: -0.9344\n",
            "Current minimum: -0.9391\n"
          ],
          "name": "stdout"
        }
      ]
    },
    {
      "cell_type": "code",
      "metadata": {
        "id": "KMFpLEiwJ-Bo",
        "colab_type": "code",
        "colab": {
          "base_uri": "https://localhost:8080/",
          "height": 34
        },
        "outputId": "12c8fb82-18a9-416d-98ca-07bdfd75dfc3"
      },
      "source": [
        "resultado_rs_ohe.x"
      ],
      "execution_count": 19,
      "outputs": [
        {
          "output_type": "execute_result",
          "data": {
            "text/plain": [
              "[150, 122, 1, 4, True, 'auto']"
            ]
          },
          "metadata": {
            "tags": []
          },
          "execution_count": 19
        }
      ]
    },
    {
      "cell_type": "markdown",
      "metadata": {
        "id": "E5ySJHonJ7tP",
        "colab_type": "text"
      },
      "source": [
        "Resultado = AUC 0.9391\n",
        "\n",
        "Parâmetros = [150, 122, 1, 4, True, 'auto']"
      ]
    },
    {
      "cell_type": "code",
      "metadata": {
        "id": "UuCutltAys-O",
        "colab_type": "code",
        "colab": {}
      },
      "source": [
        "n_estimators, max_depth, min_samples_leaf, min_samples_split, bootstrap, max_features = resultado_rs_ohe.x"
      ],
      "execution_count": 20,
      "outputs": []
    },
    {
      "cell_type": "code",
      "metadata": {
        "id": "ZUTmqmYvI4eD",
        "colab_type": "code",
        "colab": {
          "base_uri": "https://localhost:8080/",
          "height": 80
        },
        "outputId": "e5c26327-021e-4eeb-efe5-75d667bf0949"
      },
      "source": [
        "# Resultado final do modelo tunado por Random Search\n",
        "auc =  0.9391\n",
        "\n",
        "cols   = ['FeatureSelector', 'AUC', 'n_estimators', 'max_depth', 'min_samples_leaf', 'min_samples_split', 'bootstrap', 'max_features', 'encoder']\n",
        "values = ['Random Search', auc, n_estimators, max_depth, min_samples_leaf, min_samples_split, bootstrap, max_features, 'OneHotEncoder']\n",
        "metrics_rs_ohe = pd.DataFrame({tup[0]: [tup[1]] for tup in zip(cols, values)})\n",
        "metrics_rs_ohe"
      ],
      "execution_count": 21,
      "outputs": [
        {
          "output_type": "execute_result",
          "data": {
            "text/html": [
              "<div>\n",
              "<style scoped>\n",
              "    .dataframe tbody tr th:only-of-type {\n",
              "        vertical-align: middle;\n",
              "    }\n",
              "\n",
              "    .dataframe tbody tr th {\n",
              "        vertical-align: top;\n",
              "    }\n",
              "\n",
              "    .dataframe thead th {\n",
              "        text-align: right;\n",
              "    }\n",
              "</style>\n",
              "<table border=\"1\" class=\"dataframe\">\n",
              "  <thead>\n",
              "    <tr style=\"text-align: right;\">\n",
              "      <th></th>\n",
              "      <th>FeatureSelector</th>\n",
              "      <th>AUC</th>\n",
              "      <th>n_estimators</th>\n",
              "      <th>max_depth</th>\n",
              "      <th>min_samples_leaf</th>\n",
              "      <th>min_samples_split</th>\n",
              "      <th>bootstrap</th>\n",
              "      <th>max_features</th>\n",
              "      <th>encoder</th>\n",
              "    </tr>\n",
              "  </thead>\n",
              "  <tbody>\n",
              "    <tr>\n",
              "      <th>0</th>\n",
              "      <td>Random Search</td>\n",
              "      <td>0.9391</td>\n",
              "      <td>150</td>\n",
              "      <td>122</td>\n",
              "      <td>1</td>\n",
              "      <td>4</td>\n",
              "      <td>True</td>\n",
              "      <td>auto</td>\n",
              "      <td>OneHotEncoder</td>\n",
              "    </tr>\n",
              "  </tbody>\n",
              "</table>\n",
              "</div>"
            ],
            "text/plain": [
              "  FeatureSelector     AUC  n_estimators  ...  bootstrap  max_features        encoder\n",
              "0   Random Search  0.9391           150  ...       True          auto  OneHotEncoder\n",
              "\n",
              "[1 rows x 9 columns]"
            ]
          },
          "metadata": {
            "tags": []
          },
          "execution_count": 21
        }
      ]
    },
    {
      "cell_type": "markdown",
      "metadata": {
        "id": "ITeLGFOx3BnB",
        "colab_type": "text"
      },
      "source": [
        "#### Bayesian Optimization - *Otimização Bayesiana*\n",
        "\n",
        "A Otimização Bayesiana é uma abordagem que utiliza o Teorema de Bayes para direcionar a busca a fim de encontrar o mínimo ou máximo de uma função objetivo.\n",
        "\n",
        "Referência: https://scikit-optimize.github.io/stable/auto_examples/bayesian-optimization.html"
      ]
    },
    {
      "cell_type": "markdown",
      "metadata": {
        "id": "xk0XRen83OGV",
        "colab_type": "text"
      },
      "source": [
        "`gp_minimize` - Otimização Bayesiana usando Processos Gaussianos.\n",
        "\n",
        "\n",
        "\n",
        "https://scikit-optimize.github.io/stable/modules/generated/skopt.gp_minimize.html"
      ]
    },
    {
      "cell_type": "code",
      "metadata": {
        "id": "UmDgl5Pm5RpI",
        "colab_type": "code",
        "colab": {}
      },
      "source": [
        "# Importando o pacote necessário\n",
        "from skopt import gp_minimize"
      ],
      "execution_count": 22,
      "outputs": []
    },
    {
      "cell_type": "markdown",
      "metadata": {
        "id": "EvnjQ7ofp08N",
        "colab_type": "text"
      },
      "source": [
        "##### Tunando o modelo preliminar usando o método **OneHotEncoder** como encoder para as variáveis categóricas"
      ]
    },
    {
      "cell_type": "code",
      "metadata": {
        "id": "n-AkJm8m79vC",
        "colab_type": "code",
        "colab": {
          "base_uri": "https://localhost:8080/",
          "height": 1000
        },
        "outputId": "5775d8d7-72f4-4fb0-8855-f5b4be653347"
      },
      "source": [
        "resultado_gp_ohe = gp_minimize(tunar_modelo_ohe, space, random_state=3, verbose=1, n_calls=30, n_random_starts=10)"
      ],
      "execution_count": 23,
      "outputs": [
        {
          "output_type": "stream",
          "text": [
            "Iteration No: 1 started. Evaluating function at random point.\n",
            "[76, 182, 1, 7, True, 'auto'] \n",
            "\n",
            "Iteration No: 1 ended. Evaluation done at random point.\n",
            "Time taken: 0.5526\n",
            "Function value obtained: -0.9361\n",
            "Current minimum: -0.9361\n",
            "Iteration No: 2 started. Evaluating function at random point.\n",
            "[73, 117, 1, 8, True, 'sqrt'] \n",
            "\n",
            "Iteration No: 2 ended. Evaluation done at random point.\n",
            "Time taken: 0.4512\n",
            "Function value obtained: -0.9338\n",
            "Current minimum: -0.9361\n",
            "Iteration No: 3 started. Evaluating function at random point.\n",
            "[87, 129, 3, 9, False, 'log2'] \n",
            "\n",
            "Iteration No: 3 ended. Evaluation done at random point.\n",
            "Time taken: 0.5549\n",
            "Function value obtained: -0.9304\n",
            "Current minimum: -0.9361\n",
            "Iteration No: 4 started. Evaluating function at random point.\n",
            "[102, 151, 2, 7, True, 'sqrt'] \n",
            "\n",
            "Iteration No: 4 ended. Evaluation done at random point.\n",
            "Time taken: 0.6629\n",
            "Function value obtained: -0.9290\n",
            "Current minimum: -0.9361\n",
            "Iteration No: 5 started. Evaluating function at random point.\n",
            "[131, 180, 2, 9, False, 'auto'] \n",
            "\n",
            "Iteration No: 5 ended. Evaluation done at random point.\n",
            "Time taken: 0.6712\n",
            "Function value obtained: -0.9342\n",
            "Current minimum: -0.9361\n",
            "Iteration No: 6 started. Evaluating function at random point.\n",
            "[81, 126, 4, 5, True, 'sqrt'] \n",
            "\n",
            "Iteration No: 6 ended. Evaluation done at random point.\n",
            "Time taken: 0.5494\n",
            "Function value obtained: -0.9283\n",
            "Current minimum: -0.9361\n",
            "Iteration No: 7 started. Evaluating function at random point.\n",
            "[133, 168, 1, 5, False, 'log2'] \n",
            "\n",
            "Iteration No: 7 ended. Evaluation done at random point.\n",
            "Time taken: 0.6688\n",
            "Function value obtained: -0.9348\n",
            "Current minimum: -0.9361\n",
            "Iteration No: 8 started. Evaluating function at random point.\n",
            "[119, 112, 4, 7, False, 'log2'] \n",
            "\n",
            "Iteration No: 8 ended. Evaluation done at random point.\n",
            "Time taken: 0.5632\n",
            "Function value obtained: -0.9276\n",
            "Current minimum: -0.9361\n",
            "Iteration No: 9 started. Evaluating function at random point.\n",
            "[100, 98, 4, 3, False, 'log2'] \n",
            "\n",
            "Iteration No: 9 ended. Evaluation done at random point.\n",
            "Time taken: 0.5539\n",
            "Function value obtained: -0.9273\n",
            "Current minimum: -0.9361\n",
            "Iteration No: 10 started. Evaluating function at random point.\n",
            "[106, 130, 3, 6, False, 'auto'] \n",
            "\n",
            "Iteration No: 10 ended. Evaluation done at random point.\n",
            "Time taken: 0.8365\n",
            "Function value obtained: -0.9359\n",
            "Current minimum: -0.9361\n",
            "Iteration No: 11 started. Searching for the next optimal point.\n",
            "[141, 93, 1, 2, True, 'auto'] \n",
            "\n",
            "Iteration No: 11 ended. Search finished for the next optimal point.\n",
            "Time taken: 1.0651\n",
            "Function value obtained: -0.9331\n",
            "Current minimum: -0.9361\n",
            "Iteration No: 12 started. Searching for the next optimal point.\n",
            "[148, 197, 5, 9, True, 'auto'] \n",
            "\n",
            "Iteration No: 12 ended. Search finished for the next optimal point.\n",
            "Time taken: 1.0789\n",
            "Function value obtained: -0.9296\n",
            "Current minimum: -0.9361\n",
            "Iteration No: 13 started. Searching for the next optimal point.\n",
            "[72, 104, 1, 10, False, 'auto'] \n",
            "\n",
            "Iteration No: 13 ended. Search finished for the next optimal point.\n",
            "Time taken: 0.8260\n",
            "Function value obtained: -0.9350\n",
            "Current minimum: -0.9361\n",
            "Iteration No: 14 started. Searching for the next optimal point.\n",
            "[77, 193, 1, 3, False, 'auto'] \n",
            "\n",
            "Iteration No: 14 ended. Search finished for the next optimal point.\n",
            "Time taken: 0.8450\n",
            "Function value obtained: -0.9347\n",
            "Current minimum: -0.9361\n",
            "Iteration No: 15 started. Searching for the next optimal point.\n",
            "[144, 200, 1, 10, False, 'sqrt'] \n",
            "\n",
            "Iteration No: 15 ended. Search finished for the next optimal point.\n",
            "Time taken: 0.9720\n",
            "Function value obtained: -0.9342\n",
            "Current minimum: -0.9361\n",
            "Iteration No: 16 started. Searching for the next optimal point.\n",
            "[150, 200, 1, 10, False, 'auto'] \n",
            "\n",
            "Iteration No: 16 ended. Search finished for the next optimal point.\n",
            "Time taken: 0.9730\n",
            "Function value obtained: -0.9356\n",
            "Current minimum: -0.9361\n",
            "Iteration No: 17 started. Searching for the next optimal point.\n",
            "[147, 196, 1, 2, True, 'log2'] \n",
            "\n",
            "Iteration No: 17 ended. Search finished for the next optimal point.\n",
            "Time taken: 1.0740\n",
            "Function value obtained: -0.9376\n",
            "Current minimum: -0.9376\n",
            "Iteration No: 18 started. Searching for the next optimal point.\n",
            "[149, 95, 1, 10, True, 'log2'] \n",
            "\n",
            "Iteration No: 18 ended. Search finished for the next optimal point.\n",
            "Time taken: 1.0525\n",
            "Function value obtained: -0.9325\n",
            "Current minimum: -0.9376\n",
            "Iteration No: 19 started. Searching for the next optimal point.\n",
            "[150, 200, 1, 2, False, 'auto'] \n",
            "\n",
            "Iteration No: 19 ended. Search finished for the next optimal point.\n",
            "Time taken: 1.0976\n",
            "Function value obtained: -0.9373\n",
            "Current minimum: -0.9376\n",
            "Iteration No: 20 started. Searching for the next optimal point.\n",
            "[70, 200, 1, 2, False, 'auto'] \n",
            "\n",
            "Iteration No: 20 ended. Search finished for the next optimal point.\n",
            "Time taken: 0.7518\n",
            "Function value obtained: -0.9378\n",
            "Current minimum: -0.9378\n",
            "Iteration No: 21 started. Searching for the next optimal point.\n",
            "[71, 191, 1, 2, True, 'log2'] \n",
            "\n",
            "Iteration No: 21 ended. Search finished for the next optimal point.\n",
            "Time taken: 0.9046\n",
            "Function value obtained: -0.9392\n",
            "Current minimum: -0.9392\n",
            "Iteration No: 22 started. Searching for the next optimal point.\n",
            "[70, 200, 1, 2, True, 'log2'] \n",
            "\n",
            "Iteration No: 22 ended. Search finished for the next optimal point.\n",
            "Time taken: 0.8340\n",
            "Function value obtained: -0.9394\n",
            "Current minimum: -0.9394\n",
            "Iteration No: 23 started. Searching for the next optimal point.\n",
            "[138, 195, 1, 2, False, 'sqrt'] \n",
            "\n",
            "Iteration No: 23 ended. Search finished for the next optimal point.\n",
            "Time taken: 1.0265\n",
            "Function value obtained: -0.9378\n",
            "Current minimum: -0.9394\n",
            "Iteration No: 24 started. Searching for the next optimal point.\n",
            "[123, 199, 5, 2, True, 'log2'] \n",
            "\n",
            "Iteration No: 24 ended. Search finished for the next optimal point.\n",
            "Time taken: 1.0110\n",
            "Function value obtained: -0.9261\n",
            "Current minimum: -0.9394\n",
            "Iteration No: 25 started. Searching for the next optimal point.\n",
            "[86, 90, 1, 2, True, 'auto'] \n",
            "\n",
            "Iteration No: 25 ended. Search finished for the next optimal point.\n",
            "Time taken: 0.8956\n",
            "Function value obtained: -0.9329\n",
            "Current minimum: -0.9394\n",
            "Iteration No: 26 started. Searching for the next optimal point.\n",
            "[72, 198, 1, 9, False, 'sqrt'] \n",
            "\n",
            "Iteration No: 26 ended. Search finished for the next optimal point.\n",
            "Time taken: 0.9243\n",
            "Function value obtained: -0.9412\n",
            "Current minimum: -0.9412\n",
            "Iteration No: 27 started. Searching for the next optimal point.\n",
            "[72, 199, 1, 9, False, 'log2'] \n",
            "\n",
            "Iteration No: 27 ended. Search finished for the next optimal point.\n",
            "Time taken: 0.8865\n",
            "Function value obtained: -0.9333\n",
            "Current minimum: -0.9412\n",
            "Iteration No: 28 started. Searching for the next optimal point.\n",
            "[141, 94, 1, 3, False, 'sqrt'] \n",
            "\n",
            "Iteration No: 28 ended. Search finished for the next optimal point.\n",
            "Time taken: 1.0442\n",
            "Function value obtained: -0.9358\n",
            "Current minimum: -0.9412\n",
            "Iteration No: 29 started. Searching for the next optimal point.\n",
            "[70, 200, 1, 2, False, 'sqrt'] \n",
            "\n",
            "Iteration No: 29 ended. Search finished for the next optimal point.\n",
            "Time taken: 0.9453\n",
            "Function value obtained: -0.9378\n",
            "Current minimum: -0.9412\n",
            "Iteration No: 30 started. Searching for the next optimal point.\n",
            "[70, 200, 1, 2, False, 'auto'] \n",
            "\n"
          ],
          "name": "stdout"
        },
        {
          "output_type": "stream",
          "text": [
            "/usr/local/lib/python3.6/dist-packages/skopt/optimizer/optimizer.py:409: UserWarning: The objective has been evaluated at this point before.\n",
            "  warnings.warn(\"The objective has been evaluated \"\n"
          ],
          "name": "stderr"
        },
        {
          "output_type": "stream",
          "text": [
            "Iteration No: 30 ended. Search finished for the next optimal point.\n",
            "Time taken: 0.9220\n",
            "Function value obtained: -0.9378\n",
            "Current minimum: -0.9412\n"
          ],
          "name": "stdout"
        }
      ]
    },
    {
      "cell_type": "code",
      "metadata": {
        "id": "bi0S6XthBvp-",
        "colab_type": "code",
        "colab": {
          "base_uri": "https://localhost:8080/",
          "height": 34
        },
        "outputId": "37a248b7-790e-4a8c-9a11-421d5c9ce154"
      },
      "source": [
        "resultado_gp_ohe.x"
      ],
      "execution_count": 24,
      "outputs": [
        {
          "output_type": "execute_result",
          "data": {
            "text/plain": [
              "[72, 198, 1, 9, False, 'sqrt']"
            ]
          },
          "metadata": {
            "tags": []
          },
          "execution_count": 24
        }
      ]
    },
    {
      "cell_type": "markdown",
      "metadata": {
        "id": "dMS8SFFUH74J",
        "colab_type": "text"
      },
      "source": [
        "Resultado = AUC 0.9412\n",
        "\n",
        "Parâmetros = [72, 198, 1, 9, False, 'sqrt']\n"
      ]
    },
    {
      "cell_type": "code",
      "metadata": {
        "id": "K-384kvRLHPL",
        "colab_type": "code",
        "colab": {}
      },
      "source": [
        "n_estimators, max_depth, min_samples_leaf, min_samples_split, bootstrap, max_features = resultado_gp_ohe.x"
      ],
      "execution_count": 25,
      "outputs": []
    },
    {
      "cell_type": "code",
      "metadata": {
        "id": "JPORg4MXK-fc",
        "colab_type": "code",
        "colab": {
          "base_uri": "https://localhost:8080/",
          "height": 80
        },
        "outputId": "65de8996-7eea-49c7-f6c4-681a14ffeeb2"
      },
      "source": [
        "# Resultado final do modelo tunado por Bayesian Optimization\n",
        "auc = 0.9412\n",
        "\n",
        "cols   = ['FeatureSelector', 'AUC', 'n_estimators', 'max_depth', 'min_samples_leaf', 'min_samples_split', 'bootstrap', 'max_features', 'encoder']\n",
        "values = ['Bayesian Optimization', auc, n_estimators, max_depth, min_samples_leaf, min_samples_split, bootstrap, max_features, 'OneHotEncoder' ]\n",
        "metrics_bo_ohe = pd.DataFrame({tup[0]: [tup[1]] for tup in zip(cols, values)})\n",
        "metrics_bo_ohe"
      ],
      "execution_count": 27,
      "outputs": [
        {
          "output_type": "execute_result",
          "data": {
            "text/html": [
              "<div>\n",
              "<style scoped>\n",
              "    .dataframe tbody tr th:only-of-type {\n",
              "        vertical-align: middle;\n",
              "    }\n",
              "\n",
              "    .dataframe tbody tr th {\n",
              "        vertical-align: top;\n",
              "    }\n",
              "\n",
              "    .dataframe thead th {\n",
              "        text-align: right;\n",
              "    }\n",
              "</style>\n",
              "<table border=\"1\" class=\"dataframe\">\n",
              "  <thead>\n",
              "    <tr style=\"text-align: right;\">\n",
              "      <th></th>\n",
              "      <th>FeatureSelector</th>\n",
              "      <th>AUC</th>\n",
              "      <th>n_estimators</th>\n",
              "      <th>max_depth</th>\n",
              "      <th>min_samples_leaf</th>\n",
              "      <th>min_samples_split</th>\n",
              "      <th>bootstrap</th>\n",
              "      <th>max_features</th>\n",
              "      <th>encoder</th>\n",
              "    </tr>\n",
              "  </thead>\n",
              "  <tbody>\n",
              "    <tr>\n",
              "      <th>0</th>\n",
              "      <td>Bayesian Optimization</td>\n",
              "      <td>0.9412</td>\n",
              "      <td>72</td>\n",
              "      <td>198</td>\n",
              "      <td>1</td>\n",
              "      <td>9</td>\n",
              "      <td>False</td>\n",
              "      <td>sqrt</td>\n",
              "      <td>OneHotEncoder</td>\n",
              "    </tr>\n",
              "  </tbody>\n",
              "</table>\n",
              "</div>"
            ],
            "text/plain": [
              "         FeatureSelector     AUC  ...  max_features        encoder\n",
              "0  Bayesian Optimization  0.9412  ...          sqrt  OneHotEncoder\n",
              "\n",
              "[1 rows x 9 columns]"
            ]
          },
          "metadata": {
            "tags": []
          },
          "execution_count": 27
        }
      ]
    },
    {
      "cell_type": "code",
      "metadata": {
        "colab_type": "code",
        "id": "LeIowPgkrH5F",
        "colab": {}
      },
      "source": [
        "from skopt.plots import plot_convergence"
      ],
      "execution_count": 28,
      "outputs": []
    },
    {
      "cell_type": "code",
      "metadata": {
        "id": "2UYTxaRl1f9p",
        "colab_type": "code",
        "colab": {
          "base_uri": "https://localhost:8080/",
          "height": 411
        },
        "outputId": "b0713ac9-33ab-4a9f-c7e5-84b47233a1a8"
      },
      "source": [
        "plot_convergence(resultado_rs_ohe, resultado_gp_ohe);"
      ],
      "execution_count": 29,
      "outputs": [
        {
          "output_type": "display_data",
          "data": {
            "image/png": "[encoded data removed]",
            "text/plain": [
              "<Figure size 576x432 with 1 Axes>"
            ]
          },
          "metadata": {
            "tags": [],
            "needs_background": "light"
          }
        }
      ]
    },
    {
      "cell_type": "markdown",
      "metadata": {
        "colab_type": "text",
        "id": "1N0gVjU3rH5I"
      },
      "source": [
        "\n",
        "### Comparando os resultados do nosso modelo preliminar com os modelos tunados (*Busca Aleatória e Otimização Bayesiana*)"
      ]
    },
    {
      "cell_type": "code",
      "metadata": {
        "id": "24ZNiUm_0njx",
        "colab_type": "code",
        "colab": {
          "base_uri": "https://localhost:8080/",
          "height": 80
        },
        "outputId": "cb3246f8-bea9-4a64-9436-4381e34b9d9a"
      },
      "source": [
        "# Modelo preliminar\n",
        "metrics_pre_ohe.sort_values(['AUC','Accuracy'],ascending=False).head()"
      ],
      "execution_count": 30,
      "outputs": [
        {
          "output_type": "execute_result",
          "data": {
            "text/html": [
              "<div>\n",
              "<style scoped>\n",
              "    .dataframe tbody tr th:only-of-type {\n",
              "        vertical-align: middle;\n",
              "    }\n",
              "\n",
              "    .dataframe tbody tr th {\n",
              "        vertical-align: top;\n",
              "    }\n",
              "\n",
              "    .dataframe thead th {\n",
              "        text-align: right;\n",
              "    }\n",
              "</style>\n",
              "<table border=\"1\" class=\"dataframe\">\n",
              "  <thead>\n",
              "    <tr style=\"text-align: right;\">\n",
              "      <th></th>\n",
              "      <th>Model</th>\n",
              "      <th>Accuracy</th>\n",
              "      <th>AUC</th>\n",
              "      <th>Recall</th>\n",
              "      <th>Prec.</th>\n",
              "      <th>F1</th>\n",
              "      <th>Encoder</th>\n",
              "    </tr>\n",
              "  </thead>\n",
              "  <tbody>\n",
              "    <tr>\n",
              "      <th>0</th>\n",
              "      <td>Random Forest Classifier</td>\n",
              "      <td>0.92535</td>\n",
              "      <td>0.932865</td>\n",
              "      <td>0.96</td>\n",
              "      <td>0.949153</td>\n",
              "      <td>0.954545</td>\n",
              "      <td>OneHotEncoder</td>\n",
              "    </tr>\n",
              "  </tbody>\n",
              "</table>\n",
              "</div>"
            ],
            "text/plain": [
              "                      Model  Accuracy  ...        F1        Encoder\n",
              "0  Random Forest Classifier   0.92535  ...  0.954545  OneHotEncoder\n",
              "\n",
              "[1 rows x 7 columns]"
            ]
          },
          "metadata": {
            "tags": []
          },
          "execution_count": 30
        }
      ]
    },
    {
      "cell_type": "code",
      "metadata": {
        "id": "B77LOesM1TpL",
        "colab_type": "code",
        "colab": {
          "base_uri": "https://localhost:8080/",
          "height": 111
        },
        "outputId": "020a057a-1332-4a16-82cb-e7cc9c87fcb5"
      },
      "source": [
        "# Código para agregar os dataframes Random Search e Bayesian Optimization\n",
        "df_tunning = pd.concat([metrics_rs_ohe, metrics_bo_ohe], axis=0)\n",
        "df_tunning.sort_values(['AUC','n_estimators'],ascending=False).head()"
      ],
      "execution_count": 31,
      "outputs": [
        {
          "output_type": "execute_result",
          "data": {
            "text/html": [
              "<div>\n",
              "<style scoped>\n",
              "    .dataframe tbody tr th:only-of-type {\n",
              "        vertical-align: middle;\n",
              "    }\n",
              "\n",
              "    .dataframe tbody tr th {\n",
              "        vertical-align: top;\n",
              "    }\n",
              "\n",
              "    .dataframe thead th {\n",
              "        text-align: right;\n",
              "    }\n",
              "</style>\n",
              "<table border=\"1\" class=\"dataframe\">\n",
              "  <thead>\n",
              "    <tr style=\"text-align: right;\">\n",
              "      <th></th>\n",
              "      <th>FeatureSelector</th>\n",
              "      <th>AUC</th>\n",
              "      <th>n_estimators</th>\n",
              "      <th>max_depth</th>\n",
              "      <th>min_samples_leaf</th>\n",
              "      <th>min_samples_split</th>\n",
              "      <th>bootstrap</th>\n",
              "      <th>max_features</th>\n",
              "      <th>encoder</th>\n",
              "    </tr>\n",
              "  </thead>\n",
              "  <tbody>\n",
              "    <tr>\n",
              "      <th>0</th>\n",
              "      <td>Bayesian Optimization</td>\n",
              "      <td>0.9412</td>\n",
              "      <td>72</td>\n",
              "      <td>198</td>\n",
              "      <td>1</td>\n",
              "      <td>9</td>\n",
              "      <td>False</td>\n",
              "      <td>sqrt</td>\n",
              "      <td>OneHotEncoder</td>\n",
              "    </tr>\n",
              "    <tr>\n",
              "      <th>0</th>\n",
              "      <td>Random Search</td>\n",
              "      <td>0.9391</td>\n",
              "      <td>150</td>\n",
              "      <td>122</td>\n",
              "      <td>1</td>\n",
              "      <td>4</td>\n",
              "      <td>True</td>\n",
              "      <td>auto</td>\n",
              "      <td>OneHotEncoder</td>\n",
              "    </tr>\n",
              "  </tbody>\n",
              "</table>\n",
              "</div>"
            ],
            "text/plain": [
              "         FeatureSelector     AUC  ...  max_features        encoder\n",
              "0  Bayesian Optimization  0.9412  ...          sqrt  OneHotEncoder\n",
              "0          Random Search  0.9391  ...          auto  OneHotEncoder\n",
              "\n",
              "[2 rows x 9 columns]"
            ]
          },
          "metadata": {
            "tags": []
          },
          "execution_count": 31
        }
      ]
    },
    {
      "cell_type": "markdown",
      "metadata": {
        "id": "bRJtGuS6Rjww",
        "colab_type": "text"
      },
      "source": [
        " Melhor resultado do Tunning foi:\n",
        "\n",
        "* Método de Tunning = **Bayesian Optimization**\n",
        " * AUC = *0.9412*\n",
        " * n_estimators = *72*\n",
        " * max_depth = *198*\n",
        " * min_samples_leaf = *1*\t\n",
        " * min_samples_split =\t*9*\n",
        " * bootstrap = *False*\n",
        " * max_features = *sqrt*\n",
        " * encoder = *OneHotEncoder*\n"
      ]
    },
    {
      "cell_type": "markdown",
      "metadata": {
        "id": "CbV_VpS0tR6g",
        "colab_type": "text"
      },
      "source": [
        "### Selecionado as melhores features para o modelo\n",
        "\n",
        "Vamos selecionar as melhores features utilizando esses dois métodos:\n",
        "\n",
        "* SelectFromModel\n",
        "* SelectKBest"
      ]
    },
    {
      "cell_type": "markdown",
      "metadata": {
        "id": "v1S_O2g-zJjI",
        "colab_type": "text"
      },
      "source": [
        "A seleção de features é o processo de redução do número de variáveis ​​de entrada ao desenvolver um modelo preditivo. \n",
        "\n",
        "É desejável reduzir o número de variáveis ​​de entrada para reduzir o custo computacional da modelagem e, em alguns casos, melhorar o desempenho do modelo. \n",
        "\n",
        "Os métodos de seleção de recurso baseados em estatística envolvem a avaliação do relacionamento entre cada variável de entrada e a variável de destino usando estatísticas e a seleção das variáveis ​​de entrada que têm o relacionamento mais forte com a variável de destino. Esses métodos podem ser rápidos e eficazes, embora a escolha de medidas estatísticas dependa do tipo de dados das variáveis ​​de entrada e saída."
      ]
    },
    {
      "cell_type": "markdown",
      "metadata": {
        "id": "gGRMGIo0T4gv",
        "colab_type": "text"
      },
      "source": [
        "Referência para a biblioteca Feature Selection: https://scikit-learn.org/stable/modules/feature_selection.html\n",
        "\n",
        "Referência para a biblioteca Logistic Regression: https://scikit-learn.org/stable/modules/generated/sklearn.linear_model.LogisticRegression.html"
      ]
    },
    {
      "cell_type": "code",
      "metadata": {
        "id": "v3VtgJChrBtF",
        "colab_type": "code",
        "colab": {}
      },
      "source": [
        "# Importando pacotes necessários\n",
        "from sklearn.feature_selection import SelectFromModel\n",
        "from sklearn.feature_selection import SelectKBest, SelectPercentile, f_classif\n",
        "from sklearn.linear_model import LogisticRegression"
      ],
      "execution_count": 33,
      "outputs": []
    },
    {
      "cell_type": "markdown",
      "metadata": {
        "id": "hrslIFsswUpq",
        "colab_type": "text"
      },
      "source": [
        "#### Conjunto de dados transformado com o **OneHotEncoder**\n",
        "\n",
        "* Método de Tunning = **Bayesian Optimization**\n",
        " * AUC = *0.9412*\n",
        " * n_estimators = *72*\n",
        " * max_depth = *198*\n",
        " * min_samples_leaf = *1*\t\n",
        " * min_samples_split =\t*9*\n",
        " * bootstrap = *False*\n",
        " * max_features = *sqrt*\n",
        " * encoder = *OneHotEncoder*"
      ]
    },
    {
      "cell_type": "markdown",
      "metadata": {
        "id": "QsKOsVueOlfA",
        "colab_type": "text"
      },
      "source": [
        "##### SelectFromModel\n",
        "\n",
        "Meta-transformador para selecionar features com base na importância dos pesos.\n",
        "\n",
        "Referência: https://scikit-learn.org/stable/modules/generated/sklearn.feature_selection.SelectFromModel.html"
      ]
    },
    {
      "cell_type": "code",
      "metadata": {
        "id": "eRkK3_9OrqAI",
        "colab_type": "code",
        "colab": {
          "base_uri": "https://localhost:8080/",
          "height": 527
        },
        "outputId": "df67c576-76dd-4740-c09b-fa1333afb56f"
      },
      "source": [
        "# Esse código faz a seleção das melhores features usando uma RandomForestClassifier, e usando o RandomForestClassifier para predição \n",
        "k_vs_acc = []\n",
        "k_vs_auc = []\n",
        "k_vs_recall = []\n",
        "k_vs_precision = []\n",
        "k_vs_f1 = []\n",
        "features_list = []\n",
        "k_numbers = []\n",
        "encoder = []\n",
        "seletor = []\n",
        "\n",
        "for k in range(2, X_train_ohe.shape[1], 2):\n",
        "  selector_model = RandomForestClassifier(random_state=123, n_jobs=-1) \n",
        "  selector = SelectFromModel(selector_model, max_features=k, threshold=-np.inf)\n",
        "\n",
        "  selector.fit(X_train_ohe, y_train_ohe)\n",
        "\n",
        "  X_train2 = selector.transform(X_train_ohe)\n",
        "  X_test2 = selector.transform(X_test_ohe)\n",
        "\n",
        "  #print(X_train_ohe.shape, X_train2.shape)\n",
        "\n",
        "  mdl = RandomForestClassifier(n_estimators=72, max_depth=198, min_samples_leaf=1, min_samples_split=9, bootstrap=False, max_features = 'sqrt', random_state=1234, n_jobs=-1)\n",
        "  mdl.fit(X_train2, y_train_ohe)\n",
        "\n",
        "  p = mdl.predict(X_test2)\n",
        "  y_proba = mdl.predict_proba(X_test2)[:, 1]\n",
        " \n",
        "  acc = accuracy_score(y_test_ohe, p)\n",
        "  auc = roc_auc_score(y_test_ohe, y_proba)\n",
        "  recall = recall_score(y_test_ohe, p)\n",
        "  precision = precision_score(y_test_ohe, p)\n",
        "  f1 = f1_score(y_test_ohe, p)\n",
        "\n",
        "  print(\"k = {} - AUC = {}\".format(k, auc))\n",
        "\n",
        "  mask = selector.get_support()\n",
        "  features = list(X_train_ohe.columns[mask])\n",
        "  #print(features)\n",
        "\n",
        "  k_vs_acc.append(acc)\n",
        "  k_vs_auc.append(auc)\n",
        "  k_vs_recall.append(recall)\n",
        "  k_vs_precision.append(precision)\n",
        "  k_vs_f1.append(f1)\n",
        "  features_list.append(features)\n",
        "  k_numbers.append(X_train2.shape[1])\n",
        "  encoder.append('OneHotEncoder')\n",
        "  seletor.append('RandomForestClassifier')"
      ],
      "execution_count": 34,
      "outputs": [
        {
          "output_type": "stream",
          "text": [
            "k = 2 - AUC = 0.7543179983857949\n",
            "k = 4 - AUC = 0.7572881355932204\n",
            "k = 6 - AUC = 0.7952380952380953\n",
            "k = 8 - AUC = 0.8822518159806296\n",
            "k = 10 - AUC = 0.8781678773204197\n",
            "k = 12 - AUC = 0.8984100080710251\n",
            "k = 14 - AUC = 0.8956174334140437\n",
            "k = 16 - AUC = 0.9005326876513317\n",
            "k = 18 - AUC = 0.8951331719128329\n",
            "k = 20 - AUC = 0.9102582728006456\n",
            "k = 22 - AUC = 0.9198627925746571\n",
            "k = 24 - AUC = 0.9239386602098467\n",
            "k = 26 - AUC = 0.9246973365617434\n",
            "k = 28 - AUC = 0.9202017756255044\n",
            "k = 30 - AUC = 0.9249394673123487\n",
            "k = 32 - AUC = 0.9293301049233254\n",
            "k = 34 - AUC = 0.936230831315577\n",
            "k = 36 - AUC = 0.9311138014527844\n",
            "k = 38 - AUC = 0.9310330912025827\n",
            "k = 40 - AUC = 0.9298950766747378\n",
            "k = 42 - AUC = 0.9335108958837772\n",
            "k = 44 - AUC = 0.928587570621469\n",
            "k = 46 - AUC = 0.9316384180790961\n",
            "k = 48 - AUC = 0.93682001614205\n",
            "k = 50 - AUC = 0.9348426150121065\n",
            "k = 52 - AUC = 0.9326069410815173\n",
            "k = 54 - AUC = 0.9341162227602906\n",
            "k = 56 - AUC = 0.9354802259887005\n",
            "k = 58 - AUC = 0.9318563357546409\n",
            "k = 60 - AUC = 0.9371589991928975\n"
          ],
          "name": "stdout"
        }
      ]
    },
    {
      "cell_type": "code",
      "metadata": {
        "id": "bJLbMaFH7Y_u",
        "colab_type": "code",
        "colab": {
          "base_uri": "https://localhost:8080/",
          "height": 204
        },
        "outputId": "22bfd572-42db-4159-f8c1-43f4535a970e"
      },
      "source": [
        "# Cria um novo dataframe com o resultado do processo\n",
        "df1 = pd.DataFrame(list(zip(k_vs_acc, k_vs_auc, k_vs_recall, k_vs_precision, k_vs_f1, features_list,  k_numbers,  encoder, seletor)), columns = ['Accuracy', 'AUC', 'Recall', 'Precision', 'F1-Score', 'Features', 'FeatureNumber', 'Encoder', 'Selector'])\n",
        "df1.head()"
      ],
      "execution_count": 35,
      "outputs": [
        {
          "output_type": "execute_result",
          "data": {
            "text/html": [
              "<div>\n",
              "<style scoped>\n",
              "    .dataframe tbody tr th:only-of-type {\n",
              "        vertical-align: middle;\n",
              "    }\n",
              "\n",
              "    .dataframe tbody tr th {\n",
              "        vertical-align: top;\n",
              "    }\n",
              "\n",
              "    .dataframe thead th {\n",
              "        text-align: right;\n",
              "    }\n",
              "</style>\n",
              "<table border=\"1\" class=\"dataframe\">\n",
              "  <thead>\n",
              "    <tr style=\"text-align: right;\">\n",
              "      <th></th>\n",
              "      <th>Accuracy</th>\n",
              "      <th>AUC</th>\n",
              "      <th>Recall</th>\n",
              "      <th>Precision</th>\n",
              "      <th>F1-Score</th>\n",
              "      <th>Features</th>\n",
              "      <th>FeatureNumber</th>\n",
              "      <th>Encoder</th>\n",
              "      <th>Selector</th>\n",
              "    </tr>\n",
              "  </thead>\n",
              "  <tbody>\n",
              "    <tr>\n",
              "      <th>0</th>\n",
              "      <td>0.850700</td>\n",
              "      <td>0.754318</td>\n",
              "      <td>0.940952</td>\n",
              "      <td>0.883721</td>\n",
              "      <td>0.911439</td>\n",
              "      <td>[VAL_A_PAGAR, FAIXA_DE_DIVIDA_SEM DIVIDA]</td>\n",
              "      <td>2</td>\n",
              "      <td>OneHotEncoder</td>\n",
              "      <td>RandomForestClassifier</td>\n",
              "    </tr>\n",
              "    <tr>\n",
              "      <th>1</th>\n",
              "      <td>0.867807</td>\n",
              "      <td>0.757288</td>\n",
              "      <td>0.963810</td>\n",
              "      <td>0.884615</td>\n",
              "      <td>0.922516</td>\n",
              "      <td>[VAL_A_PAGAR, FAIXA_DE_DIVIDA_SEM DIVIDA, CR_P...</td>\n",
              "      <td>4</td>\n",
              "      <td>OneHotEncoder</td>\n",
              "      <td>RandomForestClassifier</td>\n",
              "    </tr>\n",
              "    <tr>\n",
              "      <th>2</th>\n",
              "      <td>0.884914</td>\n",
              "      <td>0.795238</td>\n",
              "      <td>0.954286</td>\n",
              "      <td>0.909256</td>\n",
              "      <td>0.931227</td>\n",
              "      <td>[VAL_A_PAGAR, VAL_DIVIDA_TOTAL, FAIXA_DE_DIVID...</td>\n",
              "      <td>6</td>\n",
              "      <td>OneHotEncoder</td>\n",
              "      <td>RandomForestClassifier</td>\n",
              "    </tr>\n",
              "    <tr>\n",
              "      <th>3</th>\n",
              "      <td>0.926905</td>\n",
              "      <td>0.882252</td>\n",
              "      <td>0.967619</td>\n",
              "      <td>0.944238</td>\n",
              "      <td>0.955786</td>\n",
              "      <td>[NOM_SITUACAO_ALUNO_Ativo, VAL_A_PAGAR, VAL_DI...</td>\n",
              "      <td>8</td>\n",
              "      <td>OneHotEncoder</td>\n",
              "      <td>RandomForestClassifier</td>\n",
              "    </tr>\n",
              "    <tr>\n",
              "      <th>4</th>\n",
              "      <td>0.922240</td>\n",
              "      <td>0.878168</td>\n",
              "      <td>0.961905</td>\n",
              "      <td>0.943925</td>\n",
              "      <td>0.952830</td>\n",
              "      <td>[NOM_SITUACAO_ALUNO_Ativo, VAL_A_PAGAR, VAL_DI...</td>\n",
              "      <td>10</td>\n",
              "      <td>OneHotEncoder</td>\n",
              "      <td>RandomForestClassifier</td>\n",
              "    </tr>\n",
              "  </tbody>\n",
              "</table>\n",
              "</div>"
            ],
            "text/plain": [
              "   Accuracy       AUC  ...        Encoder                Selector\n",
              "0  0.850700  0.754318  ...  OneHotEncoder  RandomForestClassifier\n",
              "1  0.867807  0.757288  ...  OneHotEncoder  RandomForestClassifier\n",
              "2  0.884914  0.795238  ...  OneHotEncoder  RandomForestClassifier\n",
              "3  0.926905  0.882252  ...  OneHotEncoder  RandomForestClassifier\n",
              "4  0.922240  0.878168  ...  OneHotEncoder  RandomForestClassifier\n",
              "\n",
              "[5 rows x 9 columns]"
            ]
          },
          "metadata": {
            "tags": []
          },
          "execution_count": 35
        }
      ]
    },
    {
      "cell_type": "code",
      "metadata": {
        "id": "J3wKRIW261Gs",
        "colab_type": "code",
        "colab": {
          "base_uri": "https://localhost:8080/",
          "height": 527
        },
        "outputId": "3c5bddb5-10e4-402e-ffa2-b7a03916e72d"
      },
      "source": [
        "# Esse código faz a seleção das melhores features usando uma LogisticRegression, e usando uma RandomForestClassifier para predição \n",
        "k_vs_acc = []\n",
        "k_vs_auc = []\n",
        "k_vs_recall = []\n",
        "k_vs_precision = []\n",
        "k_vs_f1 = []\n",
        "features_list = []\n",
        "k_numbers = []\n",
        "encoder = []\n",
        "seletor = []\n",
        "\n",
        "for k in range(2, X_train_ohe.shape[1], 2):\n",
        "  selector_model = LogisticRegression(random_state=123, n_jobs=-1)  \n",
        "  selector = SelectFromModel(selector_model, max_features=k, threshold=-np.inf)\n",
        "\n",
        "  selector.fit(X_train_ohe, y_train_ohe)\n",
        "\n",
        "  X_train2 = selector.transform(X_train_ohe)\n",
        "  X_test2 = selector.transform(X_test_ohe)\n",
        "\n",
        "  mdl = RandomForestClassifier(n_estimators=72, max_depth=198, min_samples_leaf=1, min_samples_split=9, bootstrap=False, max_features = 'sqrt', random_state=1234, n_jobs=-1)\n",
        "  mdl.fit(X_train2, y_train_ohe)\n",
        "\n",
        "  p = mdl.predict(X_test2)\n",
        "  y_proba = mdl.predict_proba(X_test2)[:, 1]\n",
        " \n",
        "  acc = accuracy_score(y_test_ohe, p)\n",
        "  auc = roc_auc_score(y_test_ohe, y_proba)\n",
        "  recall = recall_score(y_test_ohe, p)\n",
        "  precision = precision_score(y_test_ohe, p)\n",
        "  f1 = f1_score(y_test_ohe, p)\n",
        "\n",
        "  print(\"k = {} - AUC = {}\".format(k, auc))\n",
        "\n",
        "  mask = selector.get_support()\n",
        "  features = list(X_train_ohe.columns[mask])\n",
        "\n",
        "  k_vs_acc.append(acc)\n",
        "  k_vs_auc.append(auc)\n",
        "  k_vs_recall.append(recall)\n",
        "  k_vs_precision.append(precision)\n",
        "  k_vs_f1.append(f1)\n",
        "  features_list.append(features)\n",
        "  k_numbers.append(X_train2.shape[1])\n",
        "  encoder.append('OneHotEncoder')\n",
        "  seletor.append('LogisticRegression')"
      ],
      "execution_count": 89,
      "outputs": [
        {
          "output_type": "stream",
          "text": [
            "k = 2 - AUC = 0.6770540758676352\n",
            "k = 4 - AUC = 0.8721065375302663\n",
            "k = 6 - AUC = 0.9390153349475385\n",
            "k = 8 - AUC = 0.9427360774818403\n",
            "k = 10 - AUC = 0.9404681194511704\n",
            "k = 12 - AUC = 0.9366020984665051\n",
            "k = 14 - AUC = 0.9384342211460857\n",
            "k = 16 - AUC = 0.9392171105730426\n",
            "k = 18 - AUC = 0.9392009685230023\n",
            "k = 20 - AUC = 0.939362389023406\n",
            "k = 22 - AUC = 0.9413155770782888\n",
            "k = 24 - AUC = 0.9248103309120259\n",
            "k = 26 - AUC = 0.932041969330105\n",
            "k = 28 - AUC = 0.9308716707021792\n",
            "k = 30 - AUC = 0.9315173527037934\n",
            "k = 32 - AUC = 0.9349878934624697\n",
            "k = 34 - AUC = 0.9153510895883777\n",
            "k = 36 - AUC = 0.9275625504439063\n",
            "k = 38 - AUC = 0.9209765940274414\n",
            "k = 40 - AUC = 0.920871670702179\n",
            "k = 42 - AUC = 0.9298950766747377\n",
            "k = 44 - AUC = 0.9285794995964488\n",
            "k = 46 - AUC = 0.932502017756255\n",
            "k = 48 - AUC = 0.9273123486682808\n",
            "k = 50 - AUC = 0.9332203389830509\n",
            "k = 52 - AUC = 0.9320096852300243\n",
            "k = 54 - AUC = 0.9347861178369653\n",
            "k = 56 - AUC = 0.9363115415657788\n",
            "k = 58 - AUC = 0.9370217917675544\n",
            "k = 60 - AUC = 0.9366343825665859\n"
          ],
          "name": "stdout"
        }
      ]
    },
    {
      "cell_type": "code",
      "metadata": {
        "id": "x9IiLHqbLC_l",
        "colab_type": "code",
        "colab": {
          "base_uri": "https://localhost:8080/",
          "height": 204
        },
        "outputId": "2ae1b7ea-8177-4c29-dc08-54f211bd7dc2"
      },
      "source": [
        "# Cria um novo dataframe com o resultado do processo\n",
        "df2 = pd.DataFrame(list(zip(k_vs_acc, k_vs_auc, k_vs_recall, k_vs_precision, k_vs_f1, features_list,  k_numbers,  encoder, seletor)), columns = ['Accuracy', 'AUC', 'Recall', 'Precision', 'F1-Score', 'Features', 'FeatureNumber', 'Encoder', 'Selector'])\n",
        "df2.head()"
      ],
      "execution_count": 104,
      "outputs": [
        {
          "output_type": "execute_result",
          "data": {
            "text/html": [
              "<div>\n",
              "<style scoped>\n",
              "    .dataframe tbody tr th:only-of-type {\n",
              "        vertical-align: middle;\n",
              "    }\n",
              "\n",
              "    .dataframe tbody tr th {\n",
              "        vertical-align: top;\n",
              "    }\n",
              "\n",
              "    .dataframe thead th {\n",
              "        text-align: right;\n",
              "    }\n",
              "</style>\n",
              "<table border=\"1\" class=\"dataframe\">\n",
              "  <thead>\n",
              "    <tr style=\"text-align: right;\">\n",
              "      <th></th>\n",
              "      <th>Accuracy</th>\n",
              "      <th>AUC</th>\n",
              "      <th>Recall</th>\n",
              "      <th>Precision</th>\n",
              "      <th>F1-Score</th>\n",
              "      <th>Features</th>\n",
              "      <th>FeatureNumber</th>\n",
              "      <th>Encoder</th>\n",
              "      <th>Selector</th>\n",
              "    </tr>\n",
              "  </thead>\n",
              "  <tbody>\n",
              "    <tr>\n",
              "      <th>0</th>\n",
              "      <td>0.853810</td>\n",
              "      <td>0.677054</td>\n",
              "      <td>0.956190</td>\n",
              "      <td>0.876091</td>\n",
              "      <td>0.914390</td>\n",
              "      <td>[ADIMP_N_REN, IND_INDICIO_EVASAO]</td>\n",
              "      <td>2</td>\n",
              "      <td>OneHotEncoder</td>\n",
              "      <td>LogisticRegression</td>\n",
              "    </tr>\n",
              "    <tr>\n",
              "      <th>1</th>\n",
              "      <td>0.909798</td>\n",
              "      <td>0.872107</td>\n",
              "      <td>0.950476</td>\n",
              "      <td>0.939736</td>\n",
              "      <td>0.945076</td>\n",
              "      <td>[CLASSE_PAGANTE_ATU_MENSALISTA, FAIXA_DE_DIVID...</td>\n",
              "      <td>4</td>\n",
              "      <td>OneHotEncoder</td>\n",
              "      <td>LogisticRegression</td>\n",
              "    </tr>\n",
              "    <tr>\n",
              "      <th>2</th>\n",
              "      <td>0.928460</td>\n",
              "      <td>0.939015</td>\n",
              "      <td>0.948571</td>\n",
              "      <td>0.963250</td>\n",
              "      <td>0.955854</td>\n",
              "      <td>[CLASSE_PAGANTE_ATU_MENSALISTA, NOM_SITUACAO_A...</td>\n",
              "      <td>6</td>\n",
              "      <td>OneHotEncoder</td>\n",
              "      <td>LogisticRegression</td>\n",
              "    </tr>\n",
              "    <tr>\n",
              "      <th>3</th>\n",
              "      <td>0.933126</td>\n",
              "      <td>0.942736</td>\n",
              "      <td>0.954286</td>\n",
              "      <td>0.963462</td>\n",
              "      <td>0.958852</td>\n",
              "      <td>[TIPO_INADIMPLENCIA_ADIMPLENTE, CLASSE_PAGANTE...</td>\n",
              "      <td>8</td>\n",
              "      <td>OneHotEncoder</td>\n",
              "      <td>LogisticRegression</td>\n",
              "    </tr>\n",
              "    <tr>\n",
              "      <th>4</th>\n",
              "      <td>0.928460</td>\n",
              "      <td>0.940468</td>\n",
              "      <td>0.954286</td>\n",
              "      <td>0.957935</td>\n",
              "      <td>0.956107</td>\n",
              "      <td>[TIPO_INADIMPLENCIA_ADIMPLENTE, CLASSE_PAGANTE...</td>\n",
              "      <td>10</td>\n",
              "      <td>OneHotEncoder</td>\n",
              "      <td>LogisticRegression</td>\n",
              "    </tr>\n",
              "  </tbody>\n",
              "</table>\n",
              "</div>"
            ],
            "text/plain": [
              "   Accuracy       AUC  ...        Encoder            Selector\n",
              "0  0.853810  0.677054  ...  OneHotEncoder  LogisticRegression\n",
              "1  0.909798  0.872107  ...  OneHotEncoder  LogisticRegression\n",
              "2  0.928460  0.939015  ...  OneHotEncoder  LogisticRegression\n",
              "3  0.933126  0.942736  ...  OneHotEncoder  LogisticRegression\n",
              "4  0.928460  0.940468  ...  OneHotEncoder  LogisticRegression\n",
              "\n",
              "[5 rows x 9 columns]"
            ]
          },
          "metadata": {
            "tags": []
          },
          "execution_count": 104
        }
      ]
    },
    {
      "cell_type": "code",
      "metadata": {
        "id": "o0lLrzGeMYtT",
        "colab_type": "code",
        "colab": {
          "base_uri": "https://localhost:8080/",
          "height": 431
        },
        "outputId": "bec4c948-9730-45e5-e0d8-0950e1b58d9a"
      },
      "source": [
        "# Linha mais estável entre 12 e 22 fetures\n",
        "pd.Series(k_vs_auc, index=range(2,61,2)).plot(figsize=(10,7));"
      ],
      "execution_count": 108,
      "outputs": [
        {
          "output_type": "display_data",
          "data": {
            "image/png": "[encoded data removed]",
            "text/plain": [
              "<Figure size 720x504 with 1 Axes>"
            ]
          },
          "metadata": {
            "tags": [],
            "needs_background": "light"
          }
        }
      ]
    },
    {
      "cell_type": "markdown",
      "metadata": {
        "id": "bzyCW04jNrrB",
        "colab_type": "text"
      },
      "source": [
        "##### SelectKBest\n",
        "\n",
        "Seleciona as features de acordo com as k pontuações mais altas.\n",
        "\n",
        "Referência: https://scikit-learn.org/stable/modules/generated/sklearn.feature_selection.SelectKBest.html\n",
        "\n",
        "Referência: https://scikit-learn.org/stable/modules/feature_selection.html#univariate-feature-selection"
      ]
    },
    {
      "cell_type": "code",
      "metadata": {
        "id": "VdYxGsHOK2mZ",
        "colab_type": "code",
        "colab": {
          "base_uri": "https://localhost:8080/",
          "height": 527
        },
        "outputId": "06752e0c-ecf0-45b0-f1c9-934a397b41ab"
      },
      "source": [
        "# Esse código faz a seleção das melhores features usando o SelectKBest, e usando o RandomForestClassifier para predição \n",
        "k_vs_acc = []\n",
        "k_vs_auc = []\n",
        "k_vs_recall = []\n",
        "k_vs_precision = []\n",
        "k_vs_f1 = []\n",
        "features_list = []\n",
        "k_numbers = []\n",
        "encoder = []\n",
        "seletor = []\n",
        "\n",
        "for k in range(2,X_train_ohe.shape[1],2):\n",
        "  selector = SelectKBest(score_func= f_classif, k=k)\n",
        "\n",
        "  X_train2 = selector.fit_transform(X_train_ohe, y_train_ohe)\n",
        "  X_test2 = selector.transform(X_test_ohe)\n",
        "\n",
        "  mdl = RandomForestClassifier(n_estimators=72, max_depth=198, min_samples_leaf=1, min_samples_split=9, bootstrap=False, max_features = 'sqrt', random_state=1234, n_jobs=-1)\n",
        "  mdl.fit(X_train2, y_train_ohe)\n",
        "\n",
        "  p = mdl.predict(X_test2)\n",
        "  y_proba = mdl.predict_proba(X_test2)[:, 1]\n",
        " \n",
        "  acc = accuracy_score(y_test_ohe, p)\n",
        "  auc = roc_auc_score(y_test_ohe, y_proba)\n",
        "  recall = recall_score(y_test_ohe, p)\n",
        "  precision = precision_score(y_test_ohe, p)\n",
        "  f1 = f1_score(y_test_ohe, p)\n",
        "\n",
        "  print(\"k = {} - AUC = {}\".format(k, auc))\n",
        "\n",
        "  mask = selector.get_support()\n",
        "  features = list(X_train_ohe.columns[mask])\n",
        "\n",
        "  k_vs_acc.append(acc)\n",
        "  k_vs_auc.append(auc)\n",
        "  k_vs_recall.append(recall)\n",
        "  k_vs_precision.append(precision)\n",
        "  k_vs_f1.append(f1)\n",
        "  features_list.append(features)\n",
        "  k_numbers.append(X_train2.shape[1])\n",
        "  encoder.append('OneHotEncoder')\n",
        "  seletor.append('SelectKBest')"
      ],
      "execution_count": 39,
      "outputs": [
        {
          "output_type": "stream",
          "text": [
            "k = 2 - AUC = 0.6770863599677159\n",
            "k = 4 - AUC = 0.7081598062953995\n",
            "k = 6 - AUC = 0.7033171912832931\n",
            "k = 8 - AUC = 0.8679418886198548\n",
            "k = 10 - AUC = 0.8754882970137208\n",
            "k = 12 - AUC = 0.8650201775625506\n",
            "k = 14 - AUC = 0.8925181598062953\n",
            "k = 16 - AUC = 0.8949313962873285\n",
            "k = 18 - AUC = 0.8983938660209847\n",
            "k = 20 - AUC = 0.8964164648910412\n",
            "k = 22 - AUC = 0.8995722356739306\n",
            "k = 24 - AUC = 0.9065536723163842\n",
            "k = 26 - AUC = 0.9069330104923327\n",
            "k = 28 - AUC = 0.9091121872477805\n",
            "k = 30 - AUC = 0.9063680387409201\n",
            "k = 32 - AUC = 0.9057223567393059\n",
            "k = 34 - AUC = 0.9154640839386603\n",
            "k = 36 - AUC = 0.923728813559322\n",
            "k = 38 - AUC = 0.9233898305084746\n",
            "k = 40 - AUC = 0.9268603712671508\n",
            "k = 42 - AUC = 0.9275302663438257\n",
            "k = 44 - AUC = 0.9316707021791767\n",
            "k = 46 - AUC = 0.9311218724778045\n",
            "k = 48 - AUC = 0.9330508474576271\n",
            "k = 50 - AUC = 0.9361016949152542\n",
            "k = 52 - AUC = 0.9351654560129137\n",
            "k = 54 - AUC = 0.9331557707828894\n",
            "k = 56 - AUC = 0.9330266343825666\n",
            "k = 58 - AUC = 0.9345197740112995\n",
            "k = 60 - AUC = 0.9295238095238095\n"
          ],
          "name": "stdout"
        }
      ]
    },
    {
      "cell_type": "code",
      "metadata": {
        "id": "jP12anRtRi9y",
        "colab_type": "code",
        "colab": {
          "base_uri": "https://localhost:8080/",
          "height": 204
        },
        "outputId": "7b5b91bc-ddb9-465f-d49e-154843cc589b"
      },
      "source": [
        "# Cria um novo dataframe com o resultado do processo\n",
        "df3 = pd.DataFrame(list(zip(k_vs_acc, k_vs_auc, k_vs_recall, k_vs_precision, k_vs_f1, features_list,  k_numbers,  encoder, seletor)), columns = ['Accuracy', 'AUC', 'Recall', 'Precision', 'F1-Score', 'Features', 'FeatureNumber', 'Encoder', 'Selector'])\n",
        "df3.head()"
      ],
      "execution_count": 40,
      "outputs": [
        {
          "output_type": "execute_result",
          "data": {
            "text/html": [
              "<div>\n",
              "<style scoped>\n",
              "    .dataframe tbody tr th:only-of-type {\n",
              "        vertical-align: middle;\n",
              "    }\n",
              "\n",
              "    .dataframe tbody tr th {\n",
              "        vertical-align: top;\n",
              "    }\n",
              "\n",
              "    .dataframe thead th {\n",
              "        text-align: right;\n",
              "    }\n",
              "</style>\n",
              "<table border=\"1\" class=\"dataframe\">\n",
              "  <thead>\n",
              "    <tr style=\"text-align: right;\">\n",
              "      <th></th>\n",
              "      <th>Accuracy</th>\n",
              "      <th>AUC</th>\n",
              "      <th>Recall</th>\n",
              "      <th>Precision</th>\n",
              "      <th>F1-Score</th>\n",
              "      <th>Features</th>\n",
              "      <th>FeatureNumber</th>\n",
              "      <th>Encoder</th>\n",
              "      <th>Selector</th>\n",
              "    </tr>\n",
              "  </thead>\n",
              "  <tbody>\n",
              "    <tr>\n",
              "      <th>0</th>\n",
              "      <td>0.875583</td>\n",
              "      <td>0.677086</td>\n",
              "      <td>0.990476</td>\n",
              "      <td>0.873950</td>\n",
              "      <td>0.928571</td>\n",
              "      <td>[FAIXA_DE_DIVIDA_SEM DIVIDA, FAIXA_DE_DIVIDA_&gt;...</td>\n",
              "      <td>2</td>\n",
              "      <td>OneHotEncoder</td>\n",
              "      <td>SelectKBest</td>\n",
              "    </tr>\n",
              "    <tr>\n",
              "      <th>1</th>\n",
              "      <td>0.881804</td>\n",
              "      <td>0.708160</td>\n",
              "      <td>0.979048</td>\n",
              "      <td>0.887737</td>\n",
              "      <td>0.931159</td>\n",
              "      <td>[TIPO_INADIMPLENCIA_ADIMPLENTE, FAIXA_DE_DIVID...</td>\n",
              "      <td>4</td>\n",
              "      <td>OneHotEncoder</td>\n",
              "      <td>SelectKBest</td>\n",
              "    </tr>\n",
              "    <tr>\n",
              "      <th>2</th>\n",
              "      <td>0.864697</td>\n",
              "      <td>0.703317</td>\n",
              "      <td>0.963810</td>\n",
              "      <td>0.881533</td>\n",
              "      <td>0.920837</td>\n",
              "      <td>[TIPO_INADIMPLENCIA_ADIMPLENTE, VAL_DIVIDA_TOT...</td>\n",
              "      <td>6</td>\n",
              "      <td>OneHotEncoder</td>\n",
              "      <td>SelectKBest</td>\n",
              "    </tr>\n",
              "    <tr>\n",
              "      <th>3</th>\n",
              "      <td>0.916019</td>\n",
              "      <td>0.867942</td>\n",
              "      <td>0.956190</td>\n",
              "      <td>0.941839</td>\n",
              "      <td>0.948960</td>\n",
              "      <td>[TIPO_INADIMPLENCIA_ADIMPLENTE, NOM_SITUACAO_A...</td>\n",
              "      <td>8</td>\n",
              "      <td>OneHotEncoder</td>\n",
              "      <td>SelectKBest</td>\n",
              "    </tr>\n",
              "    <tr>\n",
              "      <th>4</th>\n",
              "      <td>0.898911</td>\n",
              "      <td>0.875488</td>\n",
              "      <td>0.933333</td>\n",
              "      <td>0.942308</td>\n",
              "      <td>0.937799</td>\n",
              "      <td>[TIPO_INADIMPLENCIA_ADIMPLENTE, NOM_SITUACAO_A...</td>\n",
              "      <td>10</td>\n",
              "      <td>OneHotEncoder</td>\n",
              "      <td>SelectKBest</td>\n",
              "    </tr>\n",
              "  </tbody>\n",
              "</table>\n",
              "</div>"
            ],
            "text/plain": [
              "   Accuracy       AUC    Recall  ...  FeatureNumber        Encoder     Selector\n",
              "0  0.875583  0.677086  0.990476  ...              2  OneHotEncoder  SelectKBest\n",
              "1  0.881804  0.708160  0.979048  ...              4  OneHotEncoder  SelectKBest\n",
              "2  0.864697  0.703317  0.963810  ...              6  OneHotEncoder  SelectKBest\n",
              "3  0.916019  0.867942  0.956190  ...              8  OneHotEncoder  SelectKBest\n",
              "4  0.898911  0.875488  0.933333  ...             10  OneHotEncoder  SelectKBest\n",
              "\n",
              "[5 rows x 9 columns]"
            ]
          },
          "metadata": {
            "tags": []
          },
          "execution_count": 40
        }
      ]
    },
    {
      "cell_type": "markdown",
      "metadata": {
        "id": "KlaiKuU-6avn",
        "colab_type": "text"
      },
      "source": [
        "### Juntando todos os DataFrames\n",
        "\n",
        "Esse DataFrame que criaremos servirá como uma consulta/análise com todos os resultados (métricas) dos dados do testes do modelo, e também os método que utilizamos para isso.\n",
        "\n",
        "Colunas criadas:\n",
        "\n",
        "* **Accuracy** - Métrica Acurácia\n",
        "* **AUC** - Métrica AUC\n",
        "* **Recall** - Métrica Recall\n",
        "* **Precision** - Métrica Precisão\n",
        "* **F1-Score** - Métrica F1-Score\n",
        "* **Features** - Features mais importantes\n",
        "* **FeatureNumber** - Número de features usadas\n",
        "* **Encoder** - Encoder usado para treinamento/teste do modelo (OneHotEncoder)\n",
        "* **Selector** - Seletor de features usado para treinamento/teste do modelo (SelectFromModel e SelectKBest)\n",
        "\n",
        "Fizemos uma explicação de cada métrica no notebook anterior com o [PyCaret](https://github.com/rmendesl/TCC/blob/master/03_CreateModelPyCaret.ipynb) no tópico **Entendendo as métricas**\n",
        "\n",
        "Link: https://github.com/rmendesl/TCC/blob/master/03_CreateModelPyCaret.ipynb"
      ]
    },
    {
      "cell_type": "code",
      "metadata": {
        "id": "0n_G5F_x6uEe",
        "colab_type": "code",
        "colab": {
          "base_uri": "https://localhost:8080/",
          "height": 419
        },
        "outputId": "e9e1e7e0-e766-49fc-8e30-e37569c07ae2"
      },
      "source": [
        "# Código para agregar os dataframes dos processos anteriores\n",
        "df_prediticion = pd.concat([df1,df2,df3], axis=0)\n",
        "df_prediticion"
      ],
      "execution_count": 41,
      "outputs": [
        {
          "output_type": "execute_result",
          "data": {
            "text/html": [
              "<div>\n",
              "<style scoped>\n",
              "    .dataframe tbody tr th:only-of-type {\n",
              "        vertical-align: middle;\n",
              "    }\n",
              "\n",
              "    .dataframe tbody tr th {\n",
              "        vertical-align: top;\n",
              "    }\n",
              "\n",
              "    .dataframe thead th {\n",
              "        text-align: right;\n",
              "    }\n",
              "</style>\n",
              "<table border=\"1\" class=\"dataframe\">\n",
              "  <thead>\n",
              "    <tr style=\"text-align: right;\">\n",
              "      <th></th>\n",
              "      <th>Accuracy</th>\n",
              "      <th>AUC</th>\n",
              "      <th>Recall</th>\n",
              "      <th>Precision</th>\n",
              "      <th>F1-Score</th>\n",
              "      <th>Features</th>\n",
              "      <th>FeatureNumber</th>\n",
              "      <th>Encoder</th>\n",
              "      <th>Selector</th>\n",
              "    </tr>\n",
              "  </thead>\n",
              "  <tbody>\n",
              "    <tr>\n",
              "      <th>0</th>\n",
              "      <td>0.850700</td>\n",
              "      <td>0.754318</td>\n",
              "      <td>0.940952</td>\n",
              "      <td>0.883721</td>\n",
              "      <td>0.911439</td>\n",
              "      <td>[VAL_A_PAGAR, FAIXA_DE_DIVIDA_SEM DIVIDA]</td>\n",
              "      <td>2</td>\n",
              "      <td>OneHotEncoder</td>\n",
              "      <td>RandomForestClassifier</td>\n",
              "    </tr>\n",
              "    <tr>\n",
              "      <th>1</th>\n",
              "      <td>0.867807</td>\n",
              "      <td>0.757288</td>\n",
              "      <td>0.963810</td>\n",
              "      <td>0.884615</td>\n",
              "      <td>0.922516</td>\n",
              "      <td>[VAL_A_PAGAR, FAIXA_DE_DIVIDA_SEM DIVIDA, CR_P...</td>\n",
              "      <td>4</td>\n",
              "      <td>OneHotEncoder</td>\n",
              "      <td>RandomForestClassifier</td>\n",
              "    </tr>\n",
              "    <tr>\n",
              "      <th>2</th>\n",
              "      <td>0.884914</td>\n",
              "      <td>0.795238</td>\n",
              "      <td>0.954286</td>\n",
              "      <td>0.909256</td>\n",
              "      <td>0.931227</td>\n",
              "      <td>[VAL_A_PAGAR, VAL_DIVIDA_TOTAL, FAIXA_DE_DIVID...</td>\n",
              "      <td>6</td>\n",
              "      <td>OneHotEncoder</td>\n",
              "      <td>RandomForestClassifier</td>\n",
              "    </tr>\n",
              "    <tr>\n",
              "      <th>3</th>\n",
              "      <td>0.926905</td>\n",
              "      <td>0.882252</td>\n",
              "      <td>0.967619</td>\n",
              "      <td>0.944238</td>\n",
              "      <td>0.955786</td>\n",
              "      <td>[NOM_SITUACAO_ALUNO_Ativo, VAL_A_PAGAR, VAL_DI...</td>\n",
              "      <td>8</td>\n",
              "      <td>OneHotEncoder</td>\n",
              "      <td>RandomForestClassifier</td>\n",
              "    </tr>\n",
              "    <tr>\n",
              "      <th>4</th>\n",
              "      <td>0.922240</td>\n",
              "      <td>0.878168</td>\n",
              "      <td>0.961905</td>\n",
              "      <td>0.943925</td>\n",
              "      <td>0.952830</td>\n",
              "      <td>[NOM_SITUACAO_ALUNO_Ativo, VAL_A_PAGAR, VAL_DI...</td>\n",
              "      <td>10</td>\n",
              "      <td>OneHotEncoder</td>\n",
              "      <td>RandomForestClassifier</td>\n",
              "    </tr>\n",
              "    <tr>\n",
              "      <th>...</th>\n",
              "      <td>...</td>\n",
              "      <td>...</td>\n",
              "      <td>...</td>\n",
              "      <td>...</td>\n",
              "      <td>...</td>\n",
              "      <td>...</td>\n",
              "      <td>...</td>\n",
              "      <td>...</td>\n",
              "      <td>...</td>\n",
              "    </tr>\n",
              "    <tr>\n",
              "      <th>25</th>\n",
              "      <td>0.930016</td>\n",
              "      <td>0.935165</td>\n",
              "      <td>0.965714</td>\n",
              "      <td>0.949438</td>\n",
              "      <td>0.957507</td>\n",
              "      <td>[TIPO_INADIMPLENCIA_ADIMPLENTE, TIPO_INADIMPLE...</td>\n",
              "      <td>52</td>\n",
              "      <td>OneHotEncoder</td>\n",
              "      <td>SelectKBest</td>\n",
              "    </tr>\n",
              "    <tr>\n",
              "      <th>26</th>\n",
              "      <td>0.930016</td>\n",
              "      <td>0.933156</td>\n",
              "      <td>0.961905</td>\n",
              "      <td>0.952830</td>\n",
              "      <td>0.957346</td>\n",
              "      <td>[TIPO_INADIMPLENCIA_ADIMPLENTE, TIPO_INADIMPLE...</td>\n",
              "      <td>54</td>\n",
              "      <td>OneHotEncoder</td>\n",
              "      <td>SelectKBest</td>\n",
              "    </tr>\n",
              "    <tr>\n",
              "      <th>27</th>\n",
              "      <td>0.930016</td>\n",
              "      <td>0.933027</td>\n",
              "      <td>0.963810</td>\n",
              "      <td>0.951128</td>\n",
              "      <td>0.957427</td>\n",
              "      <td>[TIPO_INADIMPLENCIA_ADIMPLENTE, TIPO_INADIMPLE...</td>\n",
              "      <td>56</td>\n",
              "      <td>OneHotEncoder</td>\n",
              "      <td>SelectKBest</td>\n",
              "    </tr>\n",
              "    <tr>\n",
              "      <th>28</th>\n",
              "      <td>0.928460</td>\n",
              "      <td>0.934520</td>\n",
              "      <td>0.963810</td>\n",
              "      <td>0.949343</td>\n",
              "      <td>0.956522</td>\n",
              "      <td>[TIPO_INADIMPLENCIA_ADIMPLENTE, TIPO_INADIMPLE...</td>\n",
              "      <td>58</td>\n",
              "      <td>OneHotEncoder</td>\n",
              "      <td>SelectKBest</td>\n",
              "    </tr>\n",
              "    <tr>\n",
              "      <th>29</th>\n",
              "      <td>0.931571</td>\n",
              "      <td>0.929524</td>\n",
              "      <td>0.965714</td>\n",
              "      <td>0.951220</td>\n",
              "      <td>0.958412</td>\n",
              "      <td>[TIPO_INADIMPLENCIA_ADIMPLENTE, TIPO_INADIMPLE...</td>\n",
              "      <td>60</td>\n",
              "      <td>OneHotEncoder</td>\n",
              "      <td>SelectKBest</td>\n",
              "    </tr>\n",
              "  </tbody>\n",
              "</table>\n",
              "<p>90 rows × 9 columns</p>\n",
              "</div>"
            ],
            "text/plain": [
              "    Accuracy       AUC  ...        Encoder                Selector\n",
              "0   0.850700  0.754318  ...  OneHotEncoder  RandomForestClassifier\n",
              "1   0.867807  0.757288  ...  OneHotEncoder  RandomForestClassifier\n",
              "2   0.884914  0.795238  ...  OneHotEncoder  RandomForestClassifier\n",
              "3   0.926905  0.882252  ...  OneHotEncoder  RandomForestClassifier\n",
              "4   0.922240  0.878168  ...  OneHotEncoder  RandomForestClassifier\n",
              "..       ...       ...  ...            ...                     ...\n",
              "25  0.930016  0.935165  ...  OneHotEncoder             SelectKBest\n",
              "26  0.930016  0.933156  ...  OneHotEncoder             SelectKBest\n",
              "27  0.930016  0.933027  ...  OneHotEncoder             SelectKBest\n",
              "28  0.928460  0.934520  ...  OneHotEncoder             SelectKBest\n",
              "29  0.931571  0.929524  ...  OneHotEncoder             SelectKBest\n",
              "\n",
              "[90 rows x 9 columns]"
            ]
          },
          "metadata": {
            "tags": []
          },
          "execution_count": 41
        }
      ]
    },
    {
      "cell_type": "code",
      "metadata": {
        "id": "jojM7Ovz68V1",
        "colab_type": "code",
        "colab": {
          "base_uri": "https://localhost:8080/",
          "height": 142
        },
        "outputId": "7c153964-f61d-49d0-e075-561e12556d21"
      },
      "source": [
        "# Filtrando somente as maiores métricas para análise\n",
        "df_filter = df_prediticion[(df_prediticion['AUC'] >= 0.94)]\n",
        "df_filter.sort_values('AUC', ascending=False)\n",
        "df_filter"
      ],
      "execution_count": 74,
      "outputs": [
        {
          "output_type": "execute_result",
          "data": {
            "text/html": [
              "<div>\n",
              "<style scoped>\n",
              "    .dataframe tbody tr th:only-of-type {\n",
              "        vertical-align: middle;\n",
              "    }\n",
              "\n",
              "    .dataframe tbody tr th {\n",
              "        vertical-align: top;\n",
              "    }\n",
              "\n",
              "    .dataframe thead th {\n",
              "        text-align: right;\n",
              "    }\n",
              "</style>\n",
              "<table border=\"1\" class=\"dataframe\">\n",
              "  <thead>\n",
              "    <tr style=\"text-align: right;\">\n",
              "      <th></th>\n",
              "      <th>Accuracy</th>\n",
              "      <th>AUC</th>\n",
              "      <th>Recall</th>\n",
              "      <th>Precision</th>\n",
              "      <th>F1-Score</th>\n",
              "      <th>Features</th>\n",
              "      <th>FeatureNumber</th>\n",
              "      <th>Encoder</th>\n",
              "      <th>Selector</th>\n",
              "    </tr>\n",
              "  </thead>\n",
              "  <tbody>\n",
              "    <tr>\n",
              "      <th>3</th>\n",
              "      <td>0.933126</td>\n",
              "      <td>0.942736</td>\n",
              "      <td>0.954286</td>\n",
              "      <td>0.963462</td>\n",
              "      <td>0.958852</td>\n",
              "      <td>[TIPO_INADIMPLENCIA_ADIMPLENTE, CLASSE_PAGANTE...</td>\n",
              "      <td>8</td>\n",
              "      <td>OneHotEncoder</td>\n",
              "      <td>LogisticRegression</td>\n",
              "    </tr>\n",
              "    <tr>\n",
              "      <th>4</th>\n",
              "      <td>0.928460</td>\n",
              "      <td>0.940468</td>\n",
              "      <td>0.954286</td>\n",
              "      <td>0.957935</td>\n",
              "      <td>0.956107</td>\n",
              "      <td>[TIPO_INADIMPLENCIA_ADIMPLENTE, CLASSE_PAGANTE...</td>\n",
              "      <td>10</td>\n",
              "      <td>OneHotEncoder</td>\n",
              "      <td>LogisticRegression</td>\n",
              "    </tr>\n",
              "    <tr>\n",
              "      <th>10</th>\n",
              "      <td>0.925350</td>\n",
              "      <td>0.941316</td>\n",
              "      <td>0.963810</td>\n",
              "      <td>0.945794</td>\n",
              "      <td>0.954717</td>\n",
              "      <td>[TIPO_INADIMPLENCIA_ADIMPLENTE, TIPO_INADIMPLE...</td>\n",
              "      <td>22</td>\n",
              "      <td>OneHotEncoder</td>\n",
              "      <td>LogisticRegression</td>\n",
              "    </tr>\n",
              "  </tbody>\n",
              "</table>\n",
              "</div>"
            ],
            "text/plain": [
              "    Accuracy       AUC  ...        Encoder            Selector\n",
              "3   0.933126  0.942736  ...  OneHotEncoder  LogisticRegression\n",
              "4   0.928460  0.940468  ...  OneHotEncoder  LogisticRegression\n",
              "10  0.925350  0.941316  ...  OneHotEncoder  LogisticRegression\n",
              "\n",
              "[3 rows x 9 columns]"
            ]
          },
          "metadata": {
            "tags": []
          },
          "execution_count": 74
        }
      ]
    },
    {
      "cell_type": "code",
      "metadata": {
        "id": "FAlMLOpQzeVC",
        "colab_type": "code",
        "colab": {}
      },
      "source": [
        "# Salvando o DataFrame das métrica para análise (opcional). Descomente a linha abaixo.\n",
        "#df_prediticion.to_excel(root_path + 'metricas_sklearn.xlsx', sheet_name='Metricas', index=False)"
      ],
      "execution_count": 67,
      "outputs": []
    },
    {
      "cell_type": "code",
      "metadata": {
        "id": "R_XjYSisaWRF",
        "colab_type": "code",
        "colab": {
          "base_uri": "https://localhost:8080/",
          "height": 80
        },
        "outputId": "936e79b4-d4c4-4be0-839b-bef30c0f4c3c"
      },
      "source": [
        "# Modelo Preliminar\n",
        "metrics_pre_ohe"
      ],
      "execution_count": 46,
      "outputs": [
        {
          "output_type": "execute_result",
          "data": {
            "text/html": [
              "<div>\n",
              "<style scoped>\n",
              "    .dataframe tbody tr th:only-of-type {\n",
              "        vertical-align: middle;\n",
              "    }\n",
              "\n",
              "    .dataframe tbody tr th {\n",
              "        vertical-align: top;\n",
              "    }\n",
              "\n",
              "    .dataframe thead th {\n",
              "        text-align: right;\n",
              "    }\n",
              "</style>\n",
              "<table border=\"1\" class=\"dataframe\">\n",
              "  <thead>\n",
              "    <tr style=\"text-align: right;\">\n",
              "      <th></th>\n",
              "      <th>Model</th>\n",
              "      <th>Accuracy</th>\n",
              "      <th>AUC</th>\n",
              "      <th>Recall</th>\n",
              "      <th>Prec.</th>\n",
              "      <th>F1</th>\n",
              "      <th>Encoder</th>\n",
              "    </tr>\n",
              "  </thead>\n",
              "  <tbody>\n",
              "    <tr>\n",
              "      <th>0</th>\n",
              "      <td>Random Forest Classifier</td>\n",
              "      <td>0.92535</td>\n",
              "      <td>0.932865</td>\n",
              "      <td>0.96</td>\n",
              "      <td>0.949153</td>\n",
              "      <td>0.954545</td>\n",
              "      <td>OneHotEncoder</td>\n",
              "    </tr>\n",
              "  </tbody>\n",
              "</table>\n",
              "</div>"
            ],
            "text/plain": [
              "                      Model  Accuracy  ...        F1        Encoder\n",
              "0  Random Forest Classifier   0.92535  ...  0.954545  OneHotEncoder\n",
              "\n",
              "[1 rows x 7 columns]"
            ]
          },
          "metadata": {
            "tags": []
          },
          "execution_count": 46
        }
      ]
    },
    {
      "cell_type": "code",
      "metadata": {
        "id": "PNjCXZxKb9he",
        "colab_type": "code",
        "colab": {
          "base_uri": "https://localhost:8080/",
          "height": 153
        },
        "outputId": "c5ef54d0-e684-4cf0-fad5-a39e41045b2e"
      },
      "source": [
        "# Features = 8\n",
        "df_filter2 = df_prediticion[(df_prediticion['AUC'] >= 0.94) & (df_prediticion['FeatureNumber'] == 8)]\n",
        "list(df_filter2['Features'])"
      ],
      "execution_count": 68,
      "outputs": [
        {
          "output_type": "execute_result",
          "data": {
            "text/plain": [
              "[['TIPO_INADIMPLENCIA_ADIMPLENTE',\n",
              "  'CLASSE_PAGANTE_ATU_MENSALISTA',\n",
              "  'NOM_SITUACAO_ALUNO_Ativo',\n",
              "  'FAIXA_DE_DIVIDA_SEM DIVIDA',\n",
              "  'ADIMP_N_REN',\n",
              "  'IND_INDICIO_EVASAO',\n",
              "  'REQ_AGEND_TRANC',\n",
              "  'SAFRA_CALOURO']]"
            ]
          },
          "metadata": {
            "tags": []
          },
          "execution_count": 68
        }
      ]
    },
    {
      "cell_type": "code",
      "metadata": {
        "id": "lEufRI5E4CWU",
        "colab_type": "code",
        "colab": {
          "base_uri": "https://localhost:8080/",
          "height": 391
        },
        "outputId": "ba5baa96-4655-49dc-8d02-5d084710781f"
      },
      "source": [
        "# Features = 22\n",
        "df_filter3 = df_prediticion[(df_prediticion['AUC'] >= 0.94) & (df_prediticion['FeatureNumber'] == 22)]\n",
        "list(df_filter3['Features'])"
      ],
      "execution_count": 69,
      "outputs": [
        {
          "output_type": "execute_result",
          "data": {
            "text/plain": [
              "[['TIPO_INADIMPLENCIA_ADIMPLENTE',\n",
              "  'TIPO_INADIMPLENCIA_INADIMPLENTE SEM NEGOCIACAO',\n",
              "  'TIPO_INADIMPLENCIA_INADIMPLENTE COM NEGOCIACAO',\n",
              "  'CLASSE_PAGANTE_ANT_MENSALISTA',\n",
              "  'CLASSE_PAGANTE_ANT_PROUNI',\n",
              "  'CLASSE_PAGANTE_ATU_MENSALISTA',\n",
              "  'CLASSE_PAGANTE_ATU_PROUNI',\n",
              "  'NOVO_FIES_NÃO',\n",
              "  'NOM_SITUACAO_ALUNO_Ativo',\n",
              "  'NOM_SITUACAO_ALUNO_Trancado',\n",
              "  'NOM_SITUACAO_ALUNO_Transferido',\n",
              "  'FAIXA_DE_DIVIDA_SEM DIVIDA',\n",
              "  'FAIXA_DE_DIVIDA_> 1500',\n",
              "  'ADIMP_N_REN',\n",
              "  'IND_INDICIO_EVASAO',\n",
              "  'CLASSIFICACAO_PROP_EVASAO_1 - Alto',\n",
              "  'CLASSIFICACAO_PROP_EVASAO_4 - Baixo',\n",
              "  'CLASSIFICACAO_PROP_RENOVACAO_4 - Baixo',\n",
              "  'ACEITE_CONTRATO',\n",
              "  'REQ_AGEND_TRANC',\n",
              "  'SAFRA_VETERANO',\n",
              "  'SAFRA_CALOURO']]"
            ]
          },
          "metadata": {
            "tags": []
          },
          "execution_count": 69
        }
      ]
    },
    {
      "cell_type": "markdown",
      "metadata": {
        "id": "-xUj_2RTRPSa",
        "colab_type": "text"
      },
      "source": [
        "### Métricas do modelo escolhido"
      ]
    },
    {
      "cell_type": "code",
      "metadata": {
        "id": "5tMxVTXwf4xu",
        "colab_type": "code",
        "colab": {
          "base_uri": "https://localhost:8080/",
          "height": 153
        },
        "outputId": "61a13e2e-361a-4382-bd52-616e8f68fe86"
      },
      "source": [
        "# Métricas do modelo tunado\n",
        "\n",
        "k=22\n",
        "selector_model = LogisticRegression(random_state=123, n_jobs=-1)  \n",
        "selector = SelectFromModel(selector_model, max_features=k, threshold=-np.inf)\n",
        "\n",
        "selector.fit(X_train_ohe, y_train_ohe)\n",
        "\n",
        "X_train2 = selector.transform(X_train_ohe)\n",
        "X_test2 = selector.transform(X_test_ohe)\n",
        "\n",
        "mdl = RandomForestClassifier(n_estimators=72, max_depth=198, min_samples_leaf=1, min_samples_split=9, bootstrap=False, max_features = 'sqrt', random_state=1234, n_jobs=-1)\n",
        "mdl.fit(X_train2, y_train_ohe)\n",
        "\n",
        "p = mdl.predict(X_test2)\n",
        "y_proba = mdl.predict_proba(X_test2)[:, 1]\n",
        " \n",
        "acc = accuracy_score(y_test_ohe, p)\n",
        "auc = roc_auc_score(y_test_ohe, y_proba)\n",
        "recall = recall_score(y_test_ohe, p)\n",
        "precision = precision_score(y_test_ohe, p)\n",
        "f1 = f1_score(y_test_ohe, p)\n",
        "\n",
        "mask = selector.get_support()\n",
        "features = list(X_train_ohe.columns[mask])\n",
        "\n",
        "mdl"
      ],
      "execution_count": 70,
      "outputs": [
        {
          "output_type": "execute_result",
          "data": {
            "text/plain": [
              "RandomForestClassifier(bootstrap=False, ccp_alpha=0.0, class_weight=None,\n",
              "                       criterion='gini', max_depth=198, max_features='sqrt',\n",
              "                       max_leaf_nodes=None, max_samples=None,\n",
              "                       min_impurity_decrease=0.0, min_impurity_split=None,\n",
              "                       min_samples_leaf=1, min_samples_split=9,\n",
              "                       min_weight_fraction_leaf=0.0, n_estimators=72, n_jobs=-1,\n",
              "                       oob_score=False, random_state=1234, verbose=0,\n",
              "                       warm_start=False)"
            ]
          },
          "metadata": {
            "tags": []
          },
          "execution_count": 70
        }
      ]
    },
    {
      "cell_type": "code",
      "metadata": {
        "id": "HZfiE6uhLREN",
        "colab_type": "code",
        "colab": {
          "base_uri": "https://localhost:8080/",
          "height": 80
        },
        "outputId": "2b69925a-aa31-4025-ce78-0a67c04cd878"
      },
      "source": [
        "# Resultado final do modelo\n",
        "cols   = ['Model', 'Accuracy', 'AUC', 'Recall', 'Prec.', 'F1']\n",
        "values = ['Random Forest Classifier', acc, auc, recall, precision, f1]\n",
        "metrics_tunning = pd.DataFrame({tup[0]: [tup[1]] for tup in zip(cols, values)})\n",
        "metrics_tunning"
      ],
      "execution_count": 72,
      "outputs": [
        {
          "output_type": "execute_result",
          "data": {
            "text/html": [
              "<div>\n",
              "<style scoped>\n",
              "    .dataframe tbody tr th:only-of-type {\n",
              "        vertical-align: middle;\n",
              "    }\n",
              "\n",
              "    .dataframe tbody tr th {\n",
              "        vertical-align: top;\n",
              "    }\n",
              "\n",
              "    .dataframe thead th {\n",
              "        text-align: right;\n",
              "    }\n",
              "</style>\n",
              "<table border=\"1\" class=\"dataframe\">\n",
              "  <thead>\n",
              "    <tr style=\"text-align: right;\">\n",
              "      <th></th>\n",
              "      <th>Model</th>\n",
              "      <th>Accuracy</th>\n",
              "      <th>AUC</th>\n",
              "      <th>Recall</th>\n",
              "      <th>Prec.</th>\n",
              "      <th>F1</th>\n",
              "    </tr>\n",
              "  </thead>\n",
              "  <tbody>\n",
              "    <tr>\n",
              "      <th>0</th>\n",
              "      <td>Random Forest Classifier</td>\n",
              "      <td>0.92535</td>\n",
              "      <td>0.941316</td>\n",
              "      <td>0.96381</td>\n",
              "      <td>0.945794</td>\n",
              "      <td>0.954717</td>\n",
              "    </tr>\n",
              "  </tbody>\n",
              "</table>\n",
              "</div>"
            ],
            "text/plain": [
              "                      Model  Accuracy       AUC   Recall     Prec.        F1\n",
              "0  Random Forest Classifier   0.92535  0.941316  0.96381  0.945794  0.954717"
            ]
          },
          "metadata": {
            "tags": []
          },
          "execution_count": 72
        }
      ]
    },
    {
      "cell_type": "code",
      "metadata": {
        "id": "LaY_3TbqOGYC",
        "colab_type": "code",
        "colab": {
          "base_uri": "https://localhost:8080/",
          "height": 731
        },
        "outputId": "bf4bff1a-864a-49fb-ccdd-393eabc2b099"
      },
      "source": [
        "# Média de importância de cada Feature no modelo\n",
        "df_feature_importance = pd.DataFrame(mdl.feature_importances_,  index=features, columns=['Feature importance']).sort_values('Feature importance', ascending=False)\n",
        "df_feature_importance"
      ],
      "execution_count": 75,
      "outputs": [
        {
          "output_type": "execute_result",
          "data": {
            "text/html": [
              "<div>\n",
              "<style scoped>\n",
              "    .dataframe tbody tr th:only-of-type {\n",
              "        vertical-align: middle;\n",
              "    }\n",
              "\n",
              "    .dataframe tbody tr th {\n",
              "        vertical-align: top;\n",
              "    }\n",
              "\n",
              "    .dataframe thead th {\n",
              "        text-align: right;\n",
              "    }\n",
              "</style>\n",
              "<table border=\"1\" class=\"dataframe\">\n",
              "  <thead>\n",
              "    <tr style=\"text-align: right;\">\n",
              "      <th></th>\n",
              "      <th>Feature importance</th>\n",
              "    </tr>\n",
              "  </thead>\n",
              "  <tbody>\n",
              "    <tr>\n",
              "      <th>FAIXA_DE_DIVIDA_SEM DIVIDA</th>\n",
              "      <td>0.196319</td>\n",
              "    </tr>\n",
              "    <tr>\n",
              "      <th>ADIMP_N_REN</th>\n",
              "      <td>0.145479</td>\n",
              "    </tr>\n",
              "    <tr>\n",
              "      <th>FAIXA_DE_DIVIDA_&gt; 1500</th>\n",
              "      <td>0.121589</td>\n",
              "    </tr>\n",
              "    <tr>\n",
              "      <th>NOM_SITUACAO_ALUNO_Ativo</th>\n",
              "      <td>0.095374</td>\n",
              "    </tr>\n",
              "    <tr>\n",
              "      <th>ACEITE_CONTRATO</th>\n",
              "      <td>0.086943</td>\n",
              "    </tr>\n",
              "    <tr>\n",
              "      <th>TIPO_INADIMPLENCIA_ADIMPLENTE</th>\n",
              "      <td>0.064928</td>\n",
              "    </tr>\n",
              "    <tr>\n",
              "      <th>IND_INDICIO_EVASAO</th>\n",
              "      <td>0.048007</td>\n",
              "    </tr>\n",
              "    <tr>\n",
              "      <th>REQ_AGEND_TRANC</th>\n",
              "      <td>0.038428</td>\n",
              "    </tr>\n",
              "    <tr>\n",
              "      <th>NOM_SITUACAO_ALUNO_Trancado</th>\n",
              "      <td>0.027034</td>\n",
              "    </tr>\n",
              "    <tr>\n",
              "      <th>NOM_SITUACAO_ALUNO_Transferido</th>\n",
              "      <td>0.026917</td>\n",
              "    </tr>\n",
              "    <tr>\n",
              "      <th>CLASSIFICACAO_PROP_RENOVACAO_4 - Baixo</th>\n",
              "      <td>0.025400</td>\n",
              "    </tr>\n",
              "    <tr>\n",
              "      <th>TIPO_INADIMPLENCIA_INADIMPLENTE SEM NEGOCIACAO</th>\n",
              "      <td>0.024719</td>\n",
              "    </tr>\n",
              "    <tr>\n",
              "      <th>CLASSIFICACAO_PROP_EVASAO_1 - Alto</th>\n",
              "      <td>0.017071</td>\n",
              "    </tr>\n",
              "    <tr>\n",
              "      <th>CLASSIFICACAO_PROP_EVASAO_4 - Baixo</th>\n",
              "      <td>0.015177</td>\n",
              "    </tr>\n",
              "    <tr>\n",
              "      <th>CLASSE_PAGANTE_ATU_MENSALISTA</th>\n",
              "      <td>0.015154</td>\n",
              "    </tr>\n",
              "    <tr>\n",
              "      <th>CLASSE_PAGANTE_ANT_MENSALISTA</th>\n",
              "      <td>0.014089</td>\n",
              "    </tr>\n",
              "    <tr>\n",
              "      <th>TIPO_INADIMPLENCIA_INADIMPLENTE COM NEGOCIACAO</th>\n",
              "      <td>0.011068</td>\n",
              "    </tr>\n",
              "    <tr>\n",
              "      <th>SAFRA_CALOURO</th>\n",
              "      <td>0.009788</td>\n",
              "    </tr>\n",
              "    <tr>\n",
              "      <th>SAFRA_VETERANO</th>\n",
              "      <td>0.009395</td>\n",
              "    </tr>\n",
              "    <tr>\n",
              "      <th>NOVO_FIES_NÃO</th>\n",
              "      <td>0.005232</td>\n",
              "    </tr>\n",
              "    <tr>\n",
              "      <th>CLASSE_PAGANTE_ANT_PROUNI</th>\n",
              "      <td>0.001118</td>\n",
              "    </tr>\n",
              "    <tr>\n",
              "      <th>CLASSE_PAGANTE_ATU_PROUNI</th>\n",
              "      <td>0.000771</td>\n",
              "    </tr>\n",
              "  </tbody>\n",
              "</table>\n",
              "</div>"
            ],
            "text/plain": [
              "                                                Feature importance\n",
              "FAIXA_DE_DIVIDA_SEM DIVIDA                                0.196319\n",
              "ADIMP_N_REN                                               0.145479\n",
              "FAIXA_DE_DIVIDA_> 1500                                    0.121589\n",
              "NOM_SITUACAO_ALUNO_Ativo                                  0.095374\n",
              "ACEITE_CONTRATO                                           0.086943\n",
              "TIPO_INADIMPLENCIA_ADIMPLENTE                             0.064928\n",
              "IND_INDICIO_EVASAO                                        0.048007\n",
              "REQ_AGEND_TRANC                                           0.038428\n",
              "NOM_SITUACAO_ALUNO_Trancado                               0.027034\n",
              "NOM_SITUACAO_ALUNO_Transferido                            0.026917\n",
              "CLASSIFICACAO_PROP_RENOVACAO_4 - Baixo                    0.025400\n",
              "TIPO_INADIMPLENCIA_INADIMPLENTE SEM NEGOCIACAO            0.024719\n",
              "CLASSIFICACAO_PROP_EVASAO_1 - Alto                        0.017071\n",
              "CLASSIFICACAO_PROP_EVASAO_4 - Baixo                       0.015177\n",
              "CLASSE_PAGANTE_ATU_MENSALISTA                             0.015154\n",
              "CLASSE_PAGANTE_ANT_MENSALISTA                             0.014089\n",
              "TIPO_INADIMPLENCIA_INADIMPLENTE COM NEGOCIACAO            0.011068\n",
              "SAFRA_CALOURO                                             0.009788\n",
              "SAFRA_VETERANO                                            0.009395\n",
              "NOVO_FIES_NÃO                                             0.005232\n",
              "CLASSE_PAGANTE_ANT_PROUNI                                 0.001118\n",
              "CLASSE_PAGANTE_ATU_PROUNI                                 0.000771"
            ]
          },
          "metadata": {
            "tags": []
          },
          "execution_count": 75
        }
      ]
    },
    {
      "cell_type": "code",
      "metadata": {
        "id": "8RsB0ebJP_RF",
        "colab_type": "code",
        "colab": {
          "base_uri": "https://localhost:8080/",
          "height": 241
        },
        "outputId": "f30e7db5-7aba-47bf-e9c9-c1a9fbfb7e3e"
      },
      "source": [
        "# Todas as features mais importantes para cada árvore\n",
        "df_feature_all = pd.DataFrame([mdl.feature_importances_ for tree in mdl.estimators_], columns=features)\n",
        "df_feature_all.head()"
      ],
      "execution_count": 76,
      "outputs": [
        {
          "output_type": "execute_result",
          "data": {
            "text/html": [
              "<div>\n",
              "<style scoped>\n",
              "    .dataframe tbody tr th:only-of-type {\n",
              "        vertical-align: middle;\n",
              "    }\n",
              "\n",
              "    .dataframe tbody tr th {\n",
              "        vertical-align: top;\n",
              "    }\n",
              "\n",
              "    .dataframe thead th {\n",
              "        text-align: right;\n",
              "    }\n",
              "</style>\n",
              "<table border=\"1\" class=\"dataframe\">\n",
              "  <thead>\n",
              "    <tr style=\"text-align: right;\">\n",
              "      <th></th>\n",
              "      <th>TIPO_INADIMPLENCIA_ADIMPLENTE</th>\n",
              "      <th>TIPO_INADIMPLENCIA_INADIMPLENTE SEM NEGOCIACAO</th>\n",
              "      <th>TIPO_INADIMPLENCIA_INADIMPLENTE COM NEGOCIACAO</th>\n",
              "      <th>CLASSE_PAGANTE_ANT_MENSALISTA</th>\n",
              "      <th>CLASSE_PAGANTE_ANT_PROUNI</th>\n",
              "      <th>CLASSE_PAGANTE_ATU_MENSALISTA</th>\n",
              "      <th>CLASSE_PAGANTE_ATU_PROUNI</th>\n",
              "      <th>NOVO_FIES_NÃO</th>\n",
              "      <th>NOM_SITUACAO_ALUNO_Ativo</th>\n",
              "      <th>NOM_SITUACAO_ALUNO_Trancado</th>\n",
              "      <th>NOM_SITUACAO_ALUNO_Transferido</th>\n",
              "      <th>FAIXA_DE_DIVIDA_SEM DIVIDA</th>\n",
              "      <th>FAIXA_DE_DIVIDA_&gt; 1500</th>\n",
              "      <th>ADIMP_N_REN</th>\n",
              "      <th>IND_INDICIO_EVASAO</th>\n",
              "      <th>CLASSIFICACAO_PROP_EVASAO_1 - Alto</th>\n",
              "      <th>CLASSIFICACAO_PROP_EVASAO_4 - Baixo</th>\n",
              "      <th>CLASSIFICACAO_PROP_RENOVACAO_4 - Baixo</th>\n",
              "      <th>ACEITE_CONTRATO</th>\n",
              "      <th>REQ_AGEND_TRANC</th>\n",
              "      <th>SAFRA_VETERANO</th>\n",
              "      <th>SAFRA_CALOURO</th>\n",
              "    </tr>\n",
              "  </thead>\n",
              "  <tbody>\n",
              "    <tr>\n",
              "      <th>0</th>\n",
              "      <td>0.064928</td>\n",
              "      <td>0.024719</td>\n",
              "      <td>0.011068</td>\n",
              "      <td>0.014089</td>\n",
              "      <td>0.001118</td>\n",
              "      <td>0.015154</td>\n",
              "      <td>0.000771</td>\n",
              "      <td>0.005232</td>\n",
              "      <td>0.095374</td>\n",
              "      <td>0.027034</td>\n",
              "      <td>0.026917</td>\n",
              "      <td>0.196319</td>\n",
              "      <td>0.121589</td>\n",
              "      <td>0.145479</td>\n",
              "      <td>0.048007</td>\n",
              "      <td>0.017071</td>\n",
              "      <td>0.015177</td>\n",
              "      <td>0.0254</td>\n",
              "      <td>0.086943</td>\n",
              "      <td>0.038428</td>\n",
              "      <td>0.009395</td>\n",
              "      <td>0.009788</td>\n",
              "    </tr>\n",
              "    <tr>\n",
              "      <th>1</th>\n",
              "      <td>0.064928</td>\n",
              "      <td>0.024719</td>\n",
              "      <td>0.011068</td>\n",
              "      <td>0.014089</td>\n",
              "      <td>0.001118</td>\n",
              "      <td>0.015154</td>\n",
              "      <td>0.000771</td>\n",
              "      <td>0.005232</td>\n",
              "      <td>0.095374</td>\n",
              "      <td>0.027034</td>\n",
              "      <td>0.026917</td>\n",
              "      <td>0.196319</td>\n",
              "      <td>0.121589</td>\n",
              "      <td>0.145479</td>\n",
              "      <td>0.048007</td>\n",
              "      <td>0.017071</td>\n",
              "      <td>0.015177</td>\n",
              "      <td>0.0254</td>\n",
              "      <td>0.086943</td>\n",
              "      <td>0.038428</td>\n",
              "      <td>0.009395</td>\n",
              "      <td>0.009788</td>\n",
              "    </tr>\n",
              "    <tr>\n",
              "      <th>2</th>\n",
              "      <td>0.064928</td>\n",
              "      <td>0.024719</td>\n",
              "      <td>0.011068</td>\n",
              "      <td>0.014089</td>\n",
              "      <td>0.001118</td>\n",
              "      <td>0.015154</td>\n",
              "      <td>0.000771</td>\n",
              "      <td>0.005232</td>\n",
              "      <td>0.095374</td>\n",
              "      <td>0.027034</td>\n",
              "      <td>0.026917</td>\n",
              "      <td>0.196319</td>\n",
              "      <td>0.121589</td>\n",
              "      <td>0.145479</td>\n",
              "      <td>0.048007</td>\n",
              "      <td>0.017071</td>\n",
              "      <td>0.015177</td>\n",
              "      <td>0.0254</td>\n",
              "      <td>0.086943</td>\n",
              "      <td>0.038428</td>\n",
              "      <td>0.009395</td>\n",
              "      <td>0.009788</td>\n",
              "    </tr>\n",
              "    <tr>\n",
              "      <th>3</th>\n",
              "      <td>0.064928</td>\n",
              "      <td>0.024719</td>\n",
              "      <td>0.011068</td>\n",
              "      <td>0.014089</td>\n",
              "      <td>0.001118</td>\n",
              "      <td>0.015154</td>\n",
              "      <td>0.000771</td>\n",
              "      <td>0.005232</td>\n",
              "      <td>0.095374</td>\n",
              "      <td>0.027034</td>\n",
              "      <td>0.026917</td>\n",
              "      <td>0.196319</td>\n",
              "      <td>0.121589</td>\n",
              "      <td>0.145479</td>\n",
              "      <td>0.048007</td>\n",
              "      <td>0.017071</td>\n",
              "      <td>0.015177</td>\n",
              "      <td>0.0254</td>\n",
              "      <td>0.086943</td>\n",
              "      <td>0.038428</td>\n",
              "      <td>0.009395</td>\n",
              "      <td>0.009788</td>\n",
              "    </tr>\n",
              "    <tr>\n",
              "      <th>4</th>\n",
              "      <td>0.064928</td>\n",
              "      <td>0.024719</td>\n",
              "      <td>0.011068</td>\n",
              "      <td>0.014089</td>\n",
              "      <td>0.001118</td>\n",
              "      <td>0.015154</td>\n",
              "      <td>0.000771</td>\n",
              "      <td>0.005232</td>\n",
              "      <td>0.095374</td>\n",
              "      <td>0.027034</td>\n",
              "      <td>0.026917</td>\n",
              "      <td>0.196319</td>\n",
              "      <td>0.121589</td>\n",
              "      <td>0.145479</td>\n",
              "      <td>0.048007</td>\n",
              "      <td>0.017071</td>\n",
              "      <td>0.015177</td>\n",
              "      <td>0.0254</td>\n",
              "      <td>0.086943</td>\n",
              "      <td>0.038428</td>\n",
              "      <td>0.009395</td>\n",
              "      <td>0.009788</td>\n",
              "    </tr>\n",
              "  </tbody>\n",
              "</table>\n",
              "</div>"
            ],
            "text/plain": [
              "   TIPO_INADIMPLENCIA_ADIMPLENTE  ...  SAFRA_CALOURO\n",
              "0                       0.064928  ...       0.009788\n",
              "1                       0.064928  ...       0.009788\n",
              "2                       0.064928  ...       0.009788\n",
              "3                       0.064928  ...       0.009788\n",
              "4                       0.064928  ...       0.009788\n",
              "\n",
              "[5 rows x 22 columns]"
            ]
          },
          "metadata": {
            "tags": []
          },
          "execution_count": 76
        }
      ]
    },
    {
      "cell_type": "code",
      "metadata": {
        "id": "0xf8Yx5SR28s",
        "colab_type": "code",
        "colab": {
          "base_uri": "https://localhost:8080/",
          "height": 629
        },
        "outputId": "9dd8d745-b911-4c1e-a78b-17859263e9e9"
      },
      "source": [
        "fig, axs = plt.subplots(figsize=(10, 10), ncols=1)\n",
        "plot = sns.barplot(x=df_feature_importance['Feature importance'], y=features, ax=axs, palette=\"Blues_d\")\n",
        "\n",
        "plot.set_title('Features mais importantes para o Modelo', size=15)\n",
        "plot.set_xlabel('Importância')\n",
        "plot.set_ylabel('Features')\n",
        "\n",
        "# Exportar o gráfico, substitua o caminho pelo seu caminho de preferência\n",
        "#fig.savefig('/content/drive/My Drive/TCC/Graficos/FeatureImportance.png')"
      ],
      "execution_count": 78,
      "outputs": [
        {
          "output_type": "display_data",
          "data": {
            "image/png": "[encoded data removed]",
            "text/plain": [
              "<Figure size 720x720 with 1 Axes>"
            ]
          },
          "metadata": {
            "tags": [],
            "needs_background": "light"
          }
        }
      ]
    },
    {
      "cell_type": "code",
      "metadata": {
        "id": "b19ulFqwm3V5",
        "colab_type": "code",
        "colab": {
          "base_uri": "https://localhost:8080/",
          "height": 427
        },
        "outputId": "fffbae90-1c21-4031-a58f-3d061d58c2c3"
      },
      "source": [
        "fpr, tpr, _ = roc_curve(y_test_ohe, y_proba)\n",
        "auc = roc_auc_score(y_test_ohe, y_proba)\n",
        "\n",
        "plt.plot(fpr, tpr,  label=\"RandomForest, AUC=\"+str(auc))\n",
        "plt.title('Curva ROC')\n",
        "plt.xlabel(\"Taxa de Falso Positivo\")\n",
        "plt.ylabel(\"Taxa de Verdadeiro Positivo\")\n",
        "plt.legend()\n",
        "plt.show()\n",
        "\n",
        "# Exportar o gráfico, substitua o caminho pelo seu caminho de preferência\n",
        "#plt.savefig('/content/drive/My Drive/TCC/Graficos/ROCCurve.png')"
      ],
      "execution_count": 79,
      "outputs": [
        {
          "output_type": "display_data",
          "data": {
            "image/png": "[encoded data removed]",
            "text/plain": [
              "<Figure size 576x432 with 1 Axes>"
            ]
          },
          "metadata": {
            "tags": [],
            "needs_background": "light"
          }
        },
        {
          "output_type": "display_data",
          "data": {
            "text/plain": [
              "<Figure size 576x432 with 0 Axes>"
            ]
          },
          "metadata": {
            "tags": []
          }
        }
      ]
    },
    {
      "cell_type": "code",
      "metadata": {
        "id": "JIG1WdQjNLHc",
        "colab_type": "code",
        "colab": {
          "base_uri": "https://localhost:8080/",
          "height": 520
        },
        "outputId": "99d110ce-c4e2-40fd-9daa-61ccf8e65d37"
      },
      "source": [
        "fig, axs = plt.subplots(figsize=(10, 8), ncols=1)\n",
        "cm = confusion_matrix(y_test_ohe, p)\n",
        "plot = sns.heatmap(cm, annot = True, ax = axs, fmt='g', cmap='Blues');\n",
        "\n",
        "plot.set_xlabel('Valores Preditos');\n",
        "plot.set_ylabel('Valores Verdadeiros'); \n",
        "plot.set_title('Matriz de Confusão', size=15); \n",
        "plot.xaxis.set_ticklabels(['0', '1']); \n",
        "plot.yaxis.set_ticklabels(['0', '1']);\n",
        "\n",
        "# Exportar o gráfico, substitua o caminho pelo seu caminho de preferência\n",
        "#fig.savefig('/content/drive/My Drive/TCC/Graficos/ConfusionMatrix.png')"
      ],
      "execution_count": 80,
      "outputs": [
        {
          "output_type": "display_data",
          "data": {
            "image/png": "[encoded data removed]",
            "text/plain": [
              "<Figure size 720x576 with 2 Axes>"
            ]
          },
          "metadata": {
            "tags": [],
            "needs_background": "light"
          }
        }
      ]
    },
    {
      "cell_type": "code",
      "metadata": {
        "id": "E1aY1DwMLnDN",
        "colab_type": "code",
        "colab": {
          "base_uri": "https://localhost:8080/",
          "height": 204
        },
        "outputId": "99a987ca-4387-4823-9fc8-b053e90bea87"
      },
      "source": [
        "# Imprimindo a Matriz de Confusão\n",
        "print(confusion_matrix(y_test_ohe, p))\n",
        "\n",
        "# Imprimindo a Precision e Recall\n",
        "print(classification_report(y_test_ohe, p, digits=6))"
      ],
      "execution_count": 81,
      "outputs": [
        {
          "output_type": "stream",
          "text": [
            "[[ 89  29]\n",
            " [ 19 506]]\n",
            "              precision    recall  f1-score   support\n",
            "\n",
            "           0   0.824074  0.754237  0.787611       118\n",
            "           1   0.945794  0.963810  0.954717       525\n",
            "\n",
            "    accuracy                       0.925350       643\n",
            "   macro avg   0.884934  0.859023  0.871164       643\n",
            "weighted avg   0.923457  0.925350  0.924050       643\n",
            "\n"
          ],
          "name": "stdout"
        }
      ]
    },
    {
      "cell_type": "markdown",
      "metadata": {
        "id": "NJFhilCF5sJI",
        "colab_type": "text"
      },
      "source": [
        "### Criando o nosso modelo final\n",
        "\n",
        "Como já mencionado, usarei modelo [Random Forest Classifier](https://scikit-learn.org/stable/modules/generated/sklearn.ensemble.RandomForestClassifier.html) para a criação do nosso modelo de machine learning,  com os seguintes hiper parâmetros:\n",
        "\n",
        "* Método de Tunning = **Bayesian Optimization**\n",
        " * AUC = *0.9412*\n",
        " * n_estimators = *72*\n",
        " * max_depth = *198*\n",
        " * min_samples_leaf = *1*\t\n",
        " * min_samples_split =\t*9*\n",
        " * bootstrap = *False*\n",
        " * max_features = *sqrt*\n",
        " * encoder = *OneHotEncoder*\n",
        "\n",
        "Analisando o resultado das métricas em nosso DataFrame, escolhi as seguintes:\n",
        "\n",
        "* Método de Seleção de Feature (SelectFromModel) = **LogisticRegression**\n",
        "* Método de Encoder para as variáveis categórica = **OneHotEncoder**\n",
        "* Número de Features = **22**\n",
        "\n",
        "A métrica AUC se mostrou mais estável entre 12 e 22 features como mostrei no gráfico na etapa de seleção de features.\n",
        "\n"
      ]
    },
    {
      "cell_type": "code",
      "metadata": {
        "id": "7XVXM4lP5w5L",
        "colab_type": "code",
        "colab": {
          "base_uri": "https://localhost:8080/",
          "height": 153
        },
        "outputId": "f83e8f0f-2b41-40d0-b5ce-24617f404f19"
      },
      "source": [
        "# Código para a criação do modelo final\n",
        "k = 22\n",
        "selector_model = LogisticRegression(random_state=123, n_jobs=-1)  \n",
        "selector = SelectFromModel(selector_model, max_features=k, threshold=-np.inf)\n",
        "\n",
        "selector.fit(X_train_ohe, y_train_ohe)\n",
        "\n",
        "X_train2 = selector.transform(X_train_ohe)\n",
        "X_test2 = selector.transform(X_test_ohe)\n",
        "\n",
        "mdl = RandomForestClassifier(n_estimators=72, max_depth=198, min_samples_leaf=1, min_samples_split=9, bootstrap=False, max_features = 'sqrt', random_state=1234, n_jobs=-1)\n",
        "mdl.fit(X_train2, y_train_ohe)\n",
        "\n",
        "p = mdl.predict(X_test2)\n",
        "y_proba = mdl.predict_proba(X_test2)[:, 1]\n",
        " \n",
        "acc = accuracy_score(y_test_ohe, p)\n",
        "auc = roc_auc_score(y_test_ohe, y_proba)\n",
        "recall = recall_score(y_test_ohe, p)\n",
        "precision = precision_score(y_test_ohe, p)\n",
        "f1 = f1_score(y_test_ohe, p)\n",
        "\n",
        "mask = selector.get_support()\n",
        "features = X_train_ohe.columns[mask]\n",
        "\n",
        "mdl"
      ],
      "execution_count": 109,
      "outputs": [
        {
          "output_type": "execute_result",
          "data": {
            "text/plain": [
              "RandomForestClassifier(bootstrap=False, ccp_alpha=0.0, class_weight=None,\n",
              "                       criterion='gini', max_depth=198, max_features='sqrt',\n",
              "                       max_leaf_nodes=None, max_samples=None,\n",
              "                       min_impurity_decrease=0.0, min_impurity_split=None,\n",
              "                       min_samples_leaf=1, min_samples_split=9,\n",
              "                       min_weight_fraction_leaf=0.0, n_estimators=72, n_jobs=-1,\n",
              "                       oob_score=False, random_state=1234, verbose=0,\n",
              "                       warm_start=False)"
            ]
          },
          "metadata": {
            "tags": []
          },
          "execution_count": 109
        }
      ]
    },
    {
      "cell_type": "code",
      "metadata": {
        "id": "PexyFrgcqk_5",
        "colab_type": "code",
        "colab": {
          "base_uri": "https://localhost:8080/",
          "height": 80
        },
        "outputId": "9525b741-db23-499c-92d7-b6e8756e404c"
      },
      "source": [
        "# Resultado final do modelo final\n",
        "cols   = ['Model', 'Accuracy', 'AUC', 'Recall', 'Prec.', 'F1', 'Encoder']\n",
        "values = ['Random Forest Classifier', acc, auc, recall, precision, f1, 'OneHotEncoder']\n",
        "metrics_final = pd.DataFrame({tup[0]: [tup[1]] for tup in zip(cols, values)})\n",
        "metrics_final"
      ],
      "execution_count": 110,
      "outputs": [
        {
          "output_type": "execute_result",
          "data": {
            "text/html": [
              "<div>\n",
              "<style scoped>\n",
              "    .dataframe tbody tr th:only-of-type {\n",
              "        vertical-align: middle;\n",
              "    }\n",
              "\n",
              "    .dataframe tbody tr th {\n",
              "        vertical-align: top;\n",
              "    }\n",
              "\n",
              "    .dataframe thead th {\n",
              "        text-align: right;\n",
              "    }\n",
              "</style>\n",
              "<table border=\"1\" class=\"dataframe\">\n",
              "  <thead>\n",
              "    <tr style=\"text-align: right;\">\n",
              "      <th></th>\n",
              "      <th>Model</th>\n",
              "      <th>Accuracy</th>\n",
              "      <th>AUC</th>\n",
              "      <th>Recall</th>\n",
              "      <th>Prec.</th>\n",
              "      <th>F1</th>\n",
              "      <th>Encoder</th>\n",
              "    </tr>\n",
              "  </thead>\n",
              "  <tbody>\n",
              "    <tr>\n",
              "      <th>0</th>\n",
              "      <td>Random Forest Classifier</td>\n",
              "      <td>0.92535</td>\n",
              "      <td>0.941316</td>\n",
              "      <td>0.96381</td>\n",
              "      <td>0.945794</td>\n",
              "      <td>0.954717</td>\n",
              "      <td>OneHotEncoder</td>\n",
              "    </tr>\n",
              "  </tbody>\n",
              "</table>\n",
              "</div>"
            ],
            "text/plain": [
              "                      Model  Accuracy  ...        F1        Encoder\n",
              "0  Random Forest Classifier   0.92535  ...  0.954717  OneHotEncoder\n",
              "\n",
              "[1 rows x 7 columns]"
            ]
          },
          "metadata": {
            "tags": []
          },
          "execution_count": 110
        }
      ]
    },
    {
      "cell_type": "code",
      "metadata": {
        "id": "Yfgcy3qWQE9m",
        "colab_type": "code",
        "colab": {
          "base_uri": "https://localhost:8080/",
          "height": 80
        },
        "outputId": "17c3aa98-1e84-4143-abdf-f38a845ec937"
      },
      "source": [
        "# Modelo Preliminar\n",
        "metrics_pre_ohe"
      ],
      "execution_count": 111,
      "outputs": [
        {
          "output_type": "execute_result",
          "data": {
            "text/html": [
              "<div>\n",
              "<style scoped>\n",
              "    .dataframe tbody tr th:only-of-type {\n",
              "        vertical-align: middle;\n",
              "    }\n",
              "\n",
              "    .dataframe tbody tr th {\n",
              "        vertical-align: top;\n",
              "    }\n",
              "\n",
              "    .dataframe thead th {\n",
              "        text-align: right;\n",
              "    }\n",
              "</style>\n",
              "<table border=\"1\" class=\"dataframe\">\n",
              "  <thead>\n",
              "    <tr style=\"text-align: right;\">\n",
              "      <th></th>\n",
              "      <th>Model</th>\n",
              "      <th>Accuracy</th>\n",
              "      <th>AUC</th>\n",
              "      <th>Recall</th>\n",
              "      <th>Prec.</th>\n",
              "      <th>F1</th>\n",
              "      <th>Encoder</th>\n",
              "      <th>Object</th>\n",
              "    </tr>\n",
              "  </thead>\n",
              "  <tbody>\n",
              "    <tr>\n",
              "      <th>0</th>\n",
              "      <td>Random Forest Classifier</td>\n",
              "      <td>0.92535</td>\n",
              "      <td>0.932865</td>\n",
              "      <td>0.96</td>\n",
              "      <td>0.949153</td>\n",
              "      <td>0.954545</td>\n",
              "      <td>OneHotEncoder</td>\n",
              "      <td>Modelo Inicial</td>\n",
              "    </tr>\n",
              "  </tbody>\n",
              "</table>\n",
              "</div>"
            ],
            "text/plain": [
              "                      Model  Accuracy  ...        Encoder          Object\n",
              "0  Random Forest Classifier   0.92535  ...  OneHotEncoder  Modelo Inicial\n",
              "\n",
              "[1 rows x 8 columns]"
            ]
          },
          "metadata": {
            "tags": []
          },
          "execution_count": 111
        }
      ]
    },
    {
      "cell_type": "code",
      "metadata": {
        "id": "5z5qk4VQQYJ5",
        "colab_type": "code",
        "colab": {
          "base_uri": "https://localhost:8080/",
          "height": 111
        },
        "outputId": "c50d922e-804c-411b-8132-44acd31bc77f"
      },
      "source": [
        "# Métricas dos modelos \n",
        "metrics_final['Object'] = 'Modelo Final'\n",
        "metrics_pre_ohe['Object'] = 'Modelo Inicial'\n",
        "df_model_final = pd.concat([metrics_final, metrics_pre_ohe], axis=0)\n",
        "df_model_final"
      ],
      "execution_count": 112,
      "outputs": [
        {
          "output_type": "execute_result",
          "data": {
            "text/html": [
              "<div>\n",
              "<style scoped>\n",
              "    .dataframe tbody tr th:only-of-type {\n",
              "        vertical-align: middle;\n",
              "    }\n",
              "\n",
              "    .dataframe tbody tr th {\n",
              "        vertical-align: top;\n",
              "    }\n",
              "\n",
              "    .dataframe thead th {\n",
              "        text-align: right;\n",
              "    }\n",
              "</style>\n",
              "<table border=\"1\" class=\"dataframe\">\n",
              "  <thead>\n",
              "    <tr style=\"text-align: right;\">\n",
              "      <th></th>\n",
              "      <th>Model</th>\n",
              "      <th>Accuracy</th>\n",
              "      <th>AUC</th>\n",
              "      <th>Recall</th>\n",
              "      <th>Prec.</th>\n",
              "      <th>F1</th>\n",
              "      <th>Encoder</th>\n",
              "      <th>Object</th>\n",
              "    </tr>\n",
              "  </thead>\n",
              "  <tbody>\n",
              "    <tr>\n",
              "      <th>0</th>\n",
              "      <td>Random Forest Classifier</td>\n",
              "      <td>0.92535</td>\n",
              "      <td>0.941316</td>\n",
              "      <td>0.96381</td>\n",
              "      <td>0.945794</td>\n",
              "      <td>0.954717</td>\n",
              "      <td>OneHotEncoder</td>\n",
              "      <td>Modelo Final</td>\n",
              "    </tr>\n",
              "    <tr>\n",
              "      <th>0</th>\n",
              "      <td>Random Forest Classifier</td>\n",
              "      <td>0.92535</td>\n",
              "      <td>0.932865</td>\n",
              "      <td>0.96000</td>\n",
              "      <td>0.949153</td>\n",
              "      <td>0.954545</td>\n",
              "      <td>OneHotEncoder</td>\n",
              "      <td>Modelo Inicial</td>\n",
              "    </tr>\n",
              "  </tbody>\n",
              "</table>\n",
              "</div>"
            ],
            "text/plain": [
              "                      Model  Accuracy  ...        Encoder          Object\n",
              "0  Random Forest Classifier   0.92535  ...  OneHotEncoder    Modelo Final\n",
              "0  Random Forest Classifier   0.92535  ...  OneHotEncoder  Modelo Inicial\n",
              "\n",
              "[2 rows x 8 columns]"
            ]
          },
          "metadata": {
            "tags": []
          },
          "execution_count": 112
        }
      ]
    },
    {
      "cell_type": "markdown",
      "metadata": {
        "id": "axs1Sm--RVDx",
        "colab_type": "text"
      },
      "source": [
        "### Salvando nosso modelo para o disco\n",
        "\n",
        "Depois de nosso modelo treinado e criado, vamos realizar a persistência no disco para podermos consumi-lo futuramente por nossa aplicação. Para isso usaremos o biblioteca [joblib](https://scikit-learn.org/stable/modules/model_persistence.html).\n",
        "\n",
        "Referência: https://scikit-learn.org/stable/modules/model_persistence.html"
      ]
    },
    {
      "cell_type": "code",
      "metadata": {
        "id": "arC3RHJVR2OM",
        "colab_type": "code",
        "colab": {}
      },
      "source": [
        "# Importando o pacote necessário\n",
        "import joblib as jb"
      ],
      "execution_count": 114,
      "outputs": []
    },
    {
      "cell_type": "code",
      "metadata": {
        "id": "w_km5tu_SZDT",
        "colab_type": "code",
        "colab": {
          "base_uri": "https://localhost:8080/",
          "height": 34
        },
        "outputId": "a4a8280b-c76b-4fcb-e69e-c180393b33a6"
      },
      "source": [
        "jb.dump(mdl, root_path + 'modelrematricula_skl.pkl')"
      ],
      "execution_count": 115,
      "outputs": [
        {
          "output_type": "execute_result",
          "data": {
            "text/plain": [
              "['drive/My Drive/TCC/modelrematricula_skl.pkl']"
            ]
          },
          "metadata": {
            "tags": []
          },
          "execution_count": 115
        }
      ]
    }
  ]
}