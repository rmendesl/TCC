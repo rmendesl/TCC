{
  "nbformat": 4,
  "nbformat_minor": 0,
  "metadata": {
    "colab": {
      "name": "03 - CreateModelPyCaret.ipynb",
      "provenance": [],
      "collapsed_sections": [],
      "authorship_tag": "ABX9TyOkab5erscqMMOkxY4i9I0w",
      "include_colab_link": true
    },
    "kernelspec": {
      "name": "python3",
      "display_name": "Python 3"
    }
  },
  "cells": [
    {
      "cell_type": "markdown",
      "metadata": {
        "id": "view-in-github",
        "colab_type": "text"
      },
      "source": [
        "<a href=\"https://colab.research.google.com/github/rmendesl/TCC/blob/master/03_CreateModelPyCaret.ipynb\" target=\"_parent\"><img src=\"https://colab.research.google.com/assets/colab-badge.svg\" alt=\"Open In Colab\"/></a>"
      ]
    },
    {
      "cell_type": "markdown",
      "metadata": {
        "id": "aZije9YyNZwF",
        "colab_type": "text"
      },
      "source": [
        "# Criando o Modelo - Supervisionado\n",
        "\n",
        "Primeiramente, devemos distinguir 4 tipos de tarefas de aprendizagem de máquina:\n",
        "* Aprendizagem supervisionada;\n",
        "* Aprendizagem não-supervisionada;\n",
        "* Aprendizagem semi-supervisionada;\n",
        "* Aprendizagem por reforço;\n",
        "\n",
        "Nosso modelo será o supervisionado, aprendizagem supervisionada é a tarefa de encontrar uma função a partir de dados de treinamento rotulados. O objetivo é encontrar os parâmetros ótimos que ajustem um modelo que possa prever rótulos desconhecidos em outros objetos (o conjunto de teste). Se o rótulo é um número real, a tarefa chama-se regressão. Se o rótulo vem de um conjunto finito e não ordenado, então a tarefa chama-se classificação, essa última será a nossa tarefa.\n",
        "\n",
        "Não iremos entrar nos detalhes dos demais tipos de aprendizagem, porém segue abaixo uma fonte para consulta.\n",
        "\n",
        "Fonte: https://medium.com/machina-sapiens/algoritmos-de-aprendizagem-de-m%C3%A1quina-qual-deles-escolher-67040ad68737\n",
        "\n"
      ]
    },
    {
      "cell_type": "markdown",
      "metadata": {
        "id": "fefua3PhP1tM",
        "colab_type": "text"
      },
      "source": [
        "## PyCaret"
      ]
    },
    {
      "cell_type": "markdown",
      "metadata": {
        "id": "mxGi8NfUQO9r",
        "colab_type": "text"
      },
      "source": [
        "Nosso primeiro modelo usará o [PyCaret](https://pycaret.org/).\n",
        "\n",
        "O que é o PyCaret? \n",
        "\n",
        "O PyCaret é uma biblioteca de código-fonte aberto para aprendizado de máquina em [Python](https://www.python.org/), que visa reduzir a hipótese de insights sobre o tempo do ciclo em um experimento de ML. Ele permite que os cientistas de dados realizem experimentos completos de maneira rápida e eficiente. Em comparação com as outras bibliotecas de aprendizado de máquina de código aberto, o PyCaret é uma biblioteca alternativa low-code que pode ser usada para executar tarefas complexas de aprendizado de máquina com apenas algumas linhas de código. PyCaret é simples e fácil de usar. Todas as operações executadas no PyCaret são armazenadas automaticamente em um pipeline personalizado totalmente orquestrado para implantação. O PyCaret é essencialmente um invólucro Python em torno de várias bibliotecas e estruturas de aprendizado de máquina, como scikit-learn, XGBoost, Microsoft LightGBM, spaCy e muito mais.\n",
        "\n",
        "Sendo o PyCaret uma biblioteca low-code, você é mais produtivo. Com menos tempo gasto em codificação, podendo se concentrar em problemas de negócios.\n",
        "\n",
        "PyCaret é uma solução pronta para negócios. Ele permite que você faça a criação de protótipos de maneira rápida e eficiente a partir da sua escolha do ambiente de notebook.\n",
        "\n"
      ]
    },
    {
      "cell_type": "code",
      "metadata": {
        "id": "40xtz8uKNKfk",
        "colab_type": "code",
        "colab": {}
      },
      "source": [
        ""
      ],
      "execution_count": null,
      "outputs": []
    }
  ]
}